{
 "cells": [
  {
   "cell_type": "code",
   "execution_count": 1,
   "metadata": {},
   "outputs": [],
   "source": [
    "import numpy as np\n",
    "import os\n",
    "import skimage\n",
    "from skimage import measure\n",
    "from collections import Counter\n",
    "import pickle\n",
    "import matplotlib.pyplot as plt\n",
    "import pandas as pd\n",
    "from radiomics import featureextractor\n",
    "from radiomics.shape import RadiomicsShape"
   ]
  },
  {
   "cell_type": "code",
   "execution_count": 3,
   "metadata": {},
   "outputs": [],
   "source": [
    "main_path = r'C:\\Users\\Wojtek\\Documents\\Doktorat\\Astral\\data\\output_data'\n",
    "\n",
    "waves = np.load(os.path.join(main_path, \"waves_morph.npy\"))"
   ]
  },
  {
   "cell_type": "code",
   "execution_count": 4,
   "metadata": {},
   "outputs": [],
   "source": [
    "path = os.path.join(main_path, 'timespace.npy')\n",
    "rel_path = os.path.join(main_path, 'segmentation_relative.h5')\n",
    "abs_path = os.path.join(main_path, 'segmentation_absolute.h5')\n",
    "dims_path = os.path.join(main_path, 'segmentation_dims.h5')\n",
    "waves_path = os.path.join(main_path, 'waves_morph.npy')"
   ]
  },
  {
   "cell_type": "code",
   "execution_count": 14,
   "metadata": {},
   "outputs": [],
   "source": [
    "timespace = np.load(path)\n",
    "waves = np.load(waves_path)\n",
    "rel = pd.read_hdf(rel_path)\n",
    "abss = pd.read_hdf(abs_path)\n",
    "dims = pd.read_hdf(dims_path)"
   ]
  },
  {
   "cell_type": "code",
   "execution_count": 15,
   "metadata": {},
   "outputs": [
    {
     "data": {
      "text/html": [
       "<div>\n",
       "<style scoped>\n",
       "    .dataframe tbody tr th:only-of-type {\n",
       "        vertical-align: middle;\n",
       "    }\n",
       "\n",
       "    .dataframe tbody tr th {\n",
       "        vertical-align: top;\n",
       "    }\n",
       "\n",
       "    .dataframe thead th {\n",
       "        text-align: right;\n",
       "    }\n",
       "</style>\n",
       "<table border=\"1\" class=\"dataframe\">\n",
       "  <thead>\n",
       "    <tr style=\"text-align: right;\">\n",
       "      <th></th>\n",
       "      <th>id</th>\n",
       "      <th>y_min</th>\n",
       "      <th>y_max</th>\n",
       "      <th>x_min</th>\n",
       "      <th>x_max</th>\n",
       "      <th>z_min</th>\n",
       "      <th>z_max</th>\n",
       "      <th>center_y</th>\n",
       "      <th>center_x</th>\n",
       "      <th>center_z</th>\n",
       "    </tr>\n",
       "  </thead>\n",
       "  <tbody>\n",
       "    <tr>\n",
       "      <th>0</th>\n",
       "      <td>0</td>\n",
       "      <td>259</td>\n",
       "      <td>345</td>\n",
       "      <td>194</td>\n",
       "      <td>268</td>\n",
       "      <td>926</td>\n",
       "      <td>1035</td>\n",
       "      <td>302</td>\n",
       "      <td>231</td>\n",
       "      <td>980</td>\n",
       "    </tr>\n",
       "    <tr>\n",
       "      <th>1</th>\n",
       "      <td>1</td>\n",
       "      <td>161</td>\n",
       "      <td>272</td>\n",
       "      <td>592</td>\n",
       "      <td>718</td>\n",
       "      <td>692</td>\n",
       "      <td>724</td>\n",
       "      <td>216</td>\n",
       "      <td>655</td>\n",
       "      <td>708</td>\n",
       "    </tr>\n",
       "    <tr>\n",
       "      <th>2</th>\n",
       "      <td>2</td>\n",
       "      <td>0</td>\n",
       "      <td>121</td>\n",
       "      <td>613</td>\n",
       "      <td>729</td>\n",
       "      <td>1134</td>\n",
       "      <td>1193</td>\n",
       "      <td>60</td>\n",
       "      <td>671</td>\n",
       "      <td>1163</td>\n",
       "    </tr>\n",
       "    <tr>\n",
       "      <th>3</th>\n",
       "      <td>3</td>\n",
       "      <td>210</td>\n",
       "      <td>303</td>\n",
       "      <td>257</td>\n",
       "      <td>345</td>\n",
       "      <td>852</td>\n",
       "      <td>906</td>\n",
       "      <td>256</td>\n",
       "      <td>301</td>\n",
       "      <td>879</td>\n",
       "    </tr>\n",
       "    <tr>\n",
       "      <th>4</th>\n",
       "      <td>4</td>\n",
       "      <td>255</td>\n",
       "      <td>397</td>\n",
       "      <td>579</td>\n",
       "      <td>692</td>\n",
       "      <td>1125</td>\n",
       "      <td>1167</td>\n",
       "      <td>326</td>\n",
       "      <td>635</td>\n",
       "      <td>1146</td>\n",
       "    </tr>\n",
       "    <tr>\n",
       "      <th>...</th>\n",
       "      <td>...</td>\n",
       "      <td>...</td>\n",
       "      <td>...</td>\n",
       "      <td>...</td>\n",
       "      <td>...</td>\n",
       "      <td>...</td>\n",
       "      <td>...</td>\n",
       "      <td>...</td>\n",
       "      <td>...</td>\n",
       "      <td>...</td>\n",
       "    </tr>\n",
       "    <tr>\n",
       "      <th>286</th>\n",
       "      <td>286</td>\n",
       "      <td>170</td>\n",
       "      <td>177</td>\n",
       "      <td>331</td>\n",
       "      <td>348</td>\n",
       "      <td>22</td>\n",
       "      <td>26</td>\n",
       "      <td>173</td>\n",
       "      <td>339</td>\n",
       "      <td>24</td>\n",
       "    </tr>\n",
       "    <tr>\n",
       "      <th>287</th>\n",
       "      <td>287</td>\n",
       "      <td>346</td>\n",
       "      <td>357</td>\n",
       "      <td>466</td>\n",
       "      <td>475</td>\n",
       "      <td>1158</td>\n",
       "      <td>1161</td>\n",
       "      <td>351</td>\n",
       "      <td>470</td>\n",
       "      <td>1159</td>\n",
       "    </tr>\n",
       "    <tr>\n",
       "      <th>288</th>\n",
       "      <td>288</td>\n",
       "      <td>332</td>\n",
       "      <td>339</td>\n",
       "      <td>297</td>\n",
       "      <td>311</td>\n",
       "      <td>17</td>\n",
       "      <td>23</td>\n",
       "      <td>335</td>\n",
       "      <td>304</td>\n",
       "      <td>20</td>\n",
       "    </tr>\n",
       "    <tr>\n",
       "      <th>289</th>\n",
       "      <td>289</td>\n",
       "      <td>338</td>\n",
       "      <td>349</td>\n",
       "      <td>338</td>\n",
       "      <td>348</td>\n",
       "      <td>1077</td>\n",
       "      <td>1080</td>\n",
       "      <td>343</td>\n",
       "      <td>343</td>\n",
       "      <td>1078</td>\n",
       "    </tr>\n",
       "    <tr>\n",
       "      <th>290</th>\n",
       "      <td>290</td>\n",
       "      <td>387</td>\n",
       "      <td>396</td>\n",
       "      <td>257</td>\n",
       "      <td>264</td>\n",
       "      <td>281</td>\n",
       "      <td>284</td>\n",
       "      <td>391</td>\n",
       "      <td>260</td>\n",
       "      <td>282</td>\n",
       "    </tr>\n",
       "  </tbody>\n",
       "</table>\n",
       "<p>291 rows × 10 columns</p>\n",
       "</div>"
      ],
      "text/plain": [
       "      id  y_min  y_max  x_min  x_max  z_min  z_max  center_y  center_x  \\\n",
       "0      0    259    345    194    268    926   1035       302       231   \n",
       "1      1    161    272    592    718    692    724       216       655   \n",
       "2      2      0    121    613    729   1134   1193        60       671   \n",
       "3      3    210    303    257    345    852    906       256       301   \n",
       "4      4    255    397    579    692   1125   1167       326       635   \n",
       "..   ...    ...    ...    ...    ...    ...    ...       ...       ...   \n",
       "286  286    170    177    331    348     22     26       173       339   \n",
       "287  287    346    357    466    475   1158   1161       351       470   \n",
       "288  288    332    339    297    311     17     23       335       304   \n",
       "289  289    338    349    338    348   1077   1080       343       343   \n",
       "290  290    387    396    257    264    281    284       391       260   \n",
       "\n",
       "     center_z  \n",
       "0         980  \n",
       "1         708  \n",
       "2        1163  \n",
       "3         879  \n",
       "4        1146  \n",
       "..        ...  \n",
       "286        24  \n",
       "287      1159  \n",
       "288        20  \n",
       "289      1078  \n",
       "290       282  \n",
       "\n",
       "[291 rows x 10 columns]"
      ]
     },
     "execution_count": 15,
     "metadata": {},
     "output_type": "execute_result"
    }
   ],
   "source": [
    "dims"
   ]
  },
  {
   "cell_type": "code",
   "execution_count": 9,
   "metadata": {},
   "outputs": [
    {
     "data": {
      "text/plain": [
       "290    1\n",
       "72     1\n",
       "92     1\n",
       "93     1\n",
       "94     1\n",
       "      ..\n",
       "194    1\n",
       "195    1\n",
       "196    1\n",
       "197    1\n",
       "0      1\n",
       "Name: id, Length: 291, dtype: int64"
      ]
     },
     "execution_count": 9,
     "metadata": {},
     "output_type": "execute_result"
    }
   ],
   "source": [
    "dims['id'].value_counts()"
   ]
  },
  {
   "cell_type": "code",
   "execution_count": null,
   "metadata": {},
   "outputs": [],
   "source": []
  },
  {
   "cell_type": "code",
   "execution_count": 166,
   "metadata": {},
   "outputs": [],
   "source": [
    "one = abss.loc[rel['id'] == 100]"
   ]
  },
  {
   "cell_type": "code",
   "execution_count": null,
   "metadata": {},
   "outputs": [],
   "source": []
  },
  {
   "cell_type": "code",
   "execution_count": 167,
   "metadata": {},
   "outputs": [],
   "source": [
    "min_x, min_y, min_z = one['x'].min(), one['y'].min(), one['z'].min()\n",
    "max_x, max_y, max_z = one['x'].max(), one['y'].max(), one['z'].max()"
   ]
  },
  {
   "cell_type": "code",
   "execution_count": 168,
   "metadata": {},
   "outputs": [],
   "source": [
    "segmentation = waves[min_x:max_x, min_y:max_y, min_z:max_z]\n",
    "img = timespace[min_x:max_x, min_y:max_y, min_z:max_z]"
   ]
  },
  {
   "cell_type": "code",
   "execution_count": 169,
   "metadata": {},
   "outputs": [],
   "source": [
    "rs = RadiomicsShape(sitk_img, sitk_mask)"
   ]
  },
  {
   "cell_type": "code",
   "execution_count": 170,
   "metadata": {},
   "outputs": [],
   "source": [
    "sv_ratio = rs.getSurfaceVolumeRatioFeatureValue()\n",
    "sphericity = rs.getSphericityFeatureValue()"
   ]
  },
  {
   "cell_type": "code",
   "execution_count": 163,
   "metadata": {},
   "outputs": [],
   "source": [
    "segmentation = segmentation.astype('int32')\n",
    "img = img.astype('uint32')"
   ]
  },
  {
   "cell_type": "code",
   "execution_count": null,
   "metadata": {},
   "outputs": [],
   "source": []
  },
  {
   "cell_type": "code",
   "execution_count": null,
   "metadata": {},
   "outputs": [],
   "source": [
    "# assume pixel size is in 1x1 mm. I am gonna assume 3rd dimension which is the depth is also 1 mm so that it is isotropic\n",
    "data_spacing = [1,1,1]\n",
    "\n",
    "sitk_img = sitk.GetImageFromArray(img)\n",
    "\n",
    "sitk_mask = sitk.GetImageFromArray(segmentation)\n",
    "\n",
    "# prepare the settings and load\n",
    "params = 'settings.yaml'\n",
    "extractor = featureextractor.RadiomicsFeatureExtractor(params)\n",
    "\n",
    "#extract \n",
    "features = {}\n",
    "features = extractor.execute(sitk_img, sitk_mask)"
   ]
  },
  {
   "cell_type": "code",
   "execution_count": null,
   "metadata": {},
   "outputs": [],
   "source": [
    "sv_ratio = extractor.getSurfaceVolumeRatioFeatureValue(sitk_img, sitk_mask)"
   ]
  },
  {
   "cell_type": "code",
   "execution_count": 103,
   "metadata": {},
   "outputs": [
    {
     "data": {
      "text/plain": [
       "OrderedDict([('diagnostics_Versions_PyRadiomics', 'v3.0'),\n",
       "             ('diagnostics_Versions_Numpy', '1.16.6'),\n",
       "             ('diagnostics_Versions_SimpleITK', '1.2.4'),\n",
       "             ('diagnostics_Versions_PyWavelet', '1.0.0'),\n",
       "             ('diagnostics_Versions_Python', '3.7.7'),\n",
       "             ('diagnostics_Configuration_Settings',\n",
       "              {'minimumROIDimensions': 2,\n",
       "               'minimumROISize': None,\n",
       "               'normalize': False,\n",
       "               'normalizeScale': 1,\n",
       "               'removeOutliers': None,\n",
       "               'resampledPixelSpacing': None,\n",
       "               'interpolator': 'sitkBSpline',\n",
       "               'preCrop': False,\n",
       "               'padDistance': 5,\n",
       "               'distances': [1],\n",
       "               'force2D': False,\n",
       "               'force2Ddimension': 0,\n",
       "               'resegmentRange': None,\n",
       "               'label': 1,\n",
       "               'additionalInfo': True}),\n",
       "             ('diagnostics_Configuration_EnabledImageTypes', {'Original': {}}),\n",
       "             ('diagnostics_Image-original_Hash',\n",
       "              '96a698819b9bbca433d910eed5fe7f2da05f492c'),\n",
       "             ('diagnostics_Image-original_Dimensionality', '3D'),\n",
       "             ('diagnostics_Image-original_Spacing', (1.0, 1.0, 1.0)),\n",
       "             ('diagnostics_Image-original_Size', (18, 17, 15)),\n",
       "             ('diagnostics_Image-original_Mean', 72.59803921568627),\n",
       "             ('diagnostics_Image-original_Minimum', 34.0),\n",
       "             ('diagnostics_Image-original_Maximum', 129.0),\n",
       "             ('diagnostics_Mask-original_Hash',\n",
       "              'c71525393a5dd73f9d00daed96aa14fd7adb68fd'),\n",
       "             ('diagnostics_Mask-original_Spacing', (1.0, 1.0, 1.0)),\n",
       "             ('diagnostics_Mask-original_Size', (18, 17, 15)),\n",
       "             ('diagnostics_Mask-original_BoundingBox', (0, 6, 7, 18, 5, 4)),\n",
       "             ('diagnostics_Mask-original_VoxelNum', 48),\n",
       "             ('diagnostics_Mask-original_VolumeNum', 3),\n",
       "             ('diagnostics_Mask-original_CenterOfMassIndex',\n",
       "              (8.0, 7.833333333333333, 8.5)),\n",
       "             ('diagnostics_Mask-original_CenterOfMass',\n",
       "              (8.0, 7.833333333333333, 8.5)),\n",
       "             ('original_shape_Elongation', 0.17378523078751135),\n",
       "             ('original_shape_Flatness', 0.16026131498343052),\n",
       "             ('original_shape_LeastAxisLength', 4.472135954999581),\n",
       "             ('original_shape_MajorAxisLength', 27.90527430441936),\n",
       "             ('original_shape_Maximum2DDiameterColumn', array(18.24828759)),\n",
       "             ('original_shape_Maximum2DDiameterRow', array(5.)),\n",
       "             ('original_shape_Maximum2DDiameterSlice', array(18.24828759)),\n",
       "             ('original_shape_Maximum3DDiameter', array(18.49324201)),\n",
       "             ('original_shape_MeshVolume', array(36.5)),\n",
       "             ('original_shape_MinorAxisLength', 4.849524535182329),\n",
       "             ('original_shape_Sphericity', array(0.48327514)),\n",
       "             ('original_shape_SurfaceArea', array(110.10784067)),\n",
       "             ('original_shape_SurfaceVolumeRatio', array(3.01665317)),\n",
       "             ('original_shape_VoxelVolume', 48.0),\n",
       "             ('original_firstorder_10Percentile', array(53.7)),\n",
       "             ('original_firstorder_90Percentile', array(79.3)),\n",
       "             ('original_firstorder_Energy', array(206549.)),\n",
       "             ('original_firstorder_Entropy', array(0.7905732)),\n",
       "             ('original_firstorder_InterquartileRange', array(14.25)),\n",
       "             ('original_firstorder_Kurtosis', array(5.22914228)),\n",
       "             ('original_firstorder_Maximum', array(106.)),\n",
       "             ('original_firstorder_MeanAbsoluteDeviation', array(8.75347222)),\n",
       "             ('original_firstorder_Mean', array(64.64583333)),\n",
       "             ('original_firstorder_Median', array(62.)),\n",
       "             ('original_firstorder_Minimum', array(51.)),\n",
       "             ('original_firstorder_Range', array(55.)),\n",
       "             ('original_firstorder_RobustMeanAbsoluteDeviation',\n",
       "              array(6.00277008)),\n",
       "             ('original_firstorder_RootMeanSquared', array(65.59805002)),\n",
       "             ('original_firstorder_Skewness', array(1.3373579)),\n",
       "             ('original_firstorder_TotalEnergy', array(206549.)),\n",
       "             ('original_firstorder_Uniformity', array(0.68836806)),\n",
       "             ('original_firstorder_Variance', array(124.02039931)),\n",
       "             ('original_glcm_Autocorrelation', array(1.37962963)),\n",
       "             ('original_glcm_ClusterProminence', array(1.1490603)),\n",
       "             ('original_glcm_ClusterShade', array(0.52646676)),\n",
       "             ('original_glcm_ClusterTendency', array(0.38981053)),\n",
       "             ('original_glcm_Contrast', array(0.22453704)),\n",
       "             ('original_glcm_Correlation', array(0.3443013)),\n",
       "             ('original_glcm_DifferenceAverage', array(0.20601852)),\n",
       "             ('original_glcm_DifferenceEntropy', array(0.69736703)),\n",
       "             ('original_glcm_DifferenceVariance', array(0.16810271)),\n",
       "             ('original_glcm_Id', array(0.90007716)),\n",
       "             ('original_glcm_Idm', array(0.89884259)),\n",
       "             ('original_glcm_Idmn', array(0.978401)),\n",
       "             ('original_glcm_Idn', array(0.9494213)),\n",
       "             ('original_glcm_Imc1', array(-0.23160639)),\n",
       "             ('original_glcm_Imc2', array(0.45055604)),\n",
       "             ('original_glcm_InverseVariance', array(0.18981481)),\n",
       "             ('original_glcm_JointAverage', array(1.15625)),\n",
       "             ('original_glcm_JointEnergy', array(0.6119363)),\n",
       "             ('original_glcm_JointEntropy', array(1.1634096)),\n",
       "             ('original_glcm_MCC', array(0.4423881)),\n",
       "             ('original_glcm_MaximumProbability', array(0.76388889)),\n",
       "             ('original_glcm_SumAverage', array(2.3125)),\n",
       "             ('original_glcm_SumEntropy', array(0.96665034)),\n",
       "             ('original_glcm_SumSquares', array(0.15358689)),\n",
       "             ('original_gldm_DependenceEntropy', array(2.89108592)),\n",
       "             ('original_gldm_DependenceNonUniformity', array(7.79166667)),\n",
       "             ('original_gldm_DependenceNonUniformityNormalized',\n",
       "              array(0.16232639)),\n",
       "             ('original_gldm_DependenceVariance', array(4.28993056)),\n",
       "             ('original_gldm_GrayLevelNonUniformity', array(33.04166667)),\n",
       "             ('original_gldm_GrayLevelVariance', array(0.20659722)),\n",
       "             ('original_gldm_HighGrayLevelEmphasis', array(1.66666667)),\n",
       "             ('original_gldm_LargeDependenceEmphasis', array(31.41666667)),\n",
       "             ('original_gldm_LargeDependenceHighGrayLevelEmphasis',\n",
       "              array(34.33333333)),\n",
       "             ('original_gldm_LargeDependenceLowGrayLevelEmphasis',\n",
       "              array(30.71064815)),\n",
       "             ('original_gldm_LowGrayLevelEmphasis', array(0.85648148)),\n",
       "             ('original_gldm_SmallDependenceEmphasis', array(0.09766958)),\n",
       "             ('original_gldm_SmallDependenceHighGrayLevelEmphasis',\n",
       "              array(0.41016958)),\n",
       "             ('original_gldm_SmallDependenceLowGrayLevelEmphasis',\n",
       "              array(0.04269272)),\n",
       "             ('original_glrlm_GrayLevelNonUniformity', array(16.20874801)),\n",
       "             ('original_glrlm_GrayLevelNonUniformityNormalized',\n",
       "              array(0.55565953)),\n",
       "             ('original_glrlm_GrayLevelVariance', array(0.30286613)),\n",
       "             ('original_glrlm_HighGrayLevelRunEmphasis', array(2.14671451)),\n",
       "             ('original_glrlm_LongRunEmphasis', array(4.97971292)),\n",
       "             ('original_glrlm_LongRunHighGrayLevelEmphasis',\n",
       "              array(6.56953748)),\n",
       "             ('original_glrlm_LongRunLowGrayLevelEmphasis', array(4.62720184)),\n",
       "             ('original_glrlm_LowGrayLevelRunEmphasis', array(0.75826644)),\n",
       "             ('original_glrlm_RunEntropy', array(2.02595226)),\n",
       "             ('original_glrlm_RunLengthNonUniformity', array(15.41818182)),\n",
       "             ('original_glrlm_RunLengthNonUniformityNormalized',\n",
       "              array(0.44600348)),\n",
       "             ('original_glrlm_RunPercentage', array(0.57916667)),\n",
       "             ('original_glrlm_RunVariance', array(0.88719251)),\n",
       "             ('original_glrlm_ShortRunEmphasis', array(0.57350445)),\n",
       "             ('original_glrlm_ShortRunHighGrayLevelEmphasis',\n",
       "              array(1.60944145)),\n",
       "             ('original_glrlm_ShortRunLowGrayLevelEmphasis',\n",
       "              array(0.35946527)),\n",
       "             ('original_glszm_GrayLevelNonUniformity', array(3.25)),\n",
       "             ('original_glszm_GrayLevelNonUniformityNormalized',\n",
       "              array(0.40625)),\n",
       "             ('original_glszm_GrayLevelVariance', array(0.4375)),\n",
       "             ('original_glszm_HighGrayLevelZoneEmphasis', array(3.5)),\n",
       "             ('original_glszm_LargeAreaEmphasis', array(65.75)),\n",
       "             ('original_glszm_LargeAreaHighGrayLevelEmphasis', array(73.5)),\n",
       "             ('original_glszm_LargeAreaLowGrayLevelEmphasis',\n",
       "              array(63.95138889)),\n",
       "             ('original_glszm_LowGrayLevelZoneEmphasis', array(0.51388889)),\n",
       "             ('original_glszm_SizeZoneNonUniformity', array(2.25)),\n",
       "             ('original_glszm_SizeZoneNonUniformityNormalized',\n",
       "              array(0.28125)),\n",
       "             ('original_glszm_SmallAreaEmphasis', array(0.32860782)),\n",
       "             ('original_glszm_SmallAreaHighGrayLevelEmphasis',\n",
       "              array(1.93277449)),\n",
       "             ('original_glszm_SmallAreaLowGrayLevelEmphasis',\n",
       "              array(0.06645505)),\n",
       "             ('original_glszm_ZoneEntropy', array(2.15563906)),\n",
       "             ('original_glszm_ZonePercentage', array(0.16666667)),\n",
       "             ('original_glszm_ZoneVariance', array(29.75)),\n",
       "             ('original_ngtdm_Busyness', array(1.27123843)),\n",
       "             ('original_ngtdm_Coarseness', array(0.2622115)),\n",
       "             ('original_ngtdm_Complexity', array(0.64642587)),\n",
       "             ('original_ngtdm_Contrast', array(0.01407204)),\n",
       "             ('original_ngtdm_Strength', array(0.91758709))])"
      ]
     },
     "execution_count": 103,
     "metadata": {},
     "output_type": "execute_result"
    }
   ],
   "source": [
    "features"
   ]
  },
  {
   "cell_type": "code",
   "execution_count": null,
   "metadata": {},
   "outputs": [],
   "source": []
  },
  {
   "cell_type": "code",
   "execution_count": null,
   "metadata": {},
   "outputs": [],
   "source": []
  },
  {
   "cell_type": "code",
   "execution_count": null,
   "metadata": {},
   "outputs": [],
   "source": []
  },
  {
   "cell_type": "code",
   "execution_count": null,
   "metadata": {},
   "outputs": [],
   "source": []
  },
  {
   "cell_type": "code",
   "execution_count": null,
   "metadata": {},
   "outputs": [],
   "source": []
  },
  {
   "cell_type": "code",
   "execution_count": null,
   "metadata": {},
   "outputs": [],
   "source": []
  },
  {
   "cell_type": "code",
   "execution_count": null,
   "metadata": {},
   "outputs": [],
   "source": []
  },
  {
   "cell_type": "code",
   "execution_count": 38,
   "metadata": {},
   "outputs": [],
   "source": [
    "import SimpleITK as sitk"
   ]
  },
  {
   "cell_type": "code",
   "execution_count": null,
   "metadata": {},
   "outputs": [],
   "source": []
  },
  {
   "cell_type": "code",
   "execution_count": null,
   "metadata": {},
   "outputs": [],
   "source": []
  },
  {
   "cell_type": "code",
   "execution_count": null,
   "metadata": {},
   "outputs": [],
   "source": []
  },
  {
   "cell_type": "code",
   "execution_count": 34,
   "metadata": {},
   "outputs": [
    {
     "data": {
      "text/plain": [
       "array([  0, 255], dtype=uint8)"
      ]
     },
     "execution_count": 34,
     "metadata": {},
     "output_type": "execute_result"
    }
   ],
   "source": [
    "un"
   ]
  },
  {
   "cell_type": "code",
   "execution_count": null,
   "metadata": {},
   "outputs": [],
   "source": []
  },
  {
   "cell_type": "code",
   "execution_count": 19,
   "metadata": {},
   "outputs": [],
   "source": [
    "import radiomics"
   ]
  },
  {
   "cell_type": "code",
   "execution_count": null,
   "metadata": {},
   "outputs": [],
   "source": []
  },
  {
   "cell_type": "code",
   "execution_count": null,
   "metadata": {},
   "outputs": [],
   "source": [
    "img_slice = np.load('img.npy')\n",
    "mask_slice = np.load('mask.npy')\n",
    "\n",
    "# assume pixel size is in 1x1 mm. I am gonna assume 3rd dimension which is the depth is also 1 mm so that it is isotropic\n",
    "data_spacing = [1,1,1]\n",
    "\n",
    "sitk_img = sitk.GetImageFromArray(img_slice)\n",
    "sitk_img.SetSpacing((float(data_spacing[0]), float(data_spacing[1]), float(data_spacing[2]) ))\n",
    "sitk_img = sitk.JoinSeries(sitk_img)\n",
    "\n",
    "sitk_mask = sitk.GetImageFromArray(mask_slice)\n",
    "sitk_mask.SetSpacing((float(data_spacing[0]), float(data_spacing[1]), float(data_spacing[2]) ))\n",
    "sitk_mask = sitk.JoinSeries(sitk_mask)\n",
    "sitk_mask = sitk.Cast(sitk_mask, sitk.sitkInt32) # MAKE SURE IT IS CASTED IN INT\n",
    "\n",
    "# prepare the settings and load\n",
    "params = 'settings.yaml'\n",
    "extractor = featureextractor.RadiomicsFeaturesExtractor(params)\n",
    "\n",
    "#extract \n",
    "features = {}\n",
    "features = extractor.execute(sitk_img, sitk_mask)"
   ]
  },
  {
   "cell_type": "code",
   "execution_count": null,
   "metadata": {},
   "outputs": [],
   "source": []
  },
  {
   "cell_type": "code",
   "execution_count": null,
   "metadata": {},
   "outputs": [],
   "source": []
  },
  {
   "cell_type": "code",
   "execution_count": null,
   "metadata": {},
   "outputs": [],
   "source": []
  },
  {
   "cell_type": "code",
   "execution_count": null,
   "metadata": {},
   "outputs": [],
   "source": []
  },
  {
   "cell_type": "code",
   "execution_count": null,
   "metadata": {},
   "outputs": [],
   "source": []
  },
  {
   "cell_type": "code",
   "execution_count": 9,
   "metadata": {},
   "outputs": [
    {
     "data": {
      "text/plain": [
       "291"
      ]
     },
     "execution_count": 9,
     "metadata": {},
     "output_type": "execute_result"
    }
   ],
   "source": [
    "dims.shape[0]"
   ]
  },
  {
   "cell_type": "code",
   "execution_count": 10,
   "metadata": {},
   "outputs": [
    {
     "data": {
      "text/html": [
       "<div>\n",
       "<style scoped>\n",
       "    .dataframe tbody tr th:only-of-type {\n",
       "        vertical-align: middle;\n",
       "    }\n",
       "\n",
       "    .dataframe tbody tr th {\n",
       "        vertical-align: top;\n",
       "    }\n",
       "\n",
       "    .dataframe thead th {\n",
       "        text-align: right;\n",
       "    }\n",
       "</style>\n",
       "<table border=\"1\" class=\"dataframe\">\n",
       "  <thead>\n",
       "    <tr style=\"text-align: right;\">\n",
       "      <th></th>\n",
       "      <th>id</th>\n",
       "      <th>y</th>\n",
       "      <th>x</th>\n",
       "      <th>z</th>\n",
       "      <th>color</th>\n",
       "    </tr>\n",
       "  </thead>\n",
       "  <tbody>\n",
       "  </tbody>\n",
       "</table>\n",
       "</div>"
      ],
      "text/plain": [
       "Empty DataFrame\n",
       "Columns: [id, y, x, z, color]\n",
       "Index: []"
      ]
     },
     "execution_count": 10,
     "metadata": {},
     "output_type": "execute_result"
    }
   ],
   "source": [
    "rel.loc[rel['id'] == 280]"
   ]
  },
  {
   "cell_type": "code",
   "execution_count": 12,
   "metadata": {},
   "outputs": [
    {
     "data": {
      "text/plain": [
       "0      163814\n",
       "1      146787\n",
       "2      138464\n",
       "3      120849\n",
       "4      105492\n",
       "        ...  \n",
       "251       263\n",
       "252       261\n",
       "253       260\n",
       "254       260\n",
       "255       259\n",
       "Name: id, Length: 256, dtype: int64"
      ]
     },
     "execution_count": 12,
     "metadata": {},
     "output_type": "execute_result"
    }
   ],
   "source": [
    "rel['id'].value_counts()"
   ]
  },
  {
   "cell_type": "code",
   "execution_count": 39,
   "metadata": {},
   "outputs": [
    {
     "data": {
      "text/plain": [
       "dtype('uint8')"
      ]
     },
     "execution_count": 39,
     "metadata": {},
     "output_type": "execute_result"
    }
   ],
   "source": [
    "waves.dtype"
   ]
  },
  {
   "cell_type": "code",
   "execution_count": 40,
   "metadata": {},
   "outputs": [],
   "source": [
    "a = measure.label(waves, connectivity=3).astype('uint16')"
   ]
  },
  {
   "cell_type": "code",
   "execution_count": 41,
   "metadata": {},
   "outputs": [],
   "source": [
    "uniq, counts = np.unique(a, return_counts=True)"
   ]
  },
  {
   "cell_type": "code",
   "execution_count": 42,
   "metadata": {},
   "outputs": [],
   "source": [
    "labels = uniq[1:]\n",
    "counts = counts[1:]"
   ]
  },
  {
   "cell_type": "code",
   "execution_count": 43,
   "metadata": {},
   "outputs": [],
   "source": [
    "sample = labels[:10]"
   ]
  },
  {
   "cell_type": "code",
   "execution_count": 44,
   "metadata": {},
   "outputs": [],
   "source": [
    "def indices_label(array, label):\n",
    "    return np.argwhere(array == label)"
   ]
  },
  {
   "cell_type": "code",
   "execution_count": 45,
   "metadata": {},
   "outputs": [
    {
     "data": {
      "text/plain": [
       "2908"
      ]
     },
     "execution_count": 45,
     "metadata": {},
     "output_type": "execute_result"
    }
   ],
   "source": [
    "len(uniq)"
   ]
  },
  {
   "cell_type": "code",
   "execution_count": 46,
   "metadata": {},
   "outputs": [
    {
     "data": {
      "text/plain": [
       "2907"
      ]
     },
     "execution_count": 46,
     "metadata": {},
     "output_type": "execute_result"
    }
   ],
   "source": [
    "len(counts)"
   ]
  },
  {
   "cell_type": "code",
   "execution_count": 47,
   "metadata": {},
   "outputs": [],
   "source": [
    "label_counts = list(zip(labels, counts))"
   ]
  },
  {
   "cell_type": "code",
   "execution_count": 48,
   "metadata": {},
   "outputs": [],
   "source": [
    "count_filtered = list(filter(lambda x: x[1] > 30, label_counts))"
   ]
  },
  {
   "cell_type": "code",
   "execution_count": 49,
   "metadata": {},
   "outputs": [],
   "source": [
    "labels, counts = zip(*count_filtered)"
   ]
  },
  {
   "cell_type": "code",
   "execution_count": 50,
   "metadata": {},
   "outputs": [],
   "source": [
    "inds = indices_label(a, 2)"
   ]
  },
  {
   "cell_type": "code",
   "execution_count": 51,
   "metadata": {},
   "outputs": [],
   "source": [
    "from joblib import Parallel, delayed"
   ]
  },
  {
   "cell_type": "code",
   "execution_count": 52,
   "metadata": {},
   "outputs": [
    {
     "name": "stderr",
     "output_type": "stream",
     "text": [
      "[Parallel(n_jobs=3)]: Using backend LokyBackend with 3 concurrent workers.\n",
      "[Parallel(n_jobs=3)]: Done   2 tasks      | elapsed:    4.0s\n",
      "[Parallel(n_jobs=3)]: Done   7 tasks      | elapsed:    9.1s\n",
      "[Parallel(n_jobs=3)]: Done  12 tasks      | elapsed:   12.0s\n",
      "[Parallel(n_jobs=3)]: Done  19 tasks      | elapsed:   19.5s\n",
      "[Parallel(n_jobs=3)]: Done  26 tasks      | elapsed:   25.0s\n",
      "[Parallel(n_jobs=3)]: Done  35 tasks      | elapsed:   32.8s\n",
      "[Parallel(n_jobs=3)]: Done  44 tasks      | elapsed:   40.7s\n",
      "[Parallel(n_jobs=3)]: Done  55 tasks      | elapsed:   50.9s\n",
      "[Parallel(n_jobs=3)]: Done  66 tasks      | elapsed:   59.4s\n",
      "[Parallel(n_jobs=3)]: Done  79 tasks      | elapsed:  1.2min\n",
      "[Parallel(n_jobs=3)]: Done  92 tasks      | elapsed:  1.4min\n",
      "[Parallel(n_jobs=3)]: Done 107 tasks      | elapsed:  1.6min\n",
      "[Parallel(n_jobs=3)]: Done 122 tasks      | elapsed:  1.8min\n",
      "[Parallel(n_jobs=3)]: Done 139 tasks      | elapsed:  2.1min\n",
      "[Parallel(n_jobs=3)]: Done 156 tasks      | elapsed:  2.3min\n",
      "[Parallel(n_jobs=3)]: Done 175 tasks      | elapsed:  2.6min\n",
      "[Parallel(n_jobs=3)]: Done 194 tasks      | elapsed:  2.9min\n",
      "[Parallel(n_jobs=3)]: Done 215 tasks      | elapsed:  3.2min\n",
      "[Parallel(n_jobs=3)]: Done 236 tasks      | elapsed:  3.5min\n",
      "[Parallel(n_jobs=3)]: Done 259 tasks      | elapsed:  3.8min\n",
      "[Parallel(n_jobs=3)]: Done 282 tasks      | elapsed:  4.1min\n",
      "[Parallel(n_jobs=3)]: Done 307 tasks      | elapsed:  4.5min\n",
      "[Parallel(n_jobs=3)]: Done 332 tasks      | elapsed:  4.9min\n",
      "[Parallel(n_jobs=3)]: Done 359 tasks      | elapsed:  5.3min\n",
      "[Parallel(n_jobs=3)]: Done 386 tasks      | elapsed:  5.7min\n",
      "[Parallel(n_jobs=3)]: Done 415 tasks      | elapsed:  6.1min\n",
      "[Parallel(n_jobs=3)]: Done 444 tasks      | elapsed:  6.6min\n",
      "[Parallel(n_jobs=3)]: Done 475 tasks      | elapsed:  7.0min\n",
      "[Parallel(n_jobs=3)]: Done 506 tasks      | elapsed:  7.5min\n",
      "[Parallel(n_jobs=3)]: Done 539 tasks      | elapsed:  8.0min\n",
      "[Parallel(n_jobs=3)]: Done 572 tasks      | elapsed:  8.4min\n",
      "[Parallel(n_jobs=3)]: Done 607 tasks      | elapsed:  9.0min\n",
      "[Parallel(n_jobs=3)]: Done 642 tasks      | elapsed:  9.5min\n",
      "[Parallel(n_jobs=3)]: Done 679 tasks      | elapsed: 10.0min\n",
      "[Parallel(n_jobs=3)]: Done 716 tasks      | elapsed: 10.6min\n",
      "[Parallel(n_jobs=3)]: Done 755 tasks      | elapsed: 11.2min\n",
      "[Parallel(n_jobs=3)]: Done 794 tasks      | elapsed: 11.7min\n",
      "[Parallel(n_jobs=3)]: Done 835 tasks      | elapsed: 12.3min\n",
      "[Parallel(n_jobs=3)]: Done 876 tasks      | elapsed: 12.9min\n",
      "[Parallel(n_jobs=3)]: Done 919 tasks      | elapsed: 13.5min\n",
      "[Parallel(n_jobs=3)]: Done 962 tasks      | elapsed: 14.2min\n",
      "[Parallel(n_jobs=3)]: Done 1007 tasks      | elapsed: 14.8min\n",
      "[Parallel(n_jobs=3)]: Done 1041 out of 1041 | elapsed: 15.3min finished\n"
     ]
    }
   ],
   "source": [
    "b = Parallel(n_jobs=3, verbose=10)(delayed(indices_label)(a, label) for label in labels)"
   ]
  },
  {
   "cell_type": "code",
   "execution_count": 53,
   "metadata": {},
   "outputs": [],
   "source": [
    "with open(os.path.join(debug_path, 'waves_inds.pck'), 'wb') as file:\n",
    "        pickle.dump(b, file)"
   ]
  },
  {
   "cell_type": "code",
   "execution_count": null,
   "metadata": {},
   "outputs": [],
   "source": []
  },
  {
   "cell_type": "code",
   "execution_count": 12,
   "metadata": {},
   "outputs": [
    {
     "data": {
      "text/plain": [
       "[array([[0, 0, 5],\n",
       "        [0, 1, 5],\n",
       "        [0, 2, 5],\n",
       "        [0, 3, 5],\n",
       "        [1, 0, 5],\n",
       "        [1, 1, 5],\n",
       "        [1, 2, 5],\n",
       "        [1, 3, 5],\n",
       "        [2, 0, 5],\n",
       "        [2, 1, 5],\n",
       "        [2, 2, 5],\n",
       "        [2, 3, 5],\n",
       "        [3, 0, 5],\n",
       "        [3, 1, 5],\n",
       "        [3, 2, 5],\n",
       "        [3, 3, 5]], dtype=int64),\n",
       " array([[ 0,  0, 46],\n",
       "        [ 0,  1, 46],\n",
       "        [ 0,  2, 46],\n",
       "        [ 0,  3, 46],\n",
       "        [ 1,  0, 46],\n",
       "        [ 1,  1, 46],\n",
       "        [ 1,  2, 46],\n",
       "        [ 1,  3, 46],\n",
       "        [ 2,  0, 46],\n",
       "        [ 2,  1, 46],\n",
       "        [ 2,  2, 46],\n",
       "        [ 2,  3, 46],\n",
       "        [ 3,  0, 46],\n",
       "        [ 3,  1, 46],\n",
       "        [ 3,  2, 46],\n",
       "        [ 3,  3, 46]], dtype=int64),\n",
       " array([[ 0, 29,  3],\n",
       "        [ 0, 30,  3],\n",
       "        [ 0, 31,  3],\n",
       "        [ 0, 32,  3],\n",
       "        [ 1, 29,  3],\n",
       "        [ 1, 30,  3],\n",
       "        [ 1, 31,  3],\n",
       "        [ 1, 32,  3],\n",
       "        [ 2, 29,  3],\n",
       "        [ 2, 30,  3],\n",
       "        [ 2, 31,  3],\n",
       "        [ 2, 32,  3],\n",
       "        [ 3, 29,  3],\n",
       "        [ 3, 30,  3],\n",
       "        [ 3, 31,  3],\n",
       "        [ 3, 32,  3]], dtype=int64),\n",
       " array([[ 0, 39,  6],\n",
       "        [ 0, 40,  6],\n",
       "        [ 0, 41,  6],\n",
       "        [ 0, 42,  6],\n",
       "        [ 1, 39,  6],\n",
       "        [ 1, 40,  6],\n",
       "        [ 1, 41,  6],\n",
       "        [ 1, 42,  6],\n",
       "        [ 2, 39,  6],\n",
       "        [ 2, 40,  6],\n",
       "        [ 2, 41,  6],\n",
       "        [ 2, 42,  6],\n",
       "        [ 3, 39,  6],\n",
       "        [ 3, 40,  6],\n",
       "        [ 3, 41,  6],\n",
       "        [ 3, 42,  6],\n",
       "        [ 4, 39,  6],\n",
       "        [ 4, 40,  6],\n",
       "        [ 4, 41,  6],\n",
       "        [ 4, 42,  6]], dtype=int64),\n",
       " array([[ 0, 43, 29],\n",
       "        [ 0, 44, 29],\n",
       "        [ 0, 45, 29],\n",
       "        [ 0, 46, 29],\n",
       "        [ 1, 43, 29],\n",
       "        [ 1, 44, 29],\n",
       "        [ 1, 45, 29],\n",
       "        [ 1, 46, 29],\n",
       "        [ 2, 43, 29],\n",
       "        [ 2, 44, 29],\n",
       "        [ 2, 45, 29],\n",
       "        [ 2, 46, 29],\n",
       "        [ 3, 43, 29],\n",
       "        [ 3, 44, 29],\n",
       "        [ 3, 45, 29],\n",
       "        [ 3, 46, 29]], dtype=int64),\n",
       " array([[ 0, 44,  5],\n",
       "        [ 0, 45,  5],\n",
       "        [ 0, 46,  5],\n",
       "        [ 0, 47,  5],\n",
       "        [ 1, 44,  5],\n",
       "        [ 1, 45,  5],\n",
       "        [ 1, 46,  5],\n",
       "        [ 1, 47,  5],\n",
       "        [ 2, 44,  5],\n",
       "        [ 2, 45,  5],\n",
       "        [ 2, 46,  5],\n",
       "        [ 2, 47,  5],\n",
       "        [ 3, 44,  5],\n",
       "        [ 3, 45,  5],\n",
       "        [ 3, 46,  5],\n",
       "        [ 3, 47,  5]], dtype=int64),\n",
       " array([[ 0, 83,  1],\n",
       "        [ 0, 84,  1],\n",
       "        [ 0, 85,  1],\n",
       "        [ 0, 86,  1],\n",
       "        [ 0, 87,  1],\n",
       "        [ 1, 83,  1],\n",
       "        [ 1, 84,  1],\n",
       "        [ 1, 85,  1],\n",
       "        [ 1, 86,  1],\n",
       "        [ 1, 87,  1],\n",
       "        [ 2, 83,  1],\n",
       "        [ 2, 84,  1],\n",
       "        [ 2, 85,  1],\n",
       "        [ 2, 86,  1],\n",
       "        [ 2, 87,  1],\n",
       "        [ 3, 83,  1],\n",
       "        [ 3, 84,  1],\n",
       "        [ 3, 85,  1],\n",
       "        [ 3, 86,  1],\n",
       "        [ 3, 87,  1]], dtype=int64),\n",
       " array([[ 0, 85,  7],\n",
       "        [ 0, 86,  7],\n",
       "        [ 0, 87,  7],\n",
       "        [ 0, 88,  7],\n",
       "        [ 1, 85,  7],\n",
       "        [ 1, 86,  7],\n",
       "        [ 1, 87,  7],\n",
       "        [ 1, 88,  7],\n",
       "        [ 2, 85,  7],\n",
       "        [ 2, 86,  7],\n",
       "        [ 2, 87,  7],\n",
       "        [ 2, 88,  7],\n",
       "        [ 3, 85,  7],\n",
       "        [ 3, 86,  7],\n",
       "        [ 3, 87,  7],\n",
       "        [ 3, 88,  7]], dtype=int64),\n",
       " array([[ 0, 93, 79],\n",
       "        [ 0, 94, 79],\n",
       "        [ 0, 95, 79],\n",
       "        [ 0, 96, 79],\n",
       "        [ 1, 93, 79],\n",
       "        [ 1, 94, 79],\n",
       "        [ 1, 95, 79],\n",
       "        [ 1, 96, 79],\n",
       "        [ 2, 93, 79],\n",
       "        [ 2, 94, 79],\n",
       "        [ 2, 95, 79],\n",
       "        [ 2, 96, 79],\n",
       "        [ 3, 93, 79],\n",
       "        [ 3, 94, 79],\n",
       "        [ 3, 95, 79],\n",
       "        [ 3, 96, 79]], dtype=int64),\n",
       " array([[  0,  99,  16],\n",
       "        [  0, 100,  16],\n",
       "        [  0, 101,  16],\n",
       "        [  0, 102,  16],\n",
       "        [  1,  99,  16],\n",
       "        [  1, 100,  16],\n",
       "        [  1, 101,  16],\n",
       "        [  1, 102,  16],\n",
       "        [  2,  99,  16],\n",
       "        [  2, 100,  16],\n",
       "        [  2, 101,  16],\n",
       "        [  2, 102,  16],\n",
       "        [  3,  99,  16],\n",
       "        [  3, 100,  16],\n",
       "        [  3, 101,  16],\n",
       "        [  3, 102,  16]], dtype=int64)]"
      ]
     },
     "execution_count": 12,
     "metadata": {},
     "output_type": "execute_result"
    }
   ],
   "source": [
    "b"
   ]
  },
  {
   "cell_type": "code",
   "execution_count": null,
   "metadata": {},
   "outputs": [],
   "source": []
  },
  {
   "cell_type": "code",
   "execution_count": null,
   "metadata": {},
   "outputs": [],
   "source": []
  },
  {
   "cell_type": "code",
   "execution_count": null,
   "metadata": {},
   "outputs": [],
   "source": []
  },
  {
   "cell_type": "code",
   "execution_count": 13,
   "metadata": {},
   "outputs": [],
   "source": [
    "import multiprocessing as mp\n",
    "pool = mp.Pool(mp.cpu_count())"
   ]
  },
  {
   "cell_type": "code",
   "execution_count": null,
   "metadata": {},
   "outputs": [],
   "source": [
    "results = pool.map(indices_label, [label for label in sample])"
   ]
  },
  {
   "cell_type": "code",
   "execution_count": null,
   "metadata": {},
   "outputs": [],
   "source": []
  },
  {
   "cell_type": "code",
   "execution_count": null,
   "metadata": {},
   "outputs": [],
   "source": []
  },
  {
   "cell_type": "code",
   "execution_count": 26,
   "metadata": {},
   "outputs": [],
   "source": []
  },
  {
   "cell_type": "code",
   "execution_count": 21,
   "metadata": {},
   "outputs": [],
   "source": [
    "with open(os.path.join(debug_path, 'waves_inds.pck'), 'rb') as file:\n",
    "    winds = pickle.load(file)"
   ]
  },
  {
   "cell_type": "code",
   "execution_count": 23,
   "metadata": {},
   "outputs": [],
   "source": []
  },
  {
   "cell_type": "code",
   "execution_count": 17,
   "metadata": {},
   "outputs": [
    {
     "data": {
      "text/plain": [
       "array([698001712,        16,        16, ...,        39,         6,\n",
       "               4], dtype=int64)"
      ]
     },
     "execution_count": 17,
     "metadata": {},
     "output_type": "execute_result"
    }
   ],
   "source": [
    "counts"
   ]
  },
  {
   "cell_type": "code",
   "execution_count": 18,
   "metadata": {},
   "outputs": [],
   "source": [
    "inds = np.argwhere(a == 1)"
   ]
  },
  {
   "cell_type": "code",
   "execution_count": 36,
   "metadata": {},
   "outputs": [],
   "source": [
    "label = labels[1]"
   ]
  },
  {
   "cell_type": "code",
   "execution_count": 37,
   "metadata": {},
   "outputs": [
    {
     "data": {
      "text/plain": [
       "2"
      ]
     },
     "execution_count": 37,
     "metadata": {},
     "output_type": "execute_result"
    }
   ],
   "source": [
    "label"
   ]
  },
  {
   "cell_type": "code",
   "execution_count": 42,
   "metadata": {},
   "outputs": [],
   "source": [
    "output = [np.argwhere(a == label) for label in list(labels[:10])]"
   ]
  },
  {
   "cell_type": "code",
   "execution_count": 44,
   "metadata": {},
   "outputs": [],
   "source": [
    "m = output[1]"
   ]
  },
  {
   "cell_type": "code",
   "execution_count": null,
   "metadata": {},
   "outputs": [],
   "source": []
  },
  {
   "cell_type": "code",
   "execution_count": 51,
   "metadata": {},
   "outputs": [],
   "source": []
  },
  {
   "cell_type": "code",
   "execution_count": 52,
   "metadata": {},
   "outputs": [],
   "source": []
  },
  {
   "cell_type": "code",
   "execution_count": 56,
   "metadata": {},
   "outputs": [],
   "source": []
  },
  {
   "cell_type": "code",
   "execution_count": null,
   "metadata": {},
   "outputs": [],
   "source": []
  },
  {
   "cell_type": "code",
   "execution_count": 61,
   "metadata": {},
   "outputs": [],
   "source": [
    "a = a.astype('int16')"
   ]
  },
  {
   "cell_type": "code",
   "execution_count": null,
   "metadata": {},
   "outputs": [],
   "source": [
    "results = [pool.apply(indices_label, args=(a, label)) for label in labels[:10]]"
   ]
  },
  {
   "cell_type": "code",
   "execution_count": null,
   "metadata": {},
   "outputs": [],
   "source": []
  },
  {
   "cell_type": "code",
   "execution_count": null,
   "metadata": {},
   "outputs": [],
   "source": []
  },
  {
   "cell_type": "code",
   "execution_count": null,
   "metadata": {},
   "outputs": [],
   "source": [
    "labels"
   ]
  },
  {
   "cell_type": "code",
   "execution_count": 55,
   "metadata": {},
   "outputs": [
    {
     "ename": "TypeError",
     "evalue": "'numpy.ndarray' object is not callable",
     "output_type": "error",
     "traceback": [
      "\u001b[1;31m---------------------------------------------------------------------------\u001b[0m",
      "\u001b[1;31mRemoteTraceback\u001b[0m                           Traceback (most recent call last)",
      "\u001b[1;31mRemoteTraceback\u001b[0m: \n\"\"\"\nTraceback (most recent call last):\n  File \"c:\\programdata\\anaconda3\\envs\\astro\\lib\\multiprocessing\\pool.py\", line 121, in worker\n    result = (True, func(*args, **kwds))\n  File \"c:\\programdata\\anaconda3\\envs\\astro\\lib\\multiprocessing\\pool.py\", line 44, in mapstar\n    return list(map(*args))\nTypeError: 'numpy.ndarray' object is not callable\n\"\"\"",
      "\nThe above exception was the direct cause of the following exception:\n",
      "\u001b[1;31mTypeError\u001b[0m                                 Traceback (most recent call last)",
      "\u001b[1;32m<ipython-input-55-2e6c29bc1c6f>\u001b[0m in \u001b[0;36m<module>\u001b[1;34m\u001b[0m\n\u001b[1;32m----> 1\u001b[1;33m \u001b[0mresults\u001b[0m \u001b[1;33m=\u001b[0m \u001b[0mlist\u001b[0m\u001b[1;33m(\u001b[0m\u001b[0mpool\u001b[0m\u001b[1;33m.\u001b[0m\u001b[0mmap\u001b[0m\u001b[1;33m(\u001b[0m\u001b[0mnp\u001b[0m\u001b[1;33m.\u001b[0m\u001b[0margwhere\u001b[0m\u001b[1;33m(\u001b[0m\u001b[0ma\u001b[0m \u001b[1;33m==\u001b[0m \u001b[0mlabel\u001b[0m\u001b[1;33m)\u001b[0m\u001b[1;33m,\u001b[0m \u001b[1;33m[\u001b[0m\u001b[0mlabel\u001b[0m \u001b[1;32mfor\u001b[0m \u001b[0mlabel\u001b[0m \u001b[1;32min\u001b[0m \u001b[0mlabels\u001b[0m\u001b[1;33m[\u001b[0m\u001b[1;33m:\u001b[0m\u001b[1;36m10\u001b[0m\u001b[1;33m]\u001b[0m\u001b[1;33m]\u001b[0m\u001b[1;33m)\u001b[0m\u001b[1;33m)\u001b[0m\u001b[1;33m\u001b[0m\u001b[1;33m\u001b[0m\u001b[0m\n\u001b[0m",
      "\u001b[1;32mc:\\programdata\\anaconda3\\envs\\astro\\lib\\multiprocessing\\pool.py\u001b[0m in \u001b[0;36mmap\u001b[1;34m(self, func, iterable, chunksize)\u001b[0m\n\u001b[0;32m    266\u001b[0m         \u001b[1;32min\u001b[0m \u001b[0ma\u001b[0m \u001b[0mlist\u001b[0m \u001b[0mthat\u001b[0m \u001b[1;32mis\u001b[0m \u001b[0mreturned\u001b[0m\u001b[1;33m.\u001b[0m\u001b[1;33m\u001b[0m\u001b[1;33m\u001b[0m\u001b[0m\n\u001b[0;32m    267\u001b[0m         '''\n\u001b[1;32m--> 268\u001b[1;33m         \u001b[1;32mreturn\u001b[0m \u001b[0mself\u001b[0m\u001b[1;33m.\u001b[0m\u001b[0m_map_async\u001b[0m\u001b[1;33m(\u001b[0m\u001b[0mfunc\u001b[0m\u001b[1;33m,\u001b[0m \u001b[0miterable\u001b[0m\u001b[1;33m,\u001b[0m \u001b[0mmapstar\u001b[0m\u001b[1;33m,\u001b[0m \u001b[0mchunksize\u001b[0m\u001b[1;33m)\u001b[0m\u001b[1;33m.\u001b[0m\u001b[0mget\u001b[0m\u001b[1;33m(\u001b[0m\u001b[1;33m)\u001b[0m\u001b[1;33m\u001b[0m\u001b[1;33m\u001b[0m\u001b[0m\n\u001b[0m\u001b[0;32m    269\u001b[0m \u001b[1;33m\u001b[0m\u001b[0m\n\u001b[0;32m    270\u001b[0m     \u001b[1;32mdef\u001b[0m \u001b[0mstarmap\u001b[0m\u001b[1;33m(\u001b[0m\u001b[0mself\u001b[0m\u001b[1;33m,\u001b[0m \u001b[0mfunc\u001b[0m\u001b[1;33m,\u001b[0m \u001b[0miterable\u001b[0m\u001b[1;33m,\u001b[0m \u001b[0mchunksize\u001b[0m\u001b[1;33m=\u001b[0m\u001b[1;32mNone\u001b[0m\u001b[1;33m)\u001b[0m\u001b[1;33m:\u001b[0m\u001b[1;33m\u001b[0m\u001b[1;33m\u001b[0m\u001b[0m\n",
      "\u001b[1;32mc:\\programdata\\anaconda3\\envs\\astro\\lib\\multiprocessing\\pool.py\u001b[0m in \u001b[0;36mget\u001b[1;34m(self, timeout)\u001b[0m\n\u001b[0;32m    655\u001b[0m             \u001b[1;32mreturn\u001b[0m \u001b[0mself\u001b[0m\u001b[1;33m.\u001b[0m\u001b[0m_value\u001b[0m\u001b[1;33m\u001b[0m\u001b[1;33m\u001b[0m\u001b[0m\n\u001b[0;32m    656\u001b[0m         \u001b[1;32melse\u001b[0m\u001b[1;33m:\u001b[0m\u001b[1;33m\u001b[0m\u001b[1;33m\u001b[0m\u001b[0m\n\u001b[1;32m--> 657\u001b[1;33m             \u001b[1;32mraise\u001b[0m \u001b[0mself\u001b[0m\u001b[1;33m.\u001b[0m\u001b[0m_value\u001b[0m\u001b[1;33m\u001b[0m\u001b[1;33m\u001b[0m\u001b[0m\n\u001b[0m\u001b[0;32m    658\u001b[0m \u001b[1;33m\u001b[0m\u001b[0m\n\u001b[0;32m    659\u001b[0m     \u001b[1;32mdef\u001b[0m \u001b[0m_set\u001b[0m\u001b[1;33m(\u001b[0m\u001b[0mself\u001b[0m\u001b[1;33m,\u001b[0m \u001b[0mi\u001b[0m\u001b[1;33m,\u001b[0m \u001b[0mobj\u001b[0m\u001b[1;33m)\u001b[0m\u001b[1;33m:\u001b[0m\u001b[1;33m\u001b[0m\u001b[1;33m\u001b[0m\u001b[0m\n",
      "\u001b[1;31mTypeError\u001b[0m: 'numpy.ndarray' object is not callable"
     ]
    }
   ],
   "source": [
    "results = pool.map(np.argwhere(a == label), [label for label in labels[:10]])"
   ]
  },
  {
   "cell_type": "code",
   "execution_count": null,
   "metadata": {},
   "outputs": [],
   "source": []
  },
  {
   "cell_type": "code",
   "execution_count": 19,
   "metadata": {},
   "outputs": [
    {
     "data": {
      "text/plain": [
       "array([[0, 0, 5],\n",
       "       [0, 1, 5],\n",
       "       [0, 2, 5],\n",
       "       [0, 3, 5],\n",
       "       [1, 0, 5],\n",
       "       [1, 1, 5],\n",
       "       [1, 2, 5],\n",
       "       [1, 3, 5],\n",
       "       [2, 0, 5],\n",
       "       [2, 1, 5],\n",
       "       [2, 2, 5],\n",
       "       [2, 3, 5],\n",
       "       [3, 0, 5],\n",
       "       [3, 1, 5],\n",
       "       [3, 2, 5],\n",
       "       [3, 3, 5]], dtype=int64)"
      ]
     },
     "execution_count": 19,
     "metadata": {},
     "output_type": "execute_result"
    }
   ],
   "source": [
    "inds"
   ]
  },
  {
   "cell_type": "code",
   "execution_count": null,
   "metadata": {},
   "outputs": [],
   "source": []
  },
  {
   "cell_type": "code",
   "execution_count": null,
   "metadata": {},
   "outputs": [],
   "source": []
  },
  {
   "cell_type": "code",
   "execution_count": null,
   "metadata": {},
   "outputs": [],
   "source": []
  }
 ],
 "metadata": {
  "kernelspec": {
   "display_name": "Python 3",
   "language": "python",
   "name": "python3"
  },
  "language_info": {
   "codemirror_mode": {
    "name": "ipython",
    "version": 3
   },
   "file_extension": ".py",
   "mimetype": "text/x-python",
   "name": "python",
   "nbconvert_exporter": "python",
   "pygments_lexer": "ipython3",
   "version": "3.7.7"
  }
 },
 "nbformat": 4,
 "nbformat_minor": 4
}
