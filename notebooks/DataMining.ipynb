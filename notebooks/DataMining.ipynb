{
 "cells": [
  {
   "cell_type": "code",
   "execution_count": 84,
   "metadata": {},
   "outputs": [],
   "source": [
    "import os\n",
    "import numpy as np\n",
    "import pandas as pd\n",
    "from tqdm import tqdm\n",
    "from scipy.spatial.distance import cdist\n",
    "from skimage.morphology import binary_erosion\n",
    "import cv2\n",
    "from scipy.spatial import cKDTree\n",
    "from collections import defaultdict"
   ]
  },
  {
   "cell_type": "code",
   "execution_count": 2,
   "metadata": {},
   "outputs": [],
   "source": [
    "path = r'C:\\Users\\Wojtek\\Documents\\Doktorat\\Astral\\data\\Cont_AN_2_4'\n",
    "\n",
    "abs_file = 'segmentation_absolute.h5'\n",
    "dims_path = 'segmentation_dims.h5'"
   ]
  },
  {
   "cell_type": "code",
   "execution_count": 3,
   "metadata": {},
   "outputs": [],
   "source": [
    "adf = pd.read_hdf(os.path.join(path, abs_file))\n",
    "ddf = pd.read_hdf(os.path.join(path, dims_path))"
   ]
  },
  {
   "cell_type": "code",
   "execution_count": 4,
   "metadata": {},
   "outputs": [
    {
     "data": {
      "text/html": [
       "<div>\n",
       "<style scoped>\n",
       "    .dataframe tbody tr th:only-of-type {\n",
       "        vertical-align: middle;\n",
       "    }\n",
       "\n",
       "    .dataframe tbody tr th {\n",
       "        vertical-align: top;\n",
       "    }\n",
       "\n",
       "    .dataframe thead th {\n",
       "        text-align: right;\n",
       "    }\n",
       "</style>\n",
       "<table border=\"1\" class=\"dataframe\">\n",
       "  <thead>\n",
       "    <tr style=\"text-align: right;\">\n",
       "      <th></th>\n",
       "      <th>id</th>\n",
       "      <th>y</th>\n",
       "      <th>x</th>\n",
       "      <th>z</th>\n",
       "      <th>color</th>\n",
       "    </tr>\n",
       "  </thead>\n",
       "  <tbody>\n",
       "    <tr>\n",
       "      <th>0</th>\n",
       "      <td>0</td>\n",
       "      <td>262</td>\n",
       "      <td>249</td>\n",
       "      <td>968</td>\n",
       "      <td>85</td>\n",
       "    </tr>\n",
       "    <tr>\n",
       "      <th>1</th>\n",
       "      <td>0</td>\n",
       "      <td>262</td>\n",
       "      <td>250</td>\n",
       "      <td>968</td>\n",
       "      <td>81</td>\n",
       "    </tr>\n",
       "  </tbody>\n",
       "</table>\n",
       "</div>"
      ],
      "text/plain": [
       "   id    y    x    z  color\n",
       "0   0  262  249  968     85\n",
       "1   0  262  250  968     81"
      ]
     },
     "execution_count": 4,
     "metadata": {},
     "output_type": "execute_result"
    }
   ],
   "source": [
    "adf.head(2)"
   ]
  },
  {
   "cell_type": "code",
   "execution_count": 5,
   "metadata": {},
   "outputs": [
    {
     "data": {
      "text/html": [
       "<div>\n",
       "<style scoped>\n",
       "    .dataframe tbody tr th:only-of-type {\n",
       "        vertical-align: middle;\n",
       "    }\n",
       "\n",
       "    .dataframe tbody tr th {\n",
       "        vertical-align: top;\n",
       "    }\n",
       "\n",
       "    .dataframe thead th {\n",
       "        text-align: right;\n",
       "    }\n",
       "</style>\n",
       "<table border=\"1\" class=\"dataframe\">\n",
       "  <thead>\n",
       "    <tr style=\"text-align: right;\">\n",
       "      <th></th>\n",
       "      <th>id</th>\n",
       "      <th>y_min</th>\n",
       "      <th>y_max</th>\n",
       "      <th>x_min</th>\n",
       "      <th>x_max</th>\n",
       "      <th>z_min</th>\n",
       "      <th>z_max</th>\n",
       "      <th>center_y</th>\n",
       "      <th>center_x</th>\n",
       "      <th>center_z</th>\n",
       "    </tr>\n",
       "  </thead>\n",
       "  <tbody>\n",
       "    <tr>\n",
       "      <th>0</th>\n",
       "      <td>0</td>\n",
       "      <td>262</td>\n",
       "      <td>343</td>\n",
       "      <td>195</td>\n",
       "      <td>268</td>\n",
       "      <td>927</td>\n",
       "      <td>1035</td>\n",
       "      <td>302</td>\n",
       "      <td>231</td>\n",
       "      <td>981</td>\n",
       "    </tr>\n",
       "    <tr>\n",
       "      <th>1</th>\n",
       "      <td>1</td>\n",
       "      <td>161</td>\n",
       "      <td>272</td>\n",
       "      <td>592</td>\n",
       "      <td>716</td>\n",
       "      <td>692</td>\n",
       "      <td>724</td>\n",
       "      <td>216</td>\n",
       "      <td>654</td>\n",
       "      <td>708</td>\n",
       "    </tr>\n",
       "  </tbody>\n",
       "</table>\n",
       "</div>"
      ],
      "text/plain": [
       "   id  y_min  y_max  x_min  x_max  z_min  z_max  center_y  center_x  center_z\n",
       "0   0    262    343    195    268    927   1035       302       231       981\n",
       "1   1    161    272    592    716    692    724       216       654       708"
      ]
     },
     "execution_count": 5,
     "metadata": {},
     "output_type": "execute_result"
    }
   ],
   "source": [
    "ddf.head(2)"
   ]
  },
  {
   "cell_type": "code",
   "execution_count": 6,
   "metadata": {},
   "outputs": [],
   "source": [
    "ids = ddf.id.values"
   ]
  },
  {
   "cell_type": "code",
   "execution_count": 7,
   "metadata": {},
   "outputs": [
    {
     "data": {
      "text/plain": [
       "267"
      ]
     },
     "execution_count": 7,
     "metadata": {},
     "output_type": "execute_result"
    }
   ],
   "source": [
    "len(ids)"
   ]
  },
  {
   "cell_type": "code",
   "execution_count": 8,
   "metadata": {},
   "outputs": [],
   "source": [
    "shape1 = adf.loc[adf['id'] == 2]\n",
    "shape1 = shape1[['x', 'y', 'z']]"
   ]
  },
  {
   "cell_type": "code",
   "execution_count": 9,
   "metadata": {},
   "outputs": [],
   "source": [
    "shape2 = adf.loc[adf['id'] == 5]"
   ]
  },
  {
   "cell_type": "code",
   "execution_count": 10,
   "metadata": {},
   "outputs": [],
   "source": [
    "shape1 = shape1[['x', 'y', 'z']]\n",
    "shape2 = shape2[['x', 'y', 'z']]"
   ]
  },
  {
   "cell_type": "code",
   "execution_count": 11,
   "metadata": {},
   "outputs": [
    {
     "data": {
      "text/plain": [
       "(82969, 3)"
      ]
     },
     "execution_count": 11,
     "metadata": {},
     "output_type": "execute_result"
    }
   ],
   "source": [
    "shape2.shape"
   ]
  },
  {
   "cell_type": "code",
   "execution_count": 12,
   "metadata": {},
   "outputs": [
    {
     "data": {
      "text/plain": [
       "(117557, 3)"
      ]
     },
     "execution_count": 12,
     "metadata": {},
     "output_type": "execute_result"
    }
   ],
   "source": [
    "shape1.shape"
   ]
  },
  {
   "cell_type": "code",
   "execution_count": 13,
   "metadata": {},
   "outputs": [
    {
     "data": {
      "text/plain": [
       "(2038618, 5)"
      ]
     },
     "execution_count": 13,
     "metadata": {},
     "output_type": "execute_result"
    }
   ],
   "source": [
    "adf.shape"
   ]
  },
  {
   "cell_type": "code",
   "execution_count": 14,
   "metadata": {},
   "outputs": [],
   "source": [
    "a = [[0, 0, 0, 0, 0, 0],\n",
    "[0, 0, 1, 1, 1, 0],\n",
    "[0, 1, 1, 1, 1, 0],\n",
    "[0, 1, 1, 1, 1, 0],\n",
    "[0, 1, 1, 1, 0, 0],\n",
    "[0, 0, 0, 0, 0, 0]]"
   ]
  },
  {
   "cell_type": "code",
   "execution_count": 15,
   "metadata": {},
   "outputs": [],
   "source": [
    "shape1.x = shape1.x - shape1.x.min()\n",
    "shape1.y = shape1.y - shape1.y.min()\n",
    "shape1.z = shape1.z - shape1.z.min()"
   ]
  },
  {
   "cell_type": "code",
   "execution_count": 24,
   "metadata": {},
   "outputs": [],
   "source": [
    "def get_border_inds(shape):\n",
    "    indices = shape.values\n",
    "\n",
    "    shape_np = np.ndarray(((indices[:, 0].max()+1, indices[:, 1].max()+1, indices[:, 2].max()+1)))\n",
    "\n",
    "    for i in range(indices.shape[0]):\n",
    "        shape_np[indices[i, 0], indices[i, 1], indices[i, 2]] = 1\n",
    "        \n",
    "    interior = binary_erosion(shape_np)\n",
    "    \n",
    "    border = np.logical_xor(shape_np, interior)\n",
    "    \n",
    "    border_inds = np.argwhere(border == True)\n",
    "    \n",
    "    return border_inds"
   ]
  },
  {
   "cell_type": "code",
   "execution_count": 25,
   "metadata": {},
   "outputs": [],
   "source": [
    "shape1 = adf.loc[adf['id'] == 2]\n",
    "shape2 = adf.loc[adf['id'] == 5]\n",
    "shape1 = shape1[['x', 'y', 'z']]\n",
    "shape2 = shape2[['x', 'y', 'z']]\n",
    "border1 = get_border_inds(shape1)\n",
    "border2 = get_border_inds(shape2)"
   ]
  },
  {
   "cell_type": "code",
   "execution_count": 18,
   "metadata": {},
   "outputs": [],
   "source": []
  },
  {
   "cell_type": "code",
   "execution_count": 43,
   "metadata": {},
   "outputs": [],
   "source": [
    "shape1 = ddf.loc[ddf['id'] == 2]\n",
    "tolerance = 50"
   ]
  },
  {
   "cell_type": "code",
   "execution_count": 56,
   "metadata": {},
   "outputs": [],
   "source": [
    "def get_tolerance_bounding_box(shape, tolerance):\n",
    "    \n",
    "    xl = shape['x_min'].values[0] - tolerance\n",
    "    yl = shape['y_min'].values[0] - tolerance\n",
    "    zl = shape['z_min'].values[0] - tolerance\n",
    "\n",
    "    xu = shape['x_max'].values[0] + tolerance\n",
    "    yu = shape['y_max'].values[0] + tolerance\n",
    "    zu = shape['z_max'].values[0] + tolerance\n",
    "    \n",
    "    return (xl, xu), (yl, yu), (zl, zu)"
   ]
  },
  {
   "cell_type": "code",
   "execution_count": 57,
   "metadata": {},
   "outputs": [],
   "source": [
    "xb, yb, zb = get_tolerance_bounding_box(shape1, 60)"
   ]
  },
  {
   "cell_type": "code",
   "execution_count": 71,
   "metadata": {},
   "outputs": [],
   "source": [
    "def get_neighbor_shapes(shape, tolerance):\n",
    "    \n",
    "    xb, yb, zb = get_tolerance_bounding_box(shape, tolerance)\n",
    "    \n",
    "    neighbor_shapes = ddf.loc[( ddf['x_min'].between(*xb) ) | ( ddf['x_max'].between(*xb) )]\n",
    "    neighbor_shapes = neighbor_shapes.loc[( neighbor_shapes['y_min'].between(*yb) ) | ( neighbor_shapes['y_max'].between(*yb) )]\n",
    "    neighbor_shapes = neighbor_shapes.loc[( neighbor_shapes['z_min'].between(*zb) ) | ( neighbor_shapes['z_max'].between(*zb) )]\n",
    "    \n",
    "    return neighbor_shapes"
   ]
  },
  {
   "cell_type": "code",
   "execution_count": 90,
   "metadata": {},
   "outputs": [],
   "source": [
    "def get_candidate_neighbors_dict(ddf, adf, tolerance):\n",
    "\n",
    "    min_dist_dict = defaultdict(dict)\n",
    "\n",
    "    ids = np.unique(ddf.id.values)\n",
    "\n",
    "    for i in tqdm(ids):\n",
    "\n",
    "        shape = ddf.loc[ddf['id'] == i]\n",
    "\n",
    "        candidate_neighbors = get_neighbor_shapes(shape, tolerance)\n",
    "\n",
    "        candidate_ids = np.unique(candidate_neighbors.id.values)\n",
    "\n",
    "        for j in candidate_ids:\n",
    "            if i != j:\n",
    "                shape1 = adf.loc[adf['id'] == i]\n",
    "                shape2 = adf.loc[adf['id'] == j]\n",
    "                shape1 = shape1[['x', 'y', 'z']]\n",
    "                shape2 = shape2[['x', 'y', 'z']]\n",
    "                #border1 = get_border_inds(shape1)\n",
    "                #border2 = get_border_inds(shape2)\n",
    "\n",
    "                min_dists, min_dist_idx = cKDTree(shape1).query(shape2, 1)\n",
    "    #            min_dists, min_dist_idx = cKDTree(border1).query(border2, 1)\n",
    "                min_dist = min_dists.min()\n",
    "\n",
    "                min_dist_dict[i][j] = min_dist\n",
    "                min_dist_dict[j][i] = min_dist\n",
    "    return min_dist_dict\n",
    "\n",
    "\n",
    "    #             mat = cdist(border1, border2)\n",
    "\n",
    "    #             min_dist = mat.min()\n",
    "\n",
    "    #             min_dist_dict[i][j] = min_dist\n",
    "    #             min_dist_dict[j][i] = min_dist"
   ]
  },
  {
   "cell_type": "code",
   "execution_count": 98,
   "metadata": {},
   "outputs": [
    {
     "name": "stderr",
     "output_type": "stream",
     "text": [
      "100%|████████████████████████████████████████████████████████████████████████████████| 267/267 [02:06<00:00,  2.12it/s]\n"
     ]
    }
   ],
   "source": [
    "dist_dict = get_candidate_neighbors_dict(ddf, adf, 100)"
   ]
  },
  {
   "cell_type": "code",
   "execution_count": 99,
   "metadata": {},
   "outputs": [],
   "source": [
    "# postprocess\n",
    "\n",
    "def filter_distant_neighbors(dist_dict, tolerance):\n",
    "    for shape_id in dist_dict.keys():\n",
    "        candidate_neighbor_dict = dist_dict[shape_id]\n",
    "        filtered_candidate_dict = dict(filter(lambda y: y[1] < tolerance, candidate_neighbor_dict.items()))\n",
    "        dist_dict[shape_id] = filtered_candidate_dict\n",
    "    return dist_dict"
   ]
  },
  {
   "cell_type": "code",
   "execution_count": 100,
   "metadata": {},
   "outputs": [],
   "source": [
    "dist_dict = filter_distant_neighbors(dist_dict, 100)"
   ]
  },
  {
   "cell_type": "code",
   "execution_count": 230,
   "metadata": {},
   "outputs": [],
   "source": [
    "def calculate_euc_dists(ddf, shape1, shape2):\n",
    "    xy_axis1 = ddf.loc[ddf.id == shape1, ['center_y', 'center_x']].values\n",
    "    xy_axis2 = ddf.loc[ddf.id == shape2, ['center_y', 'center_x']].values\n",
    "    center_dist_xy = cdist(xy_axis1, xy_axis2)[0][0]\n",
    "\n",
    "    z_axis1 = ddf.loc[ddf.id == shape1, ['center_z']].values\n",
    "    z_axis1 = np.vstack([z_axis1, np.zeros((z_axis1.shape[0]))]).T\n",
    "    z_axis2 = ddf.loc[ddf.id == shape2, ['center_z']].values\n",
    "    z_axis2 = np.vstack([z_axis2, np.zeros((z_axis2.shape[0]))]).T\n",
    "\n",
    "    center_dist_z = cdist(z_axis1, z_axis2)[0][0]\n",
    "    \n",
    "    return center_dist_xy, center_dist_z"
   ]
  },
  {
   "cell_type": "code",
   "execution_count": 231,
   "metadata": {},
   "outputs": [
    {
     "name": "stderr",
     "output_type": "stream",
     "text": [
      "100%|████████████████████████████████████████████████████████████████████████████████| 257/257 [02:45<00:00,  1.55it/s]\n"
     ]
    }
   ],
   "source": [
    "dist_df = pd.DataFrame(columns=['shape_id_1', 'shape_id_2', 'center_dist_xy', 'center_dist_z', 'center_of_mass_dist_xy', 'center_of_mass_dist_z'])\n",
    "\n",
    "for shape_id, neighbor_dict in tqdm(dist_dict.items()):\n",
    "    shape1 = shape_id\n",
    "    for shape2 in neighbor_dict.keys():\n",
    "        center_dist_xy, center_dist_z = calculate_euc_dists(ddf, shape1, shape2)\n",
    "        \n",
    "        com_dist_xy, com_dist_z = calculate_com_dists(ddf, adf, shape1, shape2)\n",
    "        \n",
    "        \n",
    "        \n",
    "        shape_np = np.ndarray(((indices[:, 0].max()+1, indices[:, 1].max()+1, indices[:, 2].max()+1)))\n",
    "        for i in range(indices.shape[0]):\n",
    "            shape_np[indices[i, 0], indices[i, 1], indices[i, 2]] = 1\n",
    "        \n",
    "        \n",
    "        \n",
    "        row = {\n",
    "            'shape_id_1' : shape1,\n",
    "            'shape_id_2' : shape2,\n",
    "            'center_dist_xy' : center_dist_xy,\n",
    "            'center_dist_z' : center_dist_z,\n",
    "            'center_of_mass_dist_xy' : com_dist_xy,\n",
    "            'center_of_mass_dist_z' : com_dist_z\n",
    "        }\n",
    "        \n",
    "        dist_df = dist_df.append(row, ignore_index=True)\n",
    "dist_df = dist_df.astype('int')"
   ]
  },
  {
   "cell_type": "code",
   "execution_count": 232,
   "metadata": {},
   "outputs": [
    {
     "data": {
      "text/html": [
       "<div>\n",
       "<style scoped>\n",
       "    .dataframe tbody tr th:only-of-type {\n",
       "        vertical-align: middle;\n",
       "    }\n",
       "\n",
       "    .dataframe tbody tr th {\n",
       "        vertical-align: top;\n",
       "    }\n",
       "\n",
       "    .dataframe thead th {\n",
       "        text-align: right;\n",
       "    }\n",
       "</style>\n",
       "<table border=\"1\" class=\"dataframe\">\n",
       "  <thead>\n",
       "    <tr style=\"text-align: right;\">\n",
       "      <th></th>\n",
       "      <th>shape_id_1</th>\n",
       "      <th>shape_id_2</th>\n",
       "      <th>center_dist_xy</th>\n",
       "      <th>center_dist_z</th>\n",
       "      <th>center_of_mass_dist_xy</th>\n",
       "      <th>center_of_mass_dist_z</th>\n",
       "    </tr>\n",
       "  </thead>\n",
       "  <tbody>\n",
       "    <tr>\n",
       "      <th>0</th>\n",
       "      <td>0</td>\n",
       "      <td>3</td>\n",
       "      <td>82</td>\n",
       "      <td>104</td>\n",
       "      <td>79</td>\n",
       "      <td>108</td>\n",
       "    </tr>\n",
       "    <tr>\n",
       "      <th>1</th>\n",
       "      <td>0</td>\n",
       "      <td>5</td>\n",
       "      <td>166</td>\n",
       "      <td>45</td>\n",
       "      <td>169</td>\n",
       "      <td>46</td>\n",
       "    </tr>\n",
       "    <tr>\n",
       "      <th>2</th>\n",
       "      <td>0</td>\n",
       "      <td>9</td>\n",
       "      <td>80</td>\n",
       "      <td>32</td>\n",
       "      <td>76</td>\n",
       "      <td>30</td>\n",
       "    </tr>\n",
       "    <tr>\n",
       "      <th>3</th>\n",
       "      <td>0</td>\n",
       "      <td>11</td>\n",
       "      <td>104</td>\n",
       "      <td>29</td>\n",
       "      <td>97</td>\n",
       "      <td>32</td>\n",
       "    </tr>\n",
       "    <tr>\n",
       "      <th>4</th>\n",
       "      <td>0</td>\n",
       "      <td>17</td>\n",
       "      <td>10</td>\n",
       "      <td>124</td>\n",
       "      <td>4</td>\n",
       "      <td>122</td>\n",
       "    </tr>\n",
       "    <tr>\n",
       "      <th>...</th>\n",
       "      <td>...</td>\n",
       "      <td>...</td>\n",
       "      <td>...</td>\n",
       "      <td>...</td>\n",
       "      <td>...</td>\n",
       "      <td>...</td>\n",
       "    </tr>\n",
       "    <tr>\n",
       "      <th>1923</th>\n",
       "      <td>218</td>\n",
       "      <td>154</td>\n",
       "      <td>79</td>\n",
       "      <td>60</td>\n",
       "      <td>81</td>\n",
       "      <td>60</td>\n",
       "    </tr>\n",
       "    <tr>\n",
       "      <th>1924</th>\n",
       "      <td>218</td>\n",
       "      <td>161</td>\n",
       "      <td>66</td>\n",
       "      <td>52</td>\n",
       "      <td>66</td>\n",
       "      <td>51</td>\n",
       "    </tr>\n",
       "    <tr>\n",
       "      <th>1925</th>\n",
       "      <td>218</td>\n",
       "      <td>176</td>\n",
       "      <td>74</td>\n",
       "      <td>5</td>\n",
       "      <td>75</td>\n",
       "      <td>5</td>\n",
       "    </tr>\n",
       "    <tr>\n",
       "      <th>1926</th>\n",
       "      <td>244</td>\n",
       "      <td>260</td>\n",
       "      <td>1</td>\n",
       "      <td>94</td>\n",
       "      <td>1</td>\n",
       "      <td>94</td>\n",
       "    </tr>\n",
       "    <tr>\n",
       "      <th>1927</th>\n",
       "      <td>260</td>\n",
       "      <td>244</td>\n",
       "      <td>1</td>\n",
       "      <td>94</td>\n",
       "      <td>1</td>\n",
       "      <td>94</td>\n",
       "    </tr>\n",
       "  </tbody>\n",
       "</table>\n",
       "<p>1928 rows × 6 columns</p>\n",
       "</div>"
      ],
      "text/plain": [
       "      shape_id_1  shape_id_2  center_dist_xy  center_dist_z  \\\n",
       "0              0           3              82            104   \n",
       "1              0           5             166             45   \n",
       "2              0           9              80             32   \n",
       "3              0          11             104             29   \n",
       "4              0          17              10            124   \n",
       "...          ...         ...             ...            ...   \n",
       "1923         218         154              79             60   \n",
       "1924         218         161              66             52   \n",
       "1925         218         176              74              5   \n",
       "1926         244         260               1             94   \n",
       "1927         260         244               1             94   \n",
       "\n",
       "      center_of_mass_dist_xy  center_of_mass_dist_z  \n",
       "0                         79                    108  \n",
       "1                        169                     46  \n",
       "2                         76                     30  \n",
       "3                         97                     32  \n",
       "4                          4                    122  \n",
       "...                      ...                    ...  \n",
       "1923                      81                     60  \n",
       "1924                      66                     51  \n",
       "1925                      75                      5  \n",
       "1926                       1                     94  \n",
       "1927                       1                     94  \n",
       "\n",
       "[1928 rows x 6 columns]"
      ]
     },
     "execution_count": 232,
     "metadata": {},
     "output_type": "execute_result"
    }
   ],
   "source": [
    "dist_df"
   ]
  },
  {
   "cell_type": "code",
   "execution_count": 226,
   "metadata": {},
   "outputs": [],
   "source": [
    "def calculate_com_dists(ddf, adf, shape1_id, shape2_id):\n",
    "\n",
    "    shape1 = adf.loc[adf['id'] == shape1_id]\n",
    "    shape2 = adf.loc[adf['id'] == shape2_id]\n",
    "    shapes = [shape1, shape2]\n",
    "\n",
    "    shapes = list(map(lambda df: df[['x', 'y', 'z']], shapes))\n",
    "\n",
    "    offsets = []\n",
    "\n",
    "    coms = []\n",
    "\n",
    "    for shape in shapes: \n",
    "        offsets.append([shape.x.min(), shape.y.min(), shape.z.min()])\n",
    "        shape.x = shape.x - shape.x.min()\n",
    "        shape.y = shape.y - shape.y.min()\n",
    "        shape.z = shape.z - shape.z.min()\n",
    "\n",
    "        indices = shape.values\n",
    "\n",
    "        shape_np = np.zeros(((indices[:, 0].max()+1, indices[:, 1].max()+1, indices[:, 2].max()+1)))\n",
    "\n",
    "        for i in range(indices.shape[0]):\n",
    "            shape_np[indices[i, 0], indices[i, 1], indices[i, 2]] = 1\n",
    "        \n",
    "        #print(np.unique(shape_np))\n",
    "        com = ndimage.measurements.center_of_mass(shape_np)\n",
    "        #print(com)\n",
    "        com = list(map(lambda x: int(x), com))\n",
    "        coms.append(com)\n",
    "\n",
    "    coms_offset = []\n",
    "\n",
    "    for com, offset in zip(coms, offsets):\n",
    "        coms_offset.append( list( map(add, com, offset) ) )\n",
    "\n",
    "    xy1, xy2 = coms_offset[0][:2], coms_offset[1][:2]\n",
    "    xy1, xy2 = np.array(xy1), np.array(xy2)\n",
    "    xy1, xy2 = np.expand_dims(xy1, -1).T, np.expand_dims(xy2, -1).T\n",
    "    z1, z2 = coms_offset[0][2], coms_offset[1][2]\n",
    "\n",
    "    com_dist_z = abs(z1-z2)\n",
    "    com_dist_xy = cdist(xy1, xy2)[0][0]\n",
    "\n",
    "    return com_dist_xy, com_dist_z"
   ]
  },
  {
   "cell_type": "code",
   "execution_count": 212,
   "metadata": {},
   "outputs": [],
   "source": []
  },
  {
   "cell_type": "code",
   "execution_count": 209,
   "metadata": {},
   "outputs": [
    {
     "data": {
      "text/plain": [
       "array([[659],\n",
       "       [ 56]])"
      ]
     },
     "execution_count": 209,
     "metadata": {},
     "output_type": "execute_result"
    }
   ],
   "source": [
    "xy1.T"
   ]
  },
  {
   "cell_type": "code",
   "execution_count": 210,
   "metadata": {},
   "outputs": [
    {
     "data": {
      "text/plain": [
       "array([[ 68],\n",
       "       [280]])"
      ]
     },
     "execution_count": 210,
     "metadata": {},
     "output_type": "execute_result"
    }
   ],
   "source": [
    "xy2.T"
   ]
  },
  {
   "cell_type": "code",
   "execution_count": 211,
   "metadata": {},
   "outputs": [
    {
     "data": {
      "text/plain": [
       "632.0261070557133"
      ]
     },
     "execution_count": 211,
     "metadata": {},
     "output_type": "execute_result"
    }
   ],
   "source": [
    "com_dist_xy"
   ]
  },
  {
   "cell_type": "code",
   "execution_count": 176,
   "metadata": {},
   "outputs": [],
   "source": [
    "from operator import add"
   ]
  },
  {
   "cell_type": "code",
   "execution_count": 178,
   "metadata": {},
   "outputs": [],
   "source": []
  },
  {
   "cell_type": "code",
   "execution_count": null,
   "metadata": {},
   "outputs": [],
   "source": [
    "\n",
    "indices = shape.values"
   ]
  },
  {
   "cell_type": "code",
   "execution_count": null,
   "metadata": {},
   "outputs": [],
   "source": []
  },
  {
   "cell_type": "code",
   "execution_count": null,
   "metadata": {},
   "outputs": [],
   "source": []
  },
  {
   "cell_type": "code",
   "execution_count": 144,
   "metadata": {},
   "outputs": [],
   "source": [
    "indices = shape.values\n",
    "\n",
    "shape_np = np.ndarray(((indices[:, 0].max()+1, indices[:, 1].max()+1, indices[:, 2].max()+1)))\n",
    "\n",
    "for i in range(indices.shape[0]):\n",
    "    shape_np[indices[i, 0], indices[i, 1], indices[i, 2]] = 1"
   ]
  },
  {
   "cell_type": "code",
   "execution_count": 154,
   "metadata": {},
   "outputs": [],
   "source": [
    "from scipy import ndimage\n",
    "\n",
    "com = ndimage.measurements.center_of_mass(shape_np)\n",
    "com = tuple(map(lambda x: int(x), com))"
   ]
  },
  {
   "cell_type": "code",
   "execution_count": 155,
   "metadata": {},
   "outputs": [
    {
     "data": {
      "text/plain": [
       "(266, 568, 575)"
      ]
     },
     "execution_count": 155,
     "metadata": {},
     "output_type": "execute_result"
    }
   ],
   "source": [
    "com"
   ]
  },
  {
   "cell_type": "code",
   "execution_count": null,
   "metadata": {},
   "outputs": [],
   "source": []
  },
  {
   "cell_type": "code",
   "execution_count": null,
   "metadata": {},
   "outputs": [],
   "source": []
  },
  {
   "cell_type": "code",
   "execution_count": 143,
   "metadata": {},
   "outputs": [
    {
     "data": {
      "text/html": [
       "<div>\n",
       "<style scoped>\n",
       "    .dataframe tbody tr th:only-of-type {\n",
       "        vertical-align: middle;\n",
       "    }\n",
       "\n",
       "    .dataframe tbody tr th {\n",
       "        vertical-align: top;\n",
       "    }\n",
       "\n",
       "    .dataframe thead th {\n",
       "        text-align: right;\n",
       "    }\n",
       "</style>\n",
       "<table border=\"1\" class=\"dataframe\">\n",
       "  <thead>\n",
       "    <tr style=\"text-align: right;\">\n",
       "      <th></th>\n",
       "      <th>shape_id_1</th>\n",
       "      <th>shape_id_2</th>\n",
       "      <th>center_dist_xy</th>\n",
       "      <th>center_dist_z</th>\n",
       "    </tr>\n",
       "  </thead>\n",
       "  <tbody>\n",
       "    <tr>\n",
       "      <th>0</th>\n",
       "      <td>0</td>\n",
       "      <td>3</td>\n",
       "      <td>418</td>\n",
       "      <td>104</td>\n",
       "    </tr>\n",
       "    <tr>\n",
       "      <th>1</th>\n",
       "      <td>0</td>\n",
       "      <td>5</td>\n",
       "      <td>645</td>\n",
       "      <td>45</td>\n",
       "    </tr>\n",
       "    <tr>\n",
       "      <th>2</th>\n",
       "      <td>0</td>\n",
       "      <td>9</td>\n",
       "      <td>420</td>\n",
       "      <td>32</td>\n",
       "    </tr>\n",
       "    <tr>\n",
       "      <th>3</th>\n",
       "      <td>0</td>\n",
       "      <td>11</td>\n",
       "      <td>545</td>\n",
       "      <td>29</td>\n",
       "    </tr>\n",
       "    <tr>\n",
       "      <th>4</th>\n",
       "      <td>0</td>\n",
       "      <td>17</td>\n",
       "      <td>490</td>\n",
       "      <td>124</td>\n",
       "    </tr>\n",
       "    <tr>\n",
       "      <th>...</th>\n",
       "      <td>...</td>\n",
       "      <td>...</td>\n",
       "      <td>...</td>\n",
       "      <td>...</td>\n",
       "    </tr>\n",
       "    <tr>\n",
       "      <th>1923</th>\n",
       "      <td>218</td>\n",
       "      <td>154</td>\n",
       "      <td>374</td>\n",
       "      <td>60</td>\n",
       "    </tr>\n",
       "    <tr>\n",
       "      <th>1924</th>\n",
       "      <td>218</td>\n",
       "      <td>161</td>\n",
       "      <td>422</td>\n",
       "      <td>52</td>\n",
       "    </tr>\n",
       "    <tr>\n",
       "      <th>1925</th>\n",
       "      <td>218</td>\n",
       "      <td>176</td>\n",
       "      <td>389</td>\n",
       "      <td>5</td>\n",
       "    </tr>\n",
       "    <tr>\n",
       "      <th>1926</th>\n",
       "      <td>244</td>\n",
       "      <td>260</td>\n",
       "      <td>288</td>\n",
       "      <td>94</td>\n",
       "    </tr>\n",
       "    <tr>\n",
       "      <th>1927</th>\n",
       "      <td>260</td>\n",
       "      <td>244</td>\n",
       "      <td>287</td>\n",
       "      <td>94</td>\n",
       "    </tr>\n",
       "  </tbody>\n",
       "</table>\n",
       "<p>1928 rows × 4 columns</p>\n",
       "</div>"
      ],
      "text/plain": [
       "      shape_id_1  shape_id_2  center_dist_xy  center_dist_z\n",
       "0              0           3             418            104\n",
       "1              0           5             645             45\n",
       "2              0           9             420             32\n",
       "3              0          11             545             29\n",
       "4              0          17             490            124\n",
       "...          ...         ...             ...            ...\n",
       "1923         218         154             374             60\n",
       "1924         218         161             422             52\n",
       "1925         218         176             389              5\n",
       "1926         244         260             288             94\n",
       "1927         260         244             287             94\n",
       "\n",
       "[1928 rows x 4 columns]"
      ]
     },
     "execution_count": 143,
     "metadata": {},
     "output_type": "execute_result"
    }
   ],
   "source": [
    "dist_df"
   ]
  },
  {
   "cell_type": "code",
   "execution_count": null,
   "metadata": {},
   "outputs": [],
   "source": []
  },
  {
   "cell_type": "code",
   "execution_count": null,
   "metadata": {},
   "outputs": [],
   "source": []
  },
  {
   "cell_type": "code",
   "execution_count": null,
   "metadata": {},
   "outputs": [],
   "source": []
  },
  {
   "cell_type": "code",
   "execution_count": null,
   "metadata": {},
   "outputs": [],
   "source": []
  },
  {
   "cell_type": "code",
   "execution_count": null,
   "metadata": {},
   "outputs": [],
   "source": []
  },
  {
   "cell_type": "code",
   "execution_count": null,
   "metadata": {},
   "outputs": [],
   "source": []
  },
  {
   "cell_type": "code",
   "execution_count": null,
   "metadata": {},
   "outputs": [],
   "source": []
  },
  {
   "cell_type": "code",
   "execution_count": null,
   "metadata": {},
   "outputs": [],
   "source": []
  },
  {
   "cell_type": "code",
   "execution_count": null,
   "metadata": {},
   "outputs": [],
   "source": []
  },
  {
   "cell_type": "code",
   "execution_count": 122,
   "metadata": {},
   "outputs": [],
   "source": [
    "row = {\n",
    "            'shape_id_1' : [shape1],\n",
    "            'shape_id_2' : [shape2],\n",
    "            'center_dist_xy' : [center_dist_xy],\n",
    "            'center_dist_z' : [center_dist_z],\n",
    "        }"
   ]
  },
  {
   "cell_type": "code",
   "execution_count": 123,
   "metadata": {},
   "outputs": [
    {
     "data": {
      "text/plain": [
       "{'shape_id_1': [110],\n",
       " 'shape_id_2': [242],\n",
       " 'center_dist_xy': [285.70089254323307],\n",
       " 'center_dist_z': [10.0]}"
      ]
     },
     "execution_count": 123,
     "metadata": {},
     "output_type": "execute_result"
    }
   ],
   "source": [
    "row"
   ]
  },
  {
   "cell_type": "code",
   "execution_count": 125,
   "metadata": {},
   "outputs": [],
   "source": [
    "a = pd.DataFrame.from_dict(row)"
   ]
  },
  {
   "cell_type": "code",
   "execution_count": 132,
   "metadata": {},
   "outputs": [
    {
     "data": {
      "text/html": [
       "<div>\n",
       "<style scoped>\n",
       "    .dataframe tbody tr th:only-of-type {\n",
       "        vertical-align: middle;\n",
       "    }\n",
       "\n",
       "    .dataframe tbody tr th {\n",
       "        vertical-align: top;\n",
       "    }\n",
       "\n",
       "    .dataframe thead th {\n",
       "        text-align: right;\n",
       "    }\n",
       "</style>\n",
       "<table border=\"1\" class=\"dataframe\">\n",
       "  <thead>\n",
       "    <tr style=\"text-align: right;\">\n",
       "      <th></th>\n",
       "      <th>shape_id_1</th>\n",
       "      <th>shape_id_2</th>\n",
       "      <th>center_dist_xy</th>\n",
       "      <th>center_dist_z</th>\n",
       "    </tr>\n",
       "  </thead>\n",
       "  <tbody>\n",
       "    <tr>\n",
       "      <th>0</th>\n",
       "      <td>110</td>\n",
       "      <td>242</td>\n",
       "      <td>285.700893</td>\n",
       "      <td>10.0</td>\n",
       "    </tr>\n",
       "    <tr>\n",
       "      <th>1</th>\n",
       "      <td>110</td>\n",
       "      <td>242</td>\n",
       "      <td>285.700893</td>\n",
       "      <td>10.0</td>\n",
       "    </tr>\n",
       "  </tbody>\n",
       "</table>\n",
       "</div>"
      ],
      "text/plain": [
       "   shape_id_1  shape_id_2  center_dist_xy  center_dist_z\n",
       "0         110         242      285.700893           10.0\n",
       "1         110         242      285.700893           10.0"
      ]
     },
     "execution_count": 132,
     "metadata": {},
     "output_type": "execute_result"
    }
   ],
   "source": []
  },
  {
   "cell_type": "code",
   "execution_count": null,
   "metadata": {},
   "outputs": [],
   "source": []
  },
  {
   "cell_type": "code",
   "execution_count": null,
   "metadata": {},
   "outputs": [],
   "source": []
  },
  {
   "cell_type": "code",
   "execution_count": 112,
   "metadata": {},
   "outputs": [],
   "source": [
    "xy_axis = ddf.loc[ddf.id == 2, ['center_y', 'center_x']].values"
   ]
  },
  {
   "cell_type": "code",
   "execution_count": 113,
   "metadata": {},
   "outputs": [],
   "source": [
    "xy_axis2 = ddf.loc[ddf.id == 5, ['center_y', 'center_x']].values"
   ]
  },
  {
   "cell_type": "code",
   "execution_count": 114,
   "metadata": {},
   "outputs": [
    {
     "data": {
      "text/plain": [
       "645.2480143324735"
      ]
     },
     "execution_count": 114,
     "metadata": {},
     "output_type": "execute_result"
    }
   ],
   "source": [
    "cdist(xy_axis, xy_axis2)[0][0]"
   ]
  },
  {
   "cell_type": "code",
   "execution_count": null,
   "metadata": {},
   "outputs": [],
   "source": []
  },
  {
   "cell_type": "code",
   "execution_count": null,
   "metadata": {},
   "outputs": [],
   "source": []
  },
  {
   "cell_type": "code",
   "execution_count": 101,
   "metadata": {},
   "outputs": [
    {
     "ename": "KeyboardInterrupt",
     "evalue": "",
     "output_type": "error",
     "traceback": [
      "\u001b[1;31m---------------------------------------------------------------------------\u001b[0m",
      "\u001b[1;31mKeyboardInterrupt\u001b[0m                         Traceback (most recent call last)",
      "\u001b[1;32m<ipython-input-101-cec6c718ecc7>\u001b[0m in \u001b[0;36m<module>\u001b[1;34m\u001b[0m\n\u001b[0;32m      3\u001b[0m \u001b[0mshape1\u001b[0m \u001b[1;33m=\u001b[0m \u001b[0mshape1\u001b[0m\u001b[1;33m[\u001b[0m\u001b[1;33m[\u001b[0m\u001b[1;34m'x'\u001b[0m\u001b[1;33m,\u001b[0m \u001b[1;34m'y'\u001b[0m\u001b[1;33m,\u001b[0m \u001b[1;34m'z'\u001b[0m\u001b[1;33m]\u001b[0m\u001b[1;33m]\u001b[0m\u001b[1;33m\u001b[0m\u001b[1;33m\u001b[0m\u001b[0m\n\u001b[0;32m      4\u001b[0m \u001b[0mshape2\u001b[0m \u001b[1;33m=\u001b[0m \u001b[0mshape2\u001b[0m\u001b[1;33m[\u001b[0m\u001b[1;33m[\u001b[0m\u001b[1;34m'x'\u001b[0m\u001b[1;33m,\u001b[0m \u001b[1;34m'y'\u001b[0m\u001b[1;33m,\u001b[0m \u001b[1;34m'z'\u001b[0m\u001b[1;33m]\u001b[0m\u001b[1;33m]\u001b[0m\u001b[1;33m\u001b[0m\u001b[1;33m\u001b[0m\u001b[0m\n\u001b[1;32m----> 5\u001b[1;33m \u001b[0mborder1\u001b[0m \u001b[1;33m=\u001b[0m \u001b[0mget_border_inds\u001b[0m\u001b[1;33m(\u001b[0m\u001b[0mshape1\u001b[0m\u001b[1;33m)\u001b[0m\u001b[1;33m\u001b[0m\u001b[1;33m\u001b[0m\u001b[0m\n\u001b[0m\u001b[0;32m      6\u001b[0m \u001b[0mborder2\u001b[0m \u001b[1;33m=\u001b[0m \u001b[0mget_border_inds\u001b[0m\u001b[1;33m(\u001b[0m\u001b[0mshape2\u001b[0m\u001b[1;33m)\u001b[0m\u001b[1;33m\u001b[0m\u001b[1;33m\u001b[0m\u001b[0m\n\u001b[0;32m      7\u001b[0m \u001b[1;33m\u001b[0m\u001b[0m\n",
      "\u001b[1;32m<ipython-input-69-44edfdf927d2>\u001b[0m in \u001b[0;36mget_border_inds\u001b[1;34m(shape)\u001b[0m\n\u001b[0;32m      9\u001b[0m     \u001b[0minterior\u001b[0m \u001b[1;33m=\u001b[0m \u001b[0mbinary_erosion\u001b[0m\u001b[1;33m(\u001b[0m\u001b[0mshape_np\u001b[0m\u001b[1;33m)\u001b[0m\u001b[1;33m\u001b[0m\u001b[1;33m\u001b[0m\u001b[0m\n\u001b[0;32m     10\u001b[0m \u001b[1;33m\u001b[0m\u001b[0m\n\u001b[1;32m---> 11\u001b[1;33m     \u001b[0mborder\u001b[0m \u001b[1;33m=\u001b[0m \u001b[0mnp\u001b[0m\u001b[1;33m.\u001b[0m\u001b[0mlogical_xor\u001b[0m\u001b[1;33m(\u001b[0m\u001b[0mshape_np\u001b[0m\u001b[1;33m,\u001b[0m \u001b[0minterior\u001b[0m\u001b[1;33m)\u001b[0m\u001b[1;33m\u001b[0m\u001b[1;33m\u001b[0m\u001b[0m\n\u001b[0m\u001b[0;32m     12\u001b[0m \u001b[1;33m\u001b[0m\u001b[0m\n\u001b[0;32m     13\u001b[0m     \u001b[0mborder_inds\u001b[0m \u001b[1;33m=\u001b[0m \u001b[0mnp\u001b[0m\u001b[1;33m.\u001b[0m\u001b[0margwhere\u001b[0m\u001b[1;33m(\u001b[0m\u001b[0mborder\u001b[0m \u001b[1;33m==\u001b[0m \u001b[1;32mTrue\u001b[0m\u001b[1;33m)\u001b[0m\u001b[1;33m\u001b[0m\u001b[1;33m\u001b[0m\u001b[0m\n",
      "\u001b[1;31mKeyboardInterrupt\u001b[0m: "
     ]
    }
   ],
   "source": [
    "shape1 = adf.loc[adf['id'] == 10]\n",
    "shape2 = adf.loc[adf['id'] == 11]\n",
    "shape1 = shape1[['x', 'y', 'z']]\n",
    "shape2 = shape2[['x', 'y', 'z']]\n",
    "border1 = get_border_inds(shape1)\n",
    "border2 = get_border_inds(shape2)\n",
    "\n",
    "mat = cdist(border1, border2)\n",
    "\n",
    "min_dist = mat.min()"
   ]
  },
  {
   "cell_type": "code",
   "execution_count": 97,
   "metadata": {},
   "outputs": [
    {
     "data": {
      "text/plain": [
       "288.91867367825154"
      ]
     },
     "execution_count": 97,
     "metadata": {},
     "output_type": "execute_result"
    }
   ],
   "source": [
    "min_dist"
   ]
  },
  {
   "cell_type": "code",
   "execution_count": null,
   "metadata": {},
   "outputs": [],
   "source": []
  },
  {
   "cell_type": "code",
   "execution_count": 98,
   "metadata": {},
   "outputs": [],
   "source": [
    "from scipy.spatial import cKDTree\n",
    "min_dists, min_dist_idx = cKDTree(border1).query(border2, 1)"
   ]
  },
  {
   "cell_type": "code",
   "execution_count": 99,
   "metadata": {},
   "outputs": [
    {
     "data": {
      "text/plain": [
       "288.91867367825154"
      ]
     },
     "execution_count": 99,
     "metadata": {},
     "output_type": "execute_result"
    }
   ],
   "source": [
    "min_dists.min()"
   ]
  },
  {
   "cell_type": "code",
   "execution_count": null,
   "metadata": {},
   "outputs": [],
   "source": []
  },
  {
   "cell_type": "code",
   "execution_count": null,
   "metadata": {},
   "outputs": [],
   "source": []
  },
  {
   "cell_type": "code",
   "execution_count": 59,
   "metadata": {},
   "outputs": [],
   "source": [
    "indices = shape1.values"
   ]
  },
  {
   "cell_type": "code",
   "execution_count": 67,
   "metadata": {},
   "outputs": [],
   "source": [
    "shape_np = np.ndarray(((indices.max()+1, indices.max()+1, indices.max()+1)))\n",
    "\n",
    "for i in range(indices.shape[0]):\n",
    "    shape_np[indices[i, 0], indices[i, 1], indices[i, 2]] = 1"
   ]
  },
  {
   "cell_type": "code",
   "execution_count": 68,
   "metadata": {},
   "outputs": [
    {
     "data": {
      "text/plain": [
       "array([0., 1.])"
      ]
     },
     "execution_count": 68,
     "metadata": {},
     "output_type": "execute_result"
    }
   ],
   "source": [
    "np.unique(shape_np)"
   ]
  },
  {
   "cell_type": "code",
   "execution_count": null,
   "metadata": {},
   "outputs": [],
   "source": []
  },
  {
   "cell_type": "code",
   "execution_count": null,
   "metadata": {},
   "outputs": [],
   "source": []
  },
  {
   "cell_type": "code",
   "execution_count": 148,
   "metadata": {},
   "outputs": [],
   "source": [
    "border1 = get_border_inds(shape1)\n",
    "border2 = get_border_inds(shape2)"
   ]
  },
  {
   "cell_type": "code",
   "execution_count": 149,
   "metadata": {},
   "outputs": [
    {
     "data": {
      "text/plain": [
       "array([[ 11,   0,   0],\n",
       "       [ 11,   0,   1],\n",
       "       [ 11,   0,   2],\n",
       "       ...,\n",
       "       [924, 949, 947],\n",
       "       [924, 949, 948],\n",
       "       [924, 949, 949]], dtype=int64)"
      ]
     },
     "execution_count": 149,
     "metadata": {},
     "output_type": "execute_result"
    }
   ],
   "source": [
    "border2"
   ]
  },
  {
   "cell_type": "code",
   "execution_count": 103,
   "metadata": {},
   "outputs": [],
   "source": [
    "indices = shape1.values\n",
    "\n",
    "for i in range(indices.shape[0]):\n",
    "    s1[indices[i, :]] = 1"
   ]
  },
  {
   "cell_type": "code",
   "execution_count": 106,
   "metadata": {},
   "outputs": [],
   "source": [
    "b = binary_erosion(s1)"
   ]
  },
  {
   "cell_type": "code",
   "execution_count": 143,
   "metadata": {},
   "outputs": [],
   "source": [
    "border = np.logical_xor(s1, b)"
   ]
  },
  {
   "cell_type": "code",
   "execution_count": 144,
   "metadata": {},
   "outputs": [],
   "source": [
    "border_inds = np.argwhere(border == True)"
   ]
  },
  {
   "cell_type": "code",
   "execution_count": 145,
   "metadata": {},
   "outputs": [
    {
     "data": {
      "text/plain": [
       "(15129, 3)"
      ]
     },
     "execution_count": 145,
     "metadata": {},
     "output_type": "execute_result"
    }
   ],
   "source": [
    "border_inds.shape"
   ]
  },
  {
   "cell_type": "code",
   "execution_count": null,
   "metadata": {},
   "outputs": [],
   "source": []
  },
  {
   "cell_type": "code",
   "execution_count": null,
   "metadata": {},
   "outputs": [],
   "source": []
  },
  {
   "cell_type": "code",
   "execution_count": 111,
   "metadata": {},
   "outputs": [
    {
     "data": {
      "text/plain": [
       "(123, 123, 123)"
      ]
     },
     "execution_count": 111,
     "metadata": {},
     "output_type": "execute_result"
    }
   ],
   "source": [
    "s1.shape"
   ]
  },
  {
   "cell_type": "code",
   "execution_count": 112,
   "metadata": {},
   "outputs": [
    {
     "data": {
      "text/plain": [
       "(123, 123, 123)"
      ]
     },
     "execution_count": 112,
     "metadata": {},
     "output_type": "execute_result"
    }
   ],
   "source": [
    "b.shape"
   ]
  },
  {
   "cell_type": "code",
   "execution_count": 105,
   "metadata": {},
   "outputs": [
    {
     "data": {
      "text/plain": [
       "(123, 123, 123)"
      ]
     },
     "execution_count": 105,
     "metadata": {},
     "output_type": "execute_result"
    }
   ],
   "source": [
    "s1.shape"
   ]
  },
  {
   "cell_type": "code",
   "execution_count": null,
   "metadata": {},
   "outputs": [],
   "source": []
  },
  {
   "cell_type": "code",
   "execution_count": 88,
   "metadata": {},
   "outputs": [
    {
     "data": {
      "text/plain": [
       "(117557, 3)"
      ]
     },
     "execution_count": 88,
     "metadata": {},
     "output_type": "execute_result"
    }
   ],
   "source": [
    "shape1.values.shape"
   ]
  },
  {
   "cell_type": "code",
   "execution_count": 87,
   "metadata": {},
   "outputs": [
    {
     "data": {
      "text/plain": [
       "55"
      ]
     },
     "execution_count": 87,
     "metadata": {},
     "output_type": "execute_result"
    }
   ],
   "source": [
    "shape1.z.max()"
   ]
  },
  {
   "cell_type": "code",
   "execution_count": 84,
   "metadata": {},
   "outputs": [
    {
     "data": {
      "text/plain": [
       "(113, 123, 57)"
      ]
     },
     "execution_count": 84,
     "metadata": {},
     "output_type": "execute_result"
    }
   ],
   "source": [
    "s1.shape"
   ]
  },
  {
   "cell_type": "code",
   "execution_count": null,
   "metadata": {},
   "outputs": [],
   "source": []
  },
  {
   "cell_type": "code",
   "execution_count": null,
   "metadata": {},
   "outputs": [],
   "source": []
  },
  {
   "cell_type": "code",
   "execution_count": null,
   "metadata": {},
   "outputs": [],
   "source": []
  },
  {
   "cell_type": "code",
   "execution_count": null,
   "metadata": {},
   "outputs": [],
   "source": []
  },
  {
   "cell_type": "code",
   "execution_count": null,
   "metadata": {},
   "outputs": [],
   "source": []
  },
  {
   "cell_type": "code",
   "execution_count": 67,
   "metadata": {},
   "outputs": [],
   "source": [
    "a = np.array(a) "
   ]
  },
  {
   "cell_type": "code",
   "execution_count": 63,
   "metadata": {},
   "outputs": [],
   "source": []
  },
  {
   "cell_type": "code",
   "execution_count": 64,
   "metadata": {},
   "outputs": [],
   "source": [
    "b = binary_erosion(a)"
   ]
  },
  {
   "cell_type": "code",
   "execution_count": null,
   "metadata": {},
   "outputs": [],
   "source": []
  },
  {
   "cell_type": "code",
   "execution_count": null,
   "metadata": {},
   "outputs": [],
   "source": []
  },
  {
   "cell_type": "code",
   "execution_count": null,
   "metadata": {},
   "outputs": [],
   "source": []
  },
  {
   "cell_type": "code",
   "execution_count": null,
   "metadata": {},
   "outputs": [],
   "source": []
  },
  {
   "cell_type": "code",
   "execution_count": null,
   "metadata": {},
   "outputs": [],
   "source": []
  },
  {
   "cell_type": "code",
   "execution_count": 97,
   "metadata": {},
   "outputs": [],
   "source": [
    "xy_axis = ids[['center_y', 'center_x']]"
   ]
  },
  {
   "cell_type": "code",
   "execution_count": 98,
   "metadata": {},
   "outputs": [],
   "source": [
    "xy_dist = cdist(xy_axis, xy_axis)"
   ]
  },
  {
   "cell_type": "code",
   "execution_count": 99,
   "metadata": {},
   "outputs": [],
   "source": [
    "z_axis = np.vstack([z_axis, np.zeros((z_axis.shape[0]))]).T"
   ]
  },
  {
   "cell_type": "code",
   "execution_count": 100,
   "metadata": {},
   "outputs": [],
   "source": [
    "z_dist = cdist(z_axis, z_axis)"
   ]
  },
  {
   "cell_type": "code",
   "execution_count": 70,
   "metadata": {},
   "outputs": [
    {
     "data": {
      "text/plain": [
       "array([[  0.        ,  20.51828453,  20.51828453,  65.60487787,\n",
       "         19.20937271, 118.13974776],\n",
       "       [ 20.51828453,   0.        ,   0.        ,  86.05230967,\n",
       "          2.        , 128.99612397],\n",
       "       [ 20.51828453,   0.        ,   0.        ,  86.05230967,\n",
       "          2.        , 128.99612397],\n",
       "       [ 65.60487787,  86.05230967,  86.05230967,   0.        ,\n",
       "         84.81155582, 111.19802157],\n",
       "       [ 19.20937271,   2.        ,   2.        ,  84.81155582,\n",
       "          0.        , 127.01181047],\n",
       "       [118.13974776, 128.99612397, 128.99612397, 111.19802157,\n",
       "        127.01181047,   0.        ]])"
      ]
     },
     "execution_count": 70,
     "metadata": {},
     "output_type": "execute_result"
    }
   ],
   "source": [
    "xy_dist"
   ]
  },
  {
   "cell_type": "code",
   "execution_count": null,
   "metadata": {},
   "outputs": [],
   "source": []
  },
  {
   "cell_type": "code",
   "execution_count": null,
   "metadata": {},
   "outputs": [],
   "source": []
  },
  {
   "cell_type": "code",
   "execution_count": null,
   "metadata": {},
   "outputs": [],
   "source": []
  },
  {
   "cell_type": "code",
   "execution_count": null,
   "metadata": {},
   "outputs": [],
   "source": []
  },
  {
   "cell_type": "code",
   "execution_count": null,
   "metadata": {},
   "outputs": [],
   "source": []
  },
  {
   "cell_type": "code",
   "execution_count": null,
   "metadata": {},
   "outputs": [],
   "source": []
  },
  {
   "cell_type": "code",
   "execution_count": null,
   "metadata": {},
   "outputs": [],
   "source": []
  },
  {
   "cell_type": "code",
   "execution_count": null,
   "metadata": {},
   "outputs": [],
   "source": []
  },
  {
   "cell_type": "code",
   "execution_count": null,
   "metadata": {},
   "outputs": [],
   "source": []
  },
  {
   "cell_type": "code",
   "execution_count": 32,
   "metadata": {},
   "outputs": [],
   "source": [
    "ids = ddf.loc[ddf.center_x.between(lx, ux)]"
   ]
  },
  {
   "cell_type": "code",
   "execution_count": 35,
   "metadata": {},
   "outputs": [
    {
     "data": {
      "text/plain": [
       "576"
      ]
     },
     "execution_count": 35,
     "metadata": {},
     "output_type": "execute_result"
    }
   ],
   "source": [
    "ids.center_y.max()"
   ]
  },
  {
   "cell_type": "code",
   "execution_count": 26,
   "metadata": {},
   "outputs": [
    {
     "data": {
      "text/html": [
       "<div>\n",
       "<style scoped>\n",
       "    .dataframe tbody tr th:only-of-type {\n",
       "        vertical-align: middle;\n",
       "    }\n",
       "\n",
       "    .dataframe tbody tr th {\n",
       "        vertical-align: top;\n",
       "    }\n",
       "\n",
       "    .dataframe thead th {\n",
       "        text-align: right;\n",
       "    }\n",
       "</style>\n",
       "<table border=\"1\" class=\"dataframe\">\n",
       "  <thead>\n",
       "    <tr style=\"text-align: right;\">\n",
       "      <th></th>\n",
       "      <th>id</th>\n",
       "      <th>y_min</th>\n",
       "      <th>y_max</th>\n",
       "      <th>x_min</th>\n",
       "      <th>x_max</th>\n",
       "      <th>z_min</th>\n",
       "      <th>z_max</th>\n",
       "      <th>center_y</th>\n",
       "      <th>center_x</th>\n",
       "      <th>center_z</th>\n",
       "    </tr>\n",
       "  </thead>\n",
       "  <tbody>\n",
       "    <tr>\n",
       "      <th>0</th>\n",
       "      <td>0</td>\n",
       "      <td>262</td>\n",
       "      <td>343</td>\n",
       "      <td>195</td>\n",
       "      <td>268</td>\n",
       "      <td>927</td>\n",
       "      <td>1035</td>\n",
       "      <td>302</td>\n",
       "      <td>231</td>\n",
       "      <td>981</td>\n",
       "    </tr>\n",
       "    <tr>\n",
       "      <th>3</th>\n",
       "      <td>3</td>\n",
       "      <td>211</td>\n",
       "      <td>303</td>\n",
       "      <td>257</td>\n",
       "      <td>344</td>\n",
       "      <td>852</td>\n",
       "      <td>903</td>\n",
       "      <td>257</td>\n",
       "      <td>300</td>\n",
       "      <td>877</td>\n",
       "    </tr>\n",
       "    <tr>\n",
       "      <th>9</th>\n",
       "      <td>9</td>\n",
       "      <td>210</td>\n",
       "      <td>298</td>\n",
       "      <td>252</td>\n",
       "      <td>340</td>\n",
       "      <td>1002</td>\n",
       "      <td>1025</td>\n",
       "      <td>254</td>\n",
       "      <td>296</td>\n",
       "      <td>1013</td>\n",
       "    </tr>\n",
       "    <tr>\n",
       "      <th>10</th>\n",
       "      <td>10</td>\n",
       "      <td>258</td>\n",
       "      <td>347</td>\n",
       "      <td>194</td>\n",
       "      <td>268</td>\n",
       "      <td>1159</td>\n",
       "      <td>1197</td>\n",
       "      <td>302</td>\n",
       "      <td>231</td>\n",
       "      <td>1178</td>\n",
       "    </tr>\n",
       "    <tr>\n",
       "      <th>11</th>\n",
       "      <td>11</td>\n",
       "      <td>204</td>\n",
       "      <td>264</td>\n",
       "      <td>96</td>\n",
       "      <td>208</td>\n",
       "      <td>929</td>\n",
       "      <td>976</td>\n",
       "      <td>234</td>\n",
       "      <td>152</td>\n",
       "      <td>952</td>\n",
       "    </tr>\n",
       "    <tr>\n",
       "      <th>...</th>\n",
       "      <td>...</td>\n",
       "      <td>...</td>\n",
       "      <td>...</td>\n",
       "      <td>...</td>\n",
       "      <td>...</td>\n",
       "      <td>...</td>\n",
       "      <td>...</td>\n",
       "      <td>...</td>\n",
       "      <td>...</td>\n",
       "      <td>...</td>\n",
       "    </tr>\n",
       "    <tr>\n",
       "      <th>256</th>\n",
       "      <td>256</td>\n",
       "      <td>195</td>\n",
       "      <td>207</td>\n",
       "      <td>360</td>\n",
       "      <td>375</td>\n",
       "      <td>803</td>\n",
       "      <td>806</td>\n",
       "      <td>201</td>\n",
       "      <td>367</td>\n",
       "      <td>804</td>\n",
       "    </tr>\n",
       "    <tr>\n",
       "      <th>257</th>\n",
       "      <td>257</td>\n",
       "      <td>409</td>\n",
       "      <td>421</td>\n",
       "      <td>161</td>\n",
       "      <td>175</td>\n",
       "      <td>1122</td>\n",
       "      <td>1123</td>\n",
       "      <td>415</td>\n",
       "      <td>168</td>\n",
       "      <td>1122</td>\n",
       "    </tr>\n",
       "    <tr>\n",
       "      <th>262</th>\n",
       "      <td>262</td>\n",
       "      <td>171</td>\n",
       "      <td>177</td>\n",
       "      <td>330</td>\n",
       "      <td>349</td>\n",
       "      <td>33</td>\n",
       "      <td>37</td>\n",
       "      <td>174</td>\n",
       "      <td>339</td>\n",
       "      <td>35</td>\n",
       "    </tr>\n",
       "    <tr>\n",
       "      <th>264</th>\n",
       "      <td>264</td>\n",
       "      <td>387</td>\n",
       "      <td>396</td>\n",
       "      <td>257</td>\n",
       "      <td>264</td>\n",
       "      <td>281</td>\n",
       "      <td>284</td>\n",
       "      <td>391</td>\n",
       "      <td>260</td>\n",
       "      <td>282</td>\n",
       "    </tr>\n",
       "    <tr>\n",
       "      <th>266</th>\n",
       "      <td>266</td>\n",
       "      <td>568</td>\n",
       "      <td>575</td>\n",
       "      <td>200</td>\n",
       "      <td>212</td>\n",
       "      <td>0</td>\n",
       "      <td>5</td>\n",
       "      <td>571</td>\n",
       "      <td>206</td>\n",
       "      <td>2</td>\n",
       "    </tr>\n",
       "  </tbody>\n",
       "</table>\n",
       "<p>91 rows × 10 columns</p>\n",
       "</div>"
      ],
      "text/plain": [
       "      id  y_min  y_max  x_min  x_max  z_min  z_max  center_y  center_x  \\\n",
       "0      0    262    343    195    268    927   1035       302       231   \n",
       "3      3    211    303    257    344    852    903       257       300   \n",
       "9      9    210    298    252    340   1002   1025       254       296   \n",
       "10    10    258    347    194    268   1159   1197       302       231   \n",
       "11    11    204    264     96    208    929    976       234       152   \n",
       "..   ...    ...    ...    ...    ...    ...    ...       ...       ...   \n",
       "256  256    195    207    360    375    803    806       201       367   \n",
       "257  257    409    421    161    175   1122   1123       415       168   \n",
       "262  262    171    177    330    349     33     37       174       339   \n",
       "264  264    387    396    257    264    281    284       391       260   \n",
       "266  266    568    575    200    212      0      5       571       206   \n",
       "\n",
       "     center_z  \n",
       "0         981  \n",
       "3         877  \n",
       "9        1013  \n",
       "10       1178  \n",
       "11        952  \n",
       "..        ...  \n",
       "256       804  \n",
       "257      1122  \n",
       "262        35  \n",
       "264       282  \n",
       "266         2  \n",
       "\n",
       "[91 rows x 10 columns]"
      ]
     },
     "execution_count": 26,
     "metadata": {},
     "output_type": "execute_result"
    }
   ],
   "source": [
    "ids"
   ]
  },
  {
   "cell_type": "code",
   "execution_count": null,
   "metadata": {},
   "outputs": [],
   "source": []
  },
  {
   "cell_type": "code",
   "execution_count": null,
   "metadata": {},
   "outputs": [],
   "source": []
  },
  {
   "cell_type": "code",
   "execution_count": 17,
   "metadata": {},
   "outputs": [
    {
     "data": {
      "text/plain": [
       "955"
      ]
     },
     "execution_count": 17,
     "metadata": {},
     "output_type": "execute_result"
    }
   ],
   "source": [
    "df.center_x.max()"
   ]
  },
  {
   "cell_type": "code",
   "execution_count": 18,
   "metadata": {},
   "outputs": [
    {
     "data": {
      "text/plain": [
       "602"
      ]
     },
     "execution_count": 18,
     "metadata": {},
     "output_type": "execute_result"
    }
   ],
   "source": [
    "df.center_y.max()"
   ]
  },
  {
   "cell_type": "code",
   "execution_count": null,
   "metadata": {},
   "outputs": [],
   "source": []
  },
  {
   "cell_type": "code",
   "execution_count": null,
   "metadata": {},
   "outputs": [],
   "source": []
  },
  {
   "cell_type": "code",
   "execution_count": null,
   "metadata": {},
   "outputs": [],
   "source": []
  },
  {
   "cell_type": "code",
   "execution_count": null,
   "metadata": {},
   "outputs": [],
   "source": []
  },
  {
   "cell_type": "code",
   "execution_count": null,
   "metadata": {},
   "outputs": [],
   "source": []
  },
  {
   "cell_type": "code",
   "execution_count": null,
   "metadata": {},
   "outputs": [],
   "source": []
  },
  {
   "cell_type": "code",
   "execution_count": null,
   "metadata": {},
   "outputs": [],
   "source": []
  },
  {
   "cell_type": "code",
   "execution_count": null,
   "metadata": {},
   "outputs": [],
   "source": []
  }
 ],
 "metadata": {
  "kernelspec": {
   "display_name": "Python 3",
   "language": "python",
   "name": "python3"
  },
  "language_info": {
   "codemirror_mode": {
    "name": "ipython",
    "version": 3
   },
   "file_extension": ".py",
   "mimetype": "text/x-python",
   "name": "python",
   "nbconvert_exporter": "python",
   "pygments_lexer": "ipython3",
   "version": "3.7.7"
  }
 },
 "nbformat": 4,
 "nbformat_minor": 4
}
