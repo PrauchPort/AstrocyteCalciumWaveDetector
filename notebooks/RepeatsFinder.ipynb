{
 "cells": [
  {
   "cell_type": "code",
   "execution_count": 63,
   "metadata": {},
   "outputs": [],
   "source": [
    "import os\n",
    "import pandas as pd\n",
    "import numpy as np"
   ]
  },
  {
   "cell_type": "code",
   "execution_count": 64,
   "metadata": {},
   "outputs": [],
   "source": [
    "path = r'F:\\Astral\\backup\\backup3\\Cont_AA_2_1'\n",
    "file = r'neighbors.csv'\n",
    "abs_file = r'segmentation_absolute.h5'\n",
    "waves_path = os.path.join(path, 'waves_morph.npy')"
   ]
  },
  {
   "cell_type": "code",
   "execution_count": 106,
   "metadata": {},
   "outputs": [],
   "source": [
    "neighbor_csv = pd.read_csv(os.path.join(path, file))\n",
    "abs_csv = pd.read_hdf(os.path.join(path, abs_file))\n",
    "rel_csv = pd.read_hdf(os.path.join(path, r'segmentation_relative.h5'))\n",
    "waves = np.load(waves_path)"
   ]
  },
  {
   "cell_type": "code",
   "execution_count": 66,
   "metadata": {},
   "outputs": [],
   "source": [
    "def intersection_over_union(shape1, shape2):\n",
    "    intersection = intersection2d(shape1, shape2)\n",
    "    union = np.unique(np.vstack([shape1, shape2]), axis=0)\n",
    "    return intersection.shape[0] / union.shape[0]"
   ]
  },
  {
   "cell_type": "code",
   "execution_count": 67,
   "metadata": {},
   "outputs": [],
   "source": [
    "def intersection2d(X, Y):\n",
    "        \"\"\"\n",
    "        Function to find intersection of two 2D arrays.\n",
    "        Returns index of rows in X that are common to Y.\n",
    "        \"\"\"\n",
    "        X = np.tile(X[:,:,None], (1, 1, Y.shape[0]) )\n",
    "        Y = np.swapaxes(Y[:,:,None], 0, 2)\n",
    "        Y = np.tile(Y, (X.shape[0], 1, 1))\n",
    "        eq = np.all(np.equal(X, Y), axis = 1)\n",
    "        eq = np.any(eq, axis = 1)\n",
    "        return np.nonzero(eq)[0]"
   ]
  },
  {
   "cell_type": "code",
   "execution_count": 68,
   "metadata": {},
   "outputs": [],
   "source": [
    "def get_shape_voxels_by_id(abs_csv, shape_id):\n",
    "    return abs_csv.loc[abs_csv['id'] == shape_id]\n",
    "\n",
    "def get_z_projection(shape):\n",
    "    shape = shape[['x', 'y']]\n",
    "    shape = np.unique(shape, axis=0)\n",
    "    return shape\n",
    "\n",
    "def do_overlap(shape1, shape2, threshold):\n",
    "    intersected = intersection2d(shape1, shape2)\n",
    "    iou = intersection_over_union(shape1, shape2)\n",
    "    larger = sorted([shape1, shape2], key=len)[-1]\n",
    "#     print(f'Intersection length: {intersected.shape[0]}')\n",
    "#     print(f'Shape1 shape: {shape1.shape[0]}')\n",
    "#     print(f'Shape2 shape: {shape2.shape[0]}')\n",
    "    return intersected.shape[0] / larger.shape[0] >= threshold\n",
    "#     return iou > threshold"
   ]
  },
  {
   "cell_type": "code",
   "execution_count": 69,
   "metadata": {},
   "outputs": [
    {
     "name": "stderr",
     "output_type": "stream",
     "text": [
      "  0%|                                                                                          | 0/931 [00:04<?, ?it/s]\n"
     ]
    },
    {
     "ename": "KeyboardInterrupt",
     "evalue": "",
     "output_type": "error",
     "traceback": [
      "\u001b[1;31m---------------------------------------------------------------------------\u001b[0m",
      "\u001b[1;31mKeyboardInterrupt\u001b[0m                         Traceback (most recent call last)",
      "\u001b[1;32m<ipython-input-69-d763274c2238>\u001b[0m in \u001b[0;36m<module>\u001b[1;34m\u001b[0m\n\u001b[0;32m     17\u001b[0m         \u001b[0mshape2\u001b[0m \u001b[1;33m=\u001b[0m  \u001b[0mget_shape_voxels_by_id\u001b[0m\u001b[1;33m(\u001b[0m\u001b[0mabs_csv\u001b[0m\u001b[1;33m,\u001b[0m \u001b[0mshape2_id\u001b[0m\u001b[1;33m)\u001b[0m\u001b[1;33m\u001b[0m\u001b[1;33m\u001b[0m\u001b[0m\n\u001b[0;32m     18\u001b[0m \u001b[1;31m#         print(f\"Shape2 id: {shape2_id}\")\u001b[0m\u001b[1;33m\u001b[0m\u001b[1;33m\u001b[0m\u001b[1;33m\u001b[0m\u001b[0m\n\u001b[1;32m---> 19\u001b[1;33m         \u001b[0mshape1_proj\u001b[0m \u001b[1;33m=\u001b[0m \u001b[0mget_z_projection\u001b[0m\u001b[1;33m(\u001b[0m\u001b[0mshape1\u001b[0m\u001b[1;33m)\u001b[0m\u001b[1;33m\u001b[0m\u001b[1;33m\u001b[0m\u001b[0m\n\u001b[0m\u001b[0;32m     20\u001b[0m         \u001b[0mshape2_proj\u001b[0m \u001b[1;33m=\u001b[0m \u001b[0mget_z_projection\u001b[0m\u001b[1;33m(\u001b[0m\u001b[0mshape2\u001b[0m\u001b[1;33m)\u001b[0m\u001b[1;33m\u001b[0m\u001b[1;33m\u001b[0m\u001b[0m\n\u001b[0;32m     21\u001b[0m         \u001b[1;32mif\u001b[0m \u001b[0mdo_overlap\u001b[0m\u001b[1;33m(\u001b[0m\u001b[0mshape1_proj\u001b[0m\u001b[1;33m,\u001b[0m \u001b[0mshape2_proj\u001b[0m\u001b[1;33m,\u001b[0m \u001b[0mthreshold\u001b[0m\u001b[1;33m)\u001b[0m\u001b[1;33m:\u001b[0m\u001b[1;33m\u001b[0m\u001b[1;33m\u001b[0m\u001b[0m\n",
      "\u001b[1;32m<ipython-input-68-430c13920346>\u001b[0m in \u001b[0;36mget_z_projection\u001b[1;34m(shape)\u001b[0m\n\u001b[0;32m      4\u001b[0m \u001b[1;32mdef\u001b[0m \u001b[0mget_z_projection\u001b[0m\u001b[1;33m(\u001b[0m\u001b[0mshape\u001b[0m\u001b[1;33m)\u001b[0m\u001b[1;33m:\u001b[0m\u001b[1;33m\u001b[0m\u001b[1;33m\u001b[0m\u001b[0m\n\u001b[0;32m      5\u001b[0m     \u001b[0mshape\u001b[0m \u001b[1;33m=\u001b[0m \u001b[0mshape\u001b[0m\u001b[1;33m[\u001b[0m\u001b[1;33m[\u001b[0m\u001b[1;34m'x'\u001b[0m\u001b[1;33m,\u001b[0m \u001b[1;34m'y'\u001b[0m\u001b[1;33m]\u001b[0m\u001b[1;33m]\u001b[0m\u001b[1;33m\u001b[0m\u001b[1;33m\u001b[0m\u001b[0m\n\u001b[1;32m----> 6\u001b[1;33m     \u001b[0mshape\u001b[0m \u001b[1;33m=\u001b[0m \u001b[0mnp\u001b[0m\u001b[1;33m.\u001b[0m\u001b[0munique\u001b[0m\u001b[1;33m(\u001b[0m\u001b[0mshape\u001b[0m\u001b[1;33m,\u001b[0m \u001b[0maxis\u001b[0m\u001b[1;33m=\u001b[0m\u001b[1;36m0\u001b[0m\u001b[1;33m)\u001b[0m\u001b[1;33m\u001b[0m\u001b[1;33m\u001b[0m\u001b[0m\n\u001b[0m\u001b[0;32m      7\u001b[0m     \u001b[1;32mreturn\u001b[0m \u001b[0mshape\u001b[0m\u001b[1;33m\u001b[0m\u001b[1;33m\u001b[0m\u001b[0m\n\u001b[0;32m      8\u001b[0m \u001b[1;33m\u001b[0m\u001b[0m\n",
      "\u001b[1;32mc:\\programdata\\anaconda3\\envs\\astro\\lib\\site-packages\\numpy\\lib\\arraysetops.py\u001b[0m in \u001b[0;36munique\u001b[1;34m(ar, return_index, return_inverse, return_counts, axis)\u001b[0m\n\u001b[0;32m    292\u001b[0m \u001b[1;33m\u001b[0m\u001b[0m\n\u001b[0;32m    293\u001b[0m     output = _unique1d(consolidated, return_index,\n\u001b[1;32m--> 294\u001b[1;33m                        return_inverse, return_counts)\n\u001b[0m\u001b[0;32m    295\u001b[0m     \u001b[0moutput\u001b[0m \u001b[1;33m=\u001b[0m \u001b[1;33m(\u001b[0m\u001b[0mreshape_uniq\u001b[0m\u001b[1;33m(\u001b[0m\u001b[0moutput\u001b[0m\u001b[1;33m[\u001b[0m\u001b[1;36m0\u001b[0m\u001b[1;33m]\u001b[0m\u001b[1;33m)\u001b[0m\u001b[1;33m,\u001b[0m\u001b[1;33m)\u001b[0m \u001b[1;33m+\u001b[0m \u001b[0moutput\u001b[0m\u001b[1;33m[\u001b[0m\u001b[1;36m1\u001b[0m\u001b[1;33m:\u001b[0m\u001b[1;33m]\u001b[0m\u001b[1;33m\u001b[0m\u001b[1;33m\u001b[0m\u001b[0m\n\u001b[0;32m    296\u001b[0m     \u001b[1;32mreturn\u001b[0m \u001b[0m_unpack_tuple\u001b[0m\u001b[1;33m(\u001b[0m\u001b[0moutput\u001b[0m\u001b[1;33m)\u001b[0m\u001b[1;33m\u001b[0m\u001b[1;33m\u001b[0m\u001b[0m\n",
      "\u001b[1;32mc:\\programdata\\anaconda3\\envs\\astro\\lib\\site-packages\\numpy\\lib\\arraysetops.py\u001b[0m in \u001b[0;36m_unique1d\u001b[1;34m(ar, return_index, return_inverse, return_counts)\u001b[0m\n\u001b[0;32m    312\u001b[0m         \u001b[0mar\u001b[0m\u001b[1;33m.\u001b[0m\u001b[0msort\u001b[0m\u001b[1;33m(\u001b[0m\u001b[1;33m)\u001b[0m\u001b[1;33m\u001b[0m\u001b[1;33m\u001b[0m\u001b[0m\n\u001b[0;32m    313\u001b[0m         \u001b[0maux\u001b[0m \u001b[1;33m=\u001b[0m \u001b[0mar\u001b[0m\u001b[1;33m\u001b[0m\u001b[1;33m\u001b[0m\u001b[0m\n\u001b[1;32m--> 314\u001b[1;33m     \u001b[0mmask\u001b[0m \u001b[1;33m=\u001b[0m \u001b[0mnp\u001b[0m\u001b[1;33m.\u001b[0m\u001b[0mempty\u001b[0m\u001b[1;33m(\u001b[0m\u001b[0maux\u001b[0m\u001b[1;33m.\u001b[0m\u001b[0mshape\u001b[0m\u001b[1;33m,\u001b[0m \u001b[0mdtype\u001b[0m\u001b[1;33m=\u001b[0m\u001b[0mnp\u001b[0m\u001b[1;33m.\u001b[0m\u001b[0mbool_\u001b[0m\u001b[1;33m)\u001b[0m\u001b[1;33m\u001b[0m\u001b[1;33m\u001b[0m\u001b[0m\n\u001b[0m\u001b[0;32m    315\u001b[0m     \u001b[0mmask\u001b[0m\u001b[1;33m[\u001b[0m\u001b[1;33m:\u001b[0m\u001b[1;36m1\u001b[0m\u001b[1;33m]\u001b[0m \u001b[1;33m=\u001b[0m \u001b[1;32mTrue\u001b[0m\u001b[1;33m\u001b[0m\u001b[1;33m\u001b[0m\u001b[0m\n\u001b[0;32m    316\u001b[0m     \u001b[0mmask\u001b[0m\u001b[1;33m[\u001b[0m\u001b[1;36m1\u001b[0m\u001b[1;33m:\u001b[0m\u001b[1;33m]\u001b[0m \u001b[1;33m=\u001b[0m \u001b[0maux\u001b[0m\u001b[1;33m[\u001b[0m\u001b[1;36m1\u001b[0m\u001b[1;33m:\u001b[0m\u001b[1;33m]\u001b[0m \u001b[1;33m!=\u001b[0m \u001b[0maux\u001b[0m\u001b[1;33m[\u001b[0m\u001b[1;33m:\u001b[0m\u001b[1;33m-\u001b[0m\u001b[1;36m1\u001b[0m\u001b[1;33m]\u001b[0m\u001b[1;33m\u001b[0m\u001b[1;33m\u001b[0m\u001b[0m\n",
      "\u001b[1;31mKeyboardInterrupt\u001b[0m: "
     ]
    }
   ],
   "source": [
    "from tqdm import tqdm\n",
    "from collections import defaultdict\n",
    "\n",
    "threshold = 0.8\n",
    "\n",
    "ids = np.unique(neighbor_csv['shape_id_1'].values).tolist()\n",
    "\n",
    "repeats = defaultdict(list)\n",
    "singles = []\n",
    "\n",
    "for shape1_id in tqdm(ids):\n",
    "    shape1 = get_shape_voxels_by_id(abs_csv, shape1_id)\n",
    "#     print(f\"Shape1 id: {shape1_id}\")\n",
    "    neighbors = neighbor_csv.loc[neighbor_csv['shape_id_1'] == shape1_id]['shape_id_2'].values\n",
    "#     print(f\"Neighbors : {neighbors}\")\n",
    "    for shape2_id in neighbors:\n",
    "        shape2 =  get_shape_voxels_by_id(abs_csv, shape2_id)\n",
    "#         print(f\"Shape2 id: {shape2_id}\")\n",
    "        shape1_proj = get_z_projection(shape1)\n",
    "        shape2_proj = get_z_projection(shape2)\n",
    "        if do_overlap(shape1_proj, shape2_proj, threshold):\n",
    "            repeats[shape1_id].append(shape2_id)\n",
    "    if not repeats[shape1_id]:\n",
    "        singles.append(shape1_id)"
   ]
  },
  {
   "cell_type": "code",
   "execution_count": 13,
   "metadata": {},
   "outputs": [],
   "source": [
    "import pickle\n",
    "\n",
    "with open(os.path.join(path, 'repeats.pickle'), 'rb') as f:\n",
    "    r = pickle.load(f)"
   ]
  },
  {
   "cell_type": "code",
   "execution_count": 14,
   "metadata": {},
   "outputs": [
    {
     "data": {
      "text/plain": [
       "[[43, 47, 50, 52],\n",
       " [143, 177, 251],\n",
       " [170, 199, 204],\n",
       " [365, 454, 467, 507, 508],\n",
       " [493, 542, 632]]"
      ]
     },
     "execution_count": 14,
     "metadata": {},
     "output_type": "execute_result"
    }
   ],
   "source": [
    "r"
   ]
  },
  {
   "cell_type": "code",
   "execution_count": null,
   "metadata": {},
   "outputs": [],
   "source": []
  },
  {
   "cell_type": "code",
   "execution_count": 107,
   "metadata": {},
   "outputs": [],
   "source": [
    "shape1 = get_shape_voxels_by_id(abs_csv, 14)\n",
    "shape1 = get_z_projection(shape1)"
   ]
  },
  {
   "cell_type": "code",
   "execution_count": 108,
   "metadata": {},
   "outputs": [],
   "source": [
    "shape2 = get_shape_voxels_by_id(abs_csv, 17)\n",
    "shape2 = get_z_projection(shape2)"
   ]
  },
  {
   "cell_type": "code",
   "execution_count": null,
   "metadata": {},
   "outputs": [],
   "source": []
  },
  {
   "cell_type": "code",
   "execution_count": 132,
   "metadata": {},
   "outputs": [],
   "source": [
    "shape2 = get_shape_voxels_by_id(rel_csv, 100)\n"
   ]
  },
  {
   "cell_type": "code",
   "execution_count": 133,
   "metadata": {},
   "outputs": [],
   "source": [
    "idxs = shape2[['x', 'y', 'z']].values"
   ]
  },
  {
   "cell_type": "code",
   "execution_count": 134,
   "metadata": {},
   "outputs": [],
   "source": [
    "def create_3d_shape(shape_idxs):\n",
    "    dim_x = shape_idxs[:, 0].max()+1 - shape_idxs[:, 0].min()\n",
    "    dim_y = shape_idxs[:, 1].max()+1 - shape_idxs[:, 1].min()\n",
    "    dim_t = shape_idxs[:, 2].max()+1 - shape_idxs[:, 2].min()\n",
    "    \n",
    "    volume = np.zeros(shape=(dim_x, dim_y, dim_t))\n",
    "    for row in shape_idxs:\n",
    "        volume[row[0], row[1], row[2]] = 1\n",
    "        \n",
    "    return volume"
   ]
  },
  {
   "cell_type": "code",
   "execution_count": 135,
   "metadata": {},
   "outputs": [],
   "source": [
    "vol = create_3d_shape(idxs)\n",
    "proj = np.sum(vol, axis=2)\n",
    "proj[proj>0] = 1\n",
    "proj = proj.astype(np.int)\n",
    "\n",
    "import\n",
    "\n",
    "circ = lambda r: (4 * math.pi * r.area) / (r.perimeter * r.perimeter)"
   ]
  },
  {
   "cell_type": "code",
   "execution_count": 136,
   "metadata": {},
   "outputs": [
    {
     "data": {
      "text/plain": [
       "[0.5918405577078788]"
      ]
     },
     "execution_count": 136,
     "metadata": {},
     "output_type": "execute_result"
    }
   ],
   "source": [
    "[circ(region) for region in regionprops(proj)]"
   ]
  },
  {
   "cell_type": "code",
   "execution_count": 142,
   "metadata": {},
   "outputs": [],
   "source": [
    "reg = list(regionprops(proj))"
   ]
  },
  {
   "cell_type": "code",
   "execution_count": 148,
   "metadata": {},
   "outputs": [
    {
     "data": {
      "text/plain": [
       "0.5918405577078788"
      ]
     },
     "execution_count": 148,
     "metadata": {},
     "output_type": "execute_result"
    }
   ],
   "source": [
    "reg[0].major_axis_length\n",
    "circ(reg[0])"
   ]
  },
  {
   "cell_type": "code",
   "execution_count": null,
   "metadata": {},
   "outputs": [],
   "source": []
  },
  {
   "cell_type": "code",
   "execution_count": 140,
   "metadata": {},
   "outputs": [],
   "source": [
    "out = regionprops(proj)"
   ]
  },
  {
   "cell_type": "code",
   "execution_count": 141,
   "metadata": {},
   "outputs": [
    {
     "data": {
      "text/plain": [
       "[<skimage.measure._regionprops.RegionProperties at 0x28d07d09f48>]"
      ]
     },
     "execution_count": 141,
     "metadata": {},
     "output_type": "execute_result"
    }
   ],
   "source": [
    "out"
   ]
  },
  {
   "cell_type": "code",
   "execution_count": 139,
   "metadata": {},
   "outputs": [
    {
     "data": {
      "text/plain": [
       "<matplotlib.image.AxesImage at 0x28d07b2cb88>"
      ]
     },
     "execution_count": 139,
     "metadata": {},
     "output_type": "execute_result"
    },
    {
     "data": {
      "image/png": "[encoded data removed]",
      "text/plain": [
       "<Figure size 432x288 with 1 Axes>"
      ]
     },
     "metadata": {
      "needs_background": "light"
     },
     "output_type": "display_data"
    }
   ],
   "source": [
    "plt.imshow(proj)"
   ]
  },
  {
   "cell_type": "code",
   "execution_count": 19,
   "metadata": {},
   "outputs": [
    {
     "data": {
      "text/plain": [
       "(4551, 2)"
      ]
     },
     "execution_count": 19,
     "metadata": {},
     "output_type": "execute_result"
    }
   ],
   "source": [
    "shape2.shape"
   ]
  },
  {
   "cell_type": "code",
   "execution_count": 42,
   "metadata": {},
   "outputs": [],
   "source": [
    "projection_plane = np.zeros(shape=(shape1[:, 0].max()+1, shape1[:, 1].max()+1), dtype=np.int16)"
   ]
  },
  {
   "cell_type": "code",
   "execution_count": 51,
   "metadata": {},
   "outputs": [],
   "source": [
    "for item in shape1:\n",
    "    projection_plane[item[0], item[1]] = 1"
   ]
  },
  {
   "cell_type": "code",
   "execution_count": 52,
   "metadata": {},
   "outputs": [],
   "source": [
    "projection_plane[shape1] = 1"
   ]
  },
  {
   "cell_type": "code",
   "execution_count": 53,
   "metadata": {},
   "outputs": [
    {
     "data": {
      "text/plain": [
       "array([[0, 0, 0, ..., 0, 0, 0],\n",
       "       [0, 0, 0, ..., 0, 0, 0],\n",
       "       [0, 0, 0, ..., 0, 0, 0],\n",
       "       ...,\n",
       "       [1, 1, 1, ..., 1, 1, 1],\n",
       "       [1, 1, 1, ..., 1, 1, 1],\n",
       "       [1, 1, 1, ..., 1, 1, 1]], dtype=int16)"
      ]
     },
     "execution_count": 53,
     "metadata": {},
     "output_type": "execute_result"
    }
   ],
   "source": [
    "projection_plane"
   ]
  },
  {
   "cell_type": "code",
   "execution_count": 54,
   "metadata": {},
   "outputs": [],
   "source": [
    "from skimage.measure import regionprops"
   ]
  },
  {
   "cell_type": "code",
   "execution_count": 57,
   "metadata": {},
   "outputs": [],
   "source": [
    "idx = np.concatenate([shape1[:, 0], shape1[:, 1]])"
   ]
  },
  {
   "cell_type": "code",
   "execution_count": 55,
   "metadata": {},
   "outputs": [],
   "source": [
    "out = regionprops(projection_plane)"
   ]
  },
  {
   "cell_type": "code",
   "execution_count": null,
   "metadata": {},
   "outputs": [],
   "source": []
  },
  {
   "cell_type": "code",
   "execution_count": 73,
   "metadata": {},
   "outputs": [
    {
     "data": {
      "image/png": "[encoded data removed]",
      "text/plain": [
       "<Figure size 288x288 with 1 Axes>"
      ]
     },
     "metadata": {
      "needs_background": "light"
     },
     "output_type": "display_data"
    }
   ],
   "source": [
    "import matplotlib.pyplot as plt\n",
    "plt.figure(figsize=(4, 4))\n",
    "plt.scatter(shape1[:,0], shape1[:,1], s=40)\n",
    "plt.scatter(shape2[:,0], shape2[:,1], s=40)\n",
    "plt.ylabel('Koordynata Y')\n",
    "plt.xlabel('Koordynata X')\n",
    "plt.title('Fale wapniowe, przykład sąsiedztwa')\n",
    "plt.show()"
   ]
  },
  {
   "cell_type": "code",
   "execution_count": null,
   "metadata": {},
   "outputs": [],
   "source": []
  },
  {
   "cell_type": "code",
   "execution_count": 79,
   "metadata": {},
   "outputs": [],
   "source": [
    "shape1 = get_shape_voxels_by_id(abs_csv, 170)\n",
    "shape1 = get_z_projection(shape1)"
   ]
  },
  {
   "cell_type": "code",
   "execution_count": 80,
   "metadata": {},
   "outputs": [],
   "source": [
    "shape2 = get_shape_voxels_by_id(abs_csv, 199)\n",
    "shape2 = get_z_projection(shape2)"
   ]
  },
  {
   "cell_type": "code",
   "execution_count": 81,
   "metadata": {},
   "outputs": [
    {
     "data": {
      "image/png": "[encoded data removed]",
      "text/plain": [
       "<Figure size 288x288 with 1 Axes>"
      ]
     },
     "metadata": {
      "needs_background": "light"
     },
     "output_type": "display_data"
    }
   ],
   "source": [
    "import matplotlib.pyplot as plt\n",
    "plt.figure(figsize=(4, 4))\n",
    "plt.scatter(shape1[:,0], shape1[:,1], s=40)\n",
    "plt.scatter(shape2[:,0], shape2[:,1], s=40)\n",
    "plt.ylabel('Koordynata Y')\n",
    "plt.xlabel('Koordynata X')\n",
    "plt.title('Fale wapniowe, przykład powtórzeń - Projekcja XY')\n",
    "plt.show()"
   ]
  },
  {
   "cell_type": "code",
   "execution_count": null,
   "metadata": {},
   "outputs": [],
   "source": []
  },
  {
   "cell_type": "code",
   "execution_count": 151,
   "metadata": {},
   "outputs": [],
   "source": [
    "p = r'F:\\Astral\\backup\\backup\\OGD_AN_3_2'\n",
    "opj = os.path.join\n",
    "\n",
    "ne = pd.read_csv(opj(p, 'neighbors.csv'))"
   ]
  },
  {
   "cell_type": "code",
   "execution_count": 152,
   "metadata": {},
   "outputs": [
    {
     "data": {
      "text/html": [
       "<div>\n",
       "<style scoped>\n",
       "    .dataframe tbody tr th:only-of-type {\n",
       "        vertical-align: middle;\n",
       "    }\n",
       "\n",
       "    .dataframe tbody tr th {\n",
       "        vertical-align: top;\n",
       "    }\n",
       "\n",
       "    .dataframe thead th {\n",
       "        text-align: right;\n",
       "    }\n",
       "</style>\n",
       "<table border=\"1\" class=\"dataframe\">\n",
       "  <thead>\n",
       "    <tr style=\"text-align: right;\">\n",
       "      <th></th>\n",
       "      <th>shape_id_1</th>\n",
       "      <th>shape_id_2</th>\n",
       "      <th>center_dist_xy</th>\n",
       "      <th>center_dist_t</th>\n",
       "      <th>center_of_mass_dist_xy</th>\n",
       "      <th>center_of_mass_dist_t</th>\n",
       "    </tr>\n",
       "  </thead>\n",
       "  <tbody>\n",
       "    <tr>\n",
       "      <th>0</th>\n",
       "      <td>0</td>\n",
       "      <td>1</td>\n",
       "      <td>100</td>\n",
       "      <td>85</td>\n",
       "      <td>111</td>\n",
       "      <td>86</td>\n",
       "    </tr>\n",
       "    <tr>\n",
       "      <th>1</th>\n",
       "      <td>0</td>\n",
       "      <td>135</td>\n",
       "      <td>110</td>\n",
       "      <td>117</td>\n",
       "      <td>115</td>\n",
       "      <td>126</td>\n",
       "    </tr>\n",
       "    <tr>\n",
       "      <th>2</th>\n",
       "      <td>0</td>\n",
       "      <td>136</td>\n",
       "      <td>188</td>\n",
       "      <td>168</td>\n",
       "      <td>200</td>\n",
       "      <td>177</td>\n",
       "    </tr>\n",
       "    <tr>\n",
       "      <th>3</th>\n",
       "      <td>0</td>\n",
       "      <td>137</td>\n",
       "      <td>196</td>\n",
       "      <td>135</td>\n",
       "      <td>209</td>\n",
       "      <td>125</td>\n",
       "    </tr>\n",
       "    <tr>\n",
       "      <th>4</th>\n",
       "      <td>0</td>\n",
       "      <td>142</td>\n",
       "      <td>107</td>\n",
       "      <td>204</td>\n",
       "      <td>117</td>\n",
       "      <td>195</td>\n",
       "    </tr>\n",
       "    <tr>\n",
       "      <th>...</th>\n",
       "      <td>...</td>\n",
       "      <td>...</td>\n",
       "      <td>...</td>\n",
       "      <td>...</td>\n",
       "      <td>...</td>\n",
       "      <td>...</td>\n",
       "    </tr>\n",
       "    <tr>\n",
       "      <th>2035</th>\n",
       "      <td>220</td>\n",
       "      <td>4</td>\n",
       "      <td>144</td>\n",
       "      <td>57</td>\n",
       "      <td>144</td>\n",
       "      <td>56</td>\n",
       "    </tr>\n",
       "    <tr>\n",
       "      <th>2036</th>\n",
       "      <td>220</td>\n",
       "      <td>3</td>\n",
       "      <td>85</td>\n",
       "      <td>98</td>\n",
       "      <td>81</td>\n",
       "      <td>98</td>\n",
       "    </tr>\n",
       "    <tr>\n",
       "      <th>2037</th>\n",
       "      <td>220</td>\n",
       "      <td>124</td>\n",
       "      <td>88</td>\n",
       "      <td>40</td>\n",
       "      <td>87</td>\n",
       "      <td>39</td>\n",
       "    </tr>\n",
       "    <tr>\n",
       "      <th>2038</th>\n",
       "      <td>220</td>\n",
       "      <td>43</td>\n",
       "      <td>91</td>\n",
       "      <td>0</td>\n",
       "      <td>95</td>\n",
       "      <td>1</td>\n",
       "    </tr>\n",
       "    <tr>\n",
       "      <th>2039</th>\n",
       "      <td>221</td>\n",
       "      <td>173</td>\n",
       "      <td>49</td>\n",
       "      <td>17</td>\n",
       "      <td>50</td>\n",
       "      <td>17</td>\n",
       "    </tr>\n",
       "  </tbody>\n",
       "</table>\n",
       "<p>2040 rows × 6 columns</p>\n",
       "</div>"
      ],
      "text/plain": [
       "      shape_id_1  shape_id_2  center_dist_xy  center_dist_t  \\\n",
       "0              0           1             100             85   \n",
       "1              0         135             110            117   \n",
       "2              0         136             188            168   \n",
       "3              0         137             196            135   \n",
       "4              0         142             107            204   \n",
       "...          ...         ...             ...            ...   \n",
       "2035         220           4             144             57   \n",
       "2036         220           3              85             98   \n",
       "2037         220         124              88             40   \n",
       "2038         220          43              91              0   \n",
       "2039         221         173              49             17   \n",
       "\n",
       "      center_of_mass_dist_xy  center_of_mass_dist_t  \n",
       "0                        111                     86  \n",
       "1                        115                    126  \n",
       "2                        200                    177  \n",
       "3                        209                    125  \n",
       "4                        117                    195  \n",
       "...                      ...                    ...  \n",
       "2035                     144                     56  \n",
       "2036                      81                     98  \n",
       "2037                      87                     39  \n",
       "2038                      95                      1  \n",
       "2039                      50                     17  \n",
       "\n",
       "[2040 rows x 6 columns]"
      ]
     },
     "execution_count": 152,
     "metadata": {},
     "output_type": "execute_result"
    }
   ],
   "source": [
    "ne"
   ]
  },
  {
   "cell_type": "code",
   "execution_count": 202,
   "metadata": {},
   "outputs": [],
   "source": [
    "ne2 = ne.groupby('shape_id_1').count().iloc[:, :1]\n",
    "ne3 = ne.groupby('shape_id_1').mean().iloc[:, -2:]\n",
    "\n",
    "ne4 = pd.merge(ne2, ne3, right_index=True, left_index=True)\n",
    "ne4.index.Name = 'id'\n",
    "ne4.columns = ['n_neighbors', 'avg_xy_dist_center-of-mass', 'avg_t_interval_center-of-mass']\n",
    "\n"
   ]
  },
  {
   "cell_type": "code",
   "execution_count": 203,
   "metadata": {},
   "outputs": [
    {
     "data": {
      "text/html": [
       "<div>\n",
       "<style scoped>\n",
       "    .dataframe tbody tr th:only-of-type {\n",
       "        vertical-align: middle;\n",
       "    }\n",
       "\n",
       "    .dataframe tbody tr th {\n",
       "        vertical-align: top;\n",
       "    }\n",
       "\n",
       "    .dataframe thead th {\n",
       "        text-align: right;\n",
       "    }\n",
       "</style>\n",
       "<table border=\"1\" class=\"dataframe\">\n",
       "  <thead>\n",
       "    <tr style=\"text-align: right;\">\n",
       "      <th></th>\n",
       "      <th>n_neighbors</th>\n",
       "      <th>avg_xy_dist_center-of-mass</th>\n",
       "      <th>avg_t_interval_center-of-mass</th>\n",
       "    </tr>\n",
       "    <tr>\n",
       "      <th>shape_id_1</th>\n",
       "      <th></th>\n",
       "      <th></th>\n",
       "      <th></th>\n",
       "    </tr>\n",
       "  </thead>\n",
       "  <tbody>\n",
       "    <tr>\n",
       "      <th>0</th>\n",
       "      <td>34</td>\n",
       "      <td>141.970588</td>\n",
       "      <td>98.882353</td>\n",
       "    </tr>\n",
       "    <tr>\n",
       "      <th>1</th>\n",
       "      <td>20</td>\n",
       "      <td>93.600000</td>\n",
       "      <td>100.350000</td>\n",
       "    </tr>\n",
       "    <tr>\n",
       "      <th>2</th>\n",
       "      <td>13</td>\n",
       "      <td>134.153846</td>\n",
       "      <td>67.153846</td>\n",
       "    </tr>\n",
       "    <tr>\n",
       "      <th>3</th>\n",
       "      <td>34</td>\n",
       "      <td>99.588235</td>\n",
       "      <td>86.558824</td>\n",
       "    </tr>\n",
       "    <tr>\n",
       "      <th>4</th>\n",
       "      <td>22</td>\n",
       "      <td>86.045455</td>\n",
       "      <td>71.090909</td>\n",
       "    </tr>\n",
       "    <tr>\n",
       "      <th>...</th>\n",
       "      <td>...</td>\n",
       "      <td>...</td>\n",
       "      <td>...</td>\n",
       "    </tr>\n",
       "    <tr>\n",
       "      <th>217</th>\n",
       "      <td>14</td>\n",
       "      <td>74.357143</td>\n",
       "      <td>65.500000</td>\n",
       "    </tr>\n",
       "    <tr>\n",
       "      <th>218</th>\n",
       "      <td>3</td>\n",
       "      <td>64.333333</td>\n",
       "      <td>90.000000</td>\n",
       "    </tr>\n",
       "    <tr>\n",
       "      <th>219</th>\n",
       "      <td>9</td>\n",
       "      <td>81.888889</td>\n",
       "      <td>79.222222</td>\n",
       "    </tr>\n",
       "    <tr>\n",
       "      <th>220</th>\n",
       "      <td>17</td>\n",
       "      <td>73.647059</td>\n",
       "      <td>61.764706</td>\n",
       "    </tr>\n",
       "    <tr>\n",
       "      <th>221</th>\n",
       "      <td>1</td>\n",
       "      <td>50.000000</td>\n",
       "      <td>17.000000</td>\n",
       "    </tr>\n",
       "  </tbody>\n",
       "</table>\n",
       "<p>218 rows × 3 columns</p>\n",
       "</div>"
      ],
      "text/plain": [
       "            n_neighbors  avg_xy_dist_center-of-mass  \\\n",
       "shape_id_1                                            \n",
       "0                    34                  141.970588   \n",
       "1                    20                   93.600000   \n",
       "2                    13                  134.153846   \n",
       "3                    34                   99.588235   \n",
       "4                    22                   86.045455   \n",
       "...                 ...                         ...   \n",
       "217                  14                   74.357143   \n",
       "218                   3                   64.333333   \n",
       "219                   9                   81.888889   \n",
       "220                  17                   73.647059   \n",
       "221                   1                   50.000000   \n",
       "\n",
       "            avg_t_interval_center-of-mass  \n",
       "shape_id_1                                 \n",
       "0                               98.882353  \n",
       "1                              100.350000  \n",
       "2                               67.153846  \n",
       "3                               86.558824  \n",
       "4                               71.090909  \n",
       "...                                   ...  \n",
       "217                             65.500000  \n",
       "218                             90.000000  \n",
       "219                             79.222222  \n",
       "220                             61.764706  \n",
       "221                             17.000000  \n",
       "\n",
       "[218 rows x 3 columns]"
      ]
     },
     "execution_count": 203,
     "metadata": {},
     "output_type": "execute_result"
    }
   ],
   "source": [
    "ne4"
   ]
  },
  {
   "cell_type": "code",
   "execution_count": 196,
   "metadata": {},
   "outputs": [],
   "source": [
    "df_stat = pd.DataFrame()"
   ]
  },
  {
   "cell_type": "code",
   "execution_count": 197,
   "metadata": {},
   "outputs": [
    {
     "ename": "NameError",
     "evalue": "name 'n_neighbors' is not defined",
     "output_type": "error",
     "traceback": [
      "\u001b[1;31m---------------------------------------------------------------------------\u001b[0m",
      "\u001b[1;31mNameError\u001b[0m                                 Traceback (most recent call last)",
      "\u001b[1;32m<ipython-input-197-3de05a156c0c>\u001b[0m in \u001b[0;36m<module>\u001b[1;34m\u001b[0m\n\u001b[1;32m----> 1\u001b[1;33m \u001b[0mid\u001b[0m\u001b[1;33m;\u001b[0m \u001b[0mn_neighbors\u001b[0m\u001b[1;33m;\u001b[0m \u001b[0mavg_t_interval_center\u001b[0m\u001b[1;33m-\u001b[0m\u001b[0mof\u001b[0m\u001b[1;33m-\u001b[0m\u001b[0mmass\u001b[0m\u001b[1;33m;\u001b[0m \u001b[0mavg_xy_dist_center\u001b[0m\u001b[1;33m-\u001b[0m\u001b[0mof\u001b[0m\u001b[1;33m-\u001b[0m\u001b[0mmass\u001b[0m\u001b[1;33m\u001b[0m\u001b[1;33m\u001b[0m\u001b[0m\n\u001b[0m",
      "\u001b[1;31mNameError\u001b[0m: name 'n_neighbors' is not defined"
     ]
    }
   ],
   "source": [
    "id; n_neighbors; avg_t_interval_center-of-mass; avg_xy_dist_center-of-mass"
   ]
  },
  {
   "cell_type": "code",
   "execution_count": 207,
   "metadata": {},
   "outputs": [],
   "source": [
    "ne4['id'] = ne4.index\n",
    "ne4 = ne4[['id', 'n_neighbors', 'avg_xy_dist_center-of-mass', 'avg_t_interval_center-of-mass']]"
   ]
  },
  {
   "cell_type": "code",
   "execution_count": 208,
   "metadata": {},
   "outputs": [
    {
     "data": {
      "text/html": [
       "<div>\n",
       "<style scoped>\n",
       "    .dataframe tbody tr th:only-of-type {\n",
       "        vertical-align: middle;\n",
       "    }\n",
       "\n",
       "    .dataframe tbody tr th {\n",
       "        vertical-align: top;\n",
       "    }\n",
       "\n",
       "    .dataframe thead th {\n",
       "        text-align: right;\n",
       "    }\n",
       "</style>\n",
       "<table border=\"1\" class=\"dataframe\">\n",
       "  <thead>\n",
       "    <tr style=\"text-align: right;\">\n",
       "      <th></th>\n",
       "      <th>id</th>\n",
       "      <th>n_neighbors</th>\n",
       "      <th>avg_xy_dist_center-of-mass</th>\n",
       "      <th>avg_t_interval_center-of-mass</th>\n",
       "    </tr>\n",
       "    <tr>\n",
       "      <th>shape_id_1</th>\n",
       "      <th></th>\n",
       "      <th></th>\n",
       "      <th></th>\n",
       "      <th></th>\n",
       "    </tr>\n",
       "  </thead>\n",
       "  <tbody>\n",
       "    <tr>\n",
       "      <th>0</th>\n",
       "      <td>0</td>\n",
       "      <td>34</td>\n",
       "      <td>141.970588</td>\n",
       "      <td>98.882353</td>\n",
       "    </tr>\n",
       "    <tr>\n",
       "      <th>1</th>\n",
       "      <td>1</td>\n",
       "      <td>20</td>\n",
       "      <td>93.600000</td>\n",
       "      <td>100.350000</td>\n",
       "    </tr>\n",
       "    <tr>\n",
       "      <th>2</th>\n",
       "      <td>2</td>\n",
       "      <td>13</td>\n",
       "      <td>134.153846</td>\n",
       "      <td>67.153846</td>\n",
       "    </tr>\n",
       "    <tr>\n",
       "      <th>3</th>\n",
       "      <td>3</td>\n",
       "      <td>34</td>\n",
       "      <td>99.588235</td>\n",
       "      <td>86.558824</td>\n",
       "    </tr>\n",
       "    <tr>\n",
       "      <th>4</th>\n",
       "      <td>4</td>\n",
       "      <td>22</td>\n",
       "      <td>86.045455</td>\n",
       "      <td>71.090909</td>\n",
       "    </tr>\n",
       "    <tr>\n",
       "      <th>...</th>\n",
       "      <td>...</td>\n",
       "      <td>...</td>\n",
       "      <td>...</td>\n",
       "      <td>...</td>\n",
       "    </tr>\n",
       "    <tr>\n",
       "      <th>217</th>\n",
       "      <td>217</td>\n",
       "      <td>14</td>\n",
       "      <td>74.357143</td>\n",
       "      <td>65.500000</td>\n",
       "    </tr>\n",
       "    <tr>\n",
       "      <th>218</th>\n",
       "      <td>218</td>\n",
       "      <td>3</td>\n",
       "      <td>64.333333</td>\n",
       "      <td>90.000000</td>\n",
       "    </tr>\n",
       "    <tr>\n",
       "      <th>219</th>\n",
       "      <td>219</td>\n",
       "      <td>9</td>\n",
       "      <td>81.888889</td>\n",
       "      <td>79.222222</td>\n",
       "    </tr>\n",
       "    <tr>\n",
       "      <th>220</th>\n",
       "      <td>220</td>\n",
       "      <td>17</td>\n",
       "      <td>73.647059</td>\n",
       "      <td>61.764706</td>\n",
       "    </tr>\n",
       "    <tr>\n",
       "      <th>221</th>\n",
       "      <td>221</td>\n",
       "      <td>1</td>\n",
       "      <td>50.000000</td>\n",
       "      <td>17.000000</td>\n",
       "    </tr>\n",
       "  </tbody>\n",
       "</table>\n",
       "<p>218 rows × 4 columns</p>\n",
       "</div>"
      ],
      "text/plain": [
       "             id  n_neighbors  avg_xy_dist_center-of-mass  \\\n",
       "shape_id_1                                                 \n",
       "0             0           34                  141.970588   \n",
       "1             1           20                   93.600000   \n",
       "2             2           13                  134.153846   \n",
       "3             3           34                   99.588235   \n",
       "4             4           22                   86.045455   \n",
       "...         ...          ...                         ...   \n",
       "217         217           14                   74.357143   \n",
       "218         218            3                   64.333333   \n",
       "219         219            9                   81.888889   \n",
       "220         220           17                   73.647059   \n",
       "221         221            1                   50.000000   \n",
       "\n",
       "            avg_t_interval_center-of-mass  \n",
       "shape_id_1                                 \n",
       "0                               98.882353  \n",
       "1                              100.350000  \n",
       "2                               67.153846  \n",
       "3                               86.558824  \n",
       "4                               71.090909  \n",
       "...                                   ...  \n",
       "217                             65.500000  \n",
       "218                             90.000000  \n",
       "219                             79.222222  \n",
       "220                             61.764706  \n",
       "221                             17.000000  \n",
       "\n",
       "[218 rows x 4 columns]"
      ]
     },
     "execution_count": 208,
     "metadata": {},
     "output_type": "execute_result"
    }
   ],
   "source": [
    "ne4"
   ]
  },
  {
   "cell_type": "code",
   "execution_count": 190,
   "metadata": {},
   "outputs": [
    {
     "data": {
      "text/html": [
       "<div>\n",
       "<style scoped>\n",
       "    .dataframe tbody tr th:only-of-type {\n",
       "        vertical-align: middle;\n",
       "    }\n",
       "\n",
       "    .dataframe tbody tr th {\n",
       "        vertical-align: top;\n",
       "    }\n",
       "\n",
       "    .dataframe thead th {\n",
       "        text-align: right;\n",
       "    }\n",
       "</style>\n",
       "<table border=\"1\" class=\"dataframe\">\n",
       "  <thead>\n",
       "    <tr style=\"text-align: right;\">\n",
       "      <th></th>\n",
       "      <th>center_of_mass_dist_xy</th>\n",
       "      <th>center_of_mass_dist_t</th>\n",
       "    </tr>\n",
       "    <tr>\n",
       "      <th>shape_id_1</th>\n",
       "      <th></th>\n",
       "      <th></th>\n",
       "    </tr>\n",
       "  </thead>\n",
       "  <tbody>\n",
       "    <tr>\n",
       "      <th>0</th>\n",
       "      <td>141.970588</td>\n",
       "      <td>98.882353</td>\n",
       "    </tr>\n",
       "    <tr>\n",
       "      <th>1</th>\n",
       "      <td>93.600000</td>\n",
       "      <td>100.350000</td>\n",
       "    </tr>\n",
       "    <tr>\n",
       "      <th>2</th>\n",
       "      <td>134.153846</td>\n",
       "      <td>67.153846</td>\n",
       "    </tr>\n",
       "    <tr>\n",
       "      <th>3</th>\n",
       "      <td>99.588235</td>\n",
       "      <td>86.558824</td>\n",
       "    </tr>\n",
       "    <tr>\n",
       "      <th>4</th>\n",
       "      <td>86.045455</td>\n",
       "      <td>71.090909</td>\n",
       "    </tr>\n",
       "    <tr>\n",
       "      <th>...</th>\n",
       "      <td>...</td>\n",
       "      <td>...</td>\n",
       "    </tr>\n",
       "    <tr>\n",
       "      <th>217</th>\n",
       "      <td>74.357143</td>\n",
       "      <td>65.500000</td>\n",
       "    </tr>\n",
       "    <tr>\n",
       "      <th>218</th>\n",
       "      <td>64.333333</td>\n",
       "      <td>90.000000</td>\n",
       "    </tr>\n",
       "    <tr>\n",
       "      <th>219</th>\n",
       "      <td>81.888889</td>\n",
       "      <td>79.222222</td>\n",
       "    </tr>\n",
       "    <tr>\n",
       "      <th>220</th>\n",
       "      <td>73.647059</td>\n",
       "      <td>61.764706</td>\n",
       "    </tr>\n",
       "    <tr>\n",
       "      <th>221</th>\n",
       "      <td>50.000000</td>\n",
       "      <td>17.000000</td>\n",
       "    </tr>\n",
       "  </tbody>\n",
       "</table>\n",
       "<p>218 rows × 2 columns</p>\n",
       "</div>"
      ],
      "text/plain": [
       "            center_of_mass_dist_xy  center_of_mass_dist_t\n",
       "shape_id_1                                               \n",
       "0                       141.970588              98.882353\n",
       "1                        93.600000             100.350000\n",
       "2                       134.153846              67.153846\n",
       "3                        99.588235              86.558824\n",
       "4                        86.045455              71.090909\n",
       "...                            ...                    ...\n",
       "217                      74.357143              65.500000\n",
       "218                      64.333333              90.000000\n",
       "219                      81.888889              79.222222\n",
       "220                      73.647059              61.764706\n",
       "221                      50.000000              17.000000\n",
       "\n",
       "[218 rows x 2 columns]"
      ]
     },
     "execution_count": 190,
     "metadata": {},
     "output_type": "execute_result"
    }
   ],
   "source": [
    "ne3"
   ]
  },
  {
   "cell_type": "code",
   "execution_count": 191,
   "metadata": {},
   "outputs": [
    {
     "data": {
      "text/html": [
       "<div>\n",
       "<style scoped>\n",
       "    .dataframe tbody tr th:only-of-type {\n",
       "        vertical-align: middle;\n",
       "    }\n",
       "\n",
       "    .dataframe tbody tr th {\n",
       "        vertical-align: top;\n",
       "    }\n",
       "\n",
       "    .dataframe thead th {\n",
       "        text-align: right;\n",
       "    }\n",
       "</style>\n",
       "<table border=\"1\" class=\"dataframe\">\n",
       "  <thead>\n",
       "    <tr style=\"text-align: right;\">\n",
       "      <th></th>\n",
       "      <th>shape_id_2</th>\n",
       "    </tr>\n",
       "    <tr>\n",
       "      <th>shape_id_1</th>\n",
       "      <th></th>\n",
       "    </tr>\n",
       "  </thead>\n",
       "  <tbody>\n",
       "    <tr>\n",
       "      <th>0</th>\n",
       "      <td>34</td>\n",
       "    </tr>\n",
       "    <tr>\n",
       "      <th>1</th>\n",
       "      <td>20</td>\n",
       "    </tr>\n",
       "    <tr>\n",
       "      <th>2</th>\n",
       "      <td>13</td>\n",
       "    </tr>\n",
       "    <tr>\n",
       "      <th>3</th>\n",
       "      <td>34</td>\n",
       "    </tr>\n",
       "    <tr>\n",
       "      <th>4</th>\n",
       "      <td>22</td>\n",
       "    </tr>\n",
       "    <tr>\n",
       "      <th>...</th>\n",
       "      <td>...</td>\n",
       "    </tr>\n",
       "    <tr>\n",
       "      <th>217</th>\n",
       "      <td>14</td>\n",
       "    </tr>\n",
       "    <tr>\n",
       "      <th>218</th>\n",
       "      <td>3</td>\n",
       "    </tr>\n",
       "    <tr>\n",
       "      <th>219</th>\n",
       "      <td>9</td>\n",
       "    </tr>\n",
       "    <tr>\n",
       "      <th>220</th>\n",
       "      <td>17</td>\n",
       "    </tr>\n",
       "    <tr>\n",
       "      <th>221</th>\n",
       "      <td>1</td>\n",
       "    </tr>\n",
       "  </tbody>\n",
       "</table>\n",
       "<p>218 rows × 1 columns</p>\n",
       "</div>"
      ],
      "text/plain": [
       "            shape_id_2\n",
       "shape_id_1            \n",
       "0                   34\n",
       "1                   20\n",
       "2                   13\n",
       "3                   34\n",
       "4                   22\n",
       "...                ...\n",
       "217                 14\n",
       "218                  3\n",
       "219                  9\n",
       "220                 17\n",
       "221                  1\n",
       "\n",
       "[218 rows x 1 columns]"
      ]
     },
     "execution_count": 191,
     "metadata": {},
     "output_type": "execute_result"
    }
   ],
   "source": [
    "ne2"
   ]
  },
  {
   "cell_type": "code",
   "execution_count": null,
   "metadata": {},
   "outputs": [],
   "source": []
  },
  {
   "cell_type": "code",
   "execution_count": 131,
   "metadata": {},
   "outputs": [
    {
     "data": {
      "text/plain": [
       "array([401, 402, 403, ..., 490, 491, 492])"
      ]
     },
     "execution_count": 131,
     "metadata": {},
     "output_type": "execute_result"
    }
   ],
   "source": [
    "shape1[:,1]"
   ]
  },
  {
   "cell_type": "code",
   "execution_count": 117,
   "metadata": {},
   "outputs": [
    {
     "data": {
      "text/plain": [
       "{0: [482, 432, 427, 317, 277]}"
      ]
     },
     "execution_count": 117,
     "metadata": {},
     "output_type": "execute_result"
    }
   ],
   "source": [
    "repeats_uq"
   ]
  },
  {
   "cell_type": "code",
   "execution_count": 88,
   "metadata": {},
   "outputs": [],
   "source": [
    "shape1 = get_shape_voxels_by_id(abs_csv, 1)"
   ]
  },
  {
   "cell_type": "code",
   "execution_count": 89,
   "metadata": {},
   "outputs": [],
   "source": [
    "shape1_proj = get_z_projection(shape1)"
   ]
  },
  {
   "cell_type": "code",
   "execution_count": 90,
   "metadata": {},
   "outputs": [
    {
     "data": {
      "text/plain": [
       "array([[175, 310],\n",
       "       [175, 311],\n",
       "       [175, 312],\n",
       "       ...,\n",
       "       [463, 127],\n",
       "       [463, 128],\n",
       "       [463, 129]])"
      ]
     },
     "execution_count": 90,
     "metadata": {},
     "output_type": "execute_result"
    }
   ],
   "source": [
    "shape1_proj"
   ]
  },
  {
   "cell_type": "code",
   "execution_count": 91,
   "metadata": {},
   "outputs": [
    {
     "data": {
      "text/plain": [
       "(29222, 2)"
      ]
     },
     "execution_count": 91,
     "metadata": {},
     "output_type": "execute_result"
    }
   ],
   "source": [
    "shape1_proj.shape"
   ]
  },
  {
   "cell_type": "code",
   "execution_count": 92,
   "metadata": {},
   "outputs": [
    {
     "data": {
      "text/plain": [
       "(610221, 5)"
      ]
     },
     "execution_count": 92,
     "metadata": {},
     "output_type": "execute_result"
    }
   ],
   "source": [
    "shape1.shape"
   ]
  },
  {
   "cell_type": "code",
   "execution_count": 93,
   "metadata": {},
   "outputs": [],
   "source": [
    "shape2 = get_shape_voxels_by_id(abs_csv, 330)"
   ]
  },
  {
   "cell_type": "code",
   "execution_count": 95,
   "metadata": {},
   "outputs": [],
   "source": [
    "shape2_proj = get_z_projection(shape2)"
   ]
  },
  {
   "cell_type": "code",
   "execution_count": 98,
   "metadata": {},
   "outputs": [],
   "source": [
    "inter = intersection2d(shape1_proj, shape2_proj)"
   ]
  },
  {
   "cell_type": "code",
   "execution_count": 107,
   "metadata": {},
   "outputs": [
    {
     "data": {
      "text/plain": [
       "0.35294117647058826"
      ]
     },
     "execution_count": 107,
     "metadata": {},
     "output_type": "execute_result"
    }
   ],
   "source": [
    "inter.shape[0]/shape2.shape[0]"
   ]
  },
  {
   "cell_type": "code",
   "execution_count": null,
   "metadata": {},
   "outputs": [],
   "source": [
    "[425, 408, 325, 309, 251, 507, 216]"
   ]
  },
  {
   "cell_type": "code",
   "execution_count": 242,
   "metadata": {},
   "outputs": [],
   "source": [
    "id1, id2, id3 = 241, 285, 266"
   ]
  },
  {
   "cell_type": "code",
   "execution_count": 243,
   "metadata": {},
   "outputs": [],
   "source": [
    "shape1 = get_shape_voxels_by_id(abs_csv, id1)\n",
    "shape1_proj = get_z_projection(shape1)\n",
    "\n",
    "shape2 = get_shape_voxels_by_id(abs_csv, id2)\n",
    "shape2_proj = get_z_projection(shape2)\n",
    "\n",
    "shape3 = get_shape_voxels_by_id(abs_csv, id3)\n",
    "shape3_proj = get_z_projection(shape3)"
   ]
  },
  {
   "cell_type": "code",
   "execution_count": 244,
   "metadata": {},
   "outputs": [
    {
     "data": {
      "text/plain": [
       "<matplotlib.collections.PathCollection at 0x207ad6658c8>"
      ]
     },
     "execution_count": 244,
     "metadata": {},
     "output_type": "execute_result"
    },
    {
     "data": {
      "image/png": "[encoded data removed]",
      "text/plain": [
       "<Figure size 432x288 with 1 Axes>"
      ]
     },
     "metadata": {
      "needs_background": "light"
     },
     "output_type": "display_data"
    }
   ],
   "source": [
    "plt.scatter(shape1_proj[:,0], shape1_proj[:,1])\n",
    "plt.scatter(shape2_proj[:,0], shape2_proj[:,1])\n",
    "plt.scatter(shape3_proj[:,0], shape3_proj[:,1])"
   ]
  },
  {
   "cell_type": "code",
   "execution_count": 95,
   "metadata": {},
   "outputs": [],
   "source": [
    "repeats_uq = {key: value for key, value in repeats.items() if value}"
   ]
  },
  {
   "cell_type": "code",
   "execution_count": 96,
   "metadata": {},
   "outputs": [],
   "source": [
    "single_additional = [key for key, value in repeats_uq.items() if len(value) < 2]\n",
    "repeats_uq = {key: value for key, value in repeats_uq.items() if len(value) >= 2}"
   ]
  },
  {
   "cell_type": "code",
   "execution_count": 104,
   "metadata": {},
   "outputs": [
    {
     "data": {
      "text/plain": [
       "{26: [65, 31],\n",
       " 82: [67, 81],\n",
       " 216: [128, 309],\n",
       " 236: [266, 241],\n",
       " 241: [285, 254, 266, 236],\n",
       " 254: [285, 241],\n",
       " 266: [236, 241],\n",
       " 285: [254, 241],\n",
       " 309: [216, 251],\n",
       " 366: [409, 312]}"
      ]
     },
     "execution_count": 104,
     "metadata": {},
     "output_type": "execute_result"
    }
   ],
   "source": [
    "repeats_uq"
   ]
  },
  {
   "cell_type": "code",
   "execution_count": 109,
   "metadata": {},
   "outputs": [],
   "source": [
    "repeats_l = [[key, *value] for key, value in repeats_uq.items()]"
   ]
  },
  {
   "cell_type": "code",
   "execution_count": 19,
   "metadata": {},
   "outputs": [],
   "source": [
    "import itertools\n",
    "\n",
    "\n",
    "def do_lists_intersect(list_a, list_b):\n",
    "    return bool(set(list_a) & set(list_b))\n",
    "\n",
    "def remove_duplicate_lists_from_list(list_of_lists):\n",
    "    list_of_lists.sort()\n",
    "    return list(list_of_lists for list_of_lists,_ in itertools.groupby(list_of_lists))\n",
    "\n",
    "def merge_repeats(repeats_list):\n",
    "    final_repeats = []\n",
    "    for i in range(len(repeats_list)):\n",
    "        new_repeats = repeats_list[i]\n",
    "        for j in range(i+1, len(repeats_list)):\n",
    "            if i != j:\n",
    "                if do_lists_intersect(repeats_list[i], repeats_list[j]):\n",
    "                    new_repeats.extend(repeats_list[j])\n",
    "        new_repeats = list(set(new_repeats))\n",
    "        final_repeats.append(new_repeats)\n",
    "    \n",
    "    final_repeats = remove_duplicate_lists_from_list(final_repeats)    \n",
    "    return final_repeats"
   ]
  },
  {
   "cell_type": "code",
   "execution_count": 137,
   "metadata": {},
   "outputs": [],
   "source": [
    "repeats_l = [[key, *value] for key, value in repeats_uq.items()]"
   ]
  },
  {
   "cell_type": "code",
   "execution_count": 157,
   "metadata": {},
   "outputs": [
    {
     "data": {
      "text/plain": [
       "[[65, 26, 31],\n",
       " [81, 82, 67],\n",
       " [216, 128, 251, 309],\n",
       " [266, 236, 241, 285, 254],\n",
       " [312, 409, 366]]"
      ]
     },
     "execution_count": 157,
     "metadata": {},
     "output_type": "execute_result"
    }
   ],
   "source": [
    "repeats_final"
   ]
  },
  {
   "cell_type": "code",
   "execution_count": 133,
   "metadata": {},
   "outputs": [],
   "source": [
    "repeats_final = merge_repeats(repeats_l.copy())"
   ]
  },
  {
   "cell_type": "code",
   "execution_count": 20,
   "metadata": {},
   "outputs": [],
   "source": [
    "def exclude_repeats_from_singles(all_repeat_ids, singles):\n",
    "    for repeat in all_repeat_ids:\n",
    "        if repeat in singles: \n",
    "            singles.remove(repeat)\n",
    "    return singles"
   ]
  },
  {
   "cell_type": "code",
   "execution_count": 160,
   "metadata": {},
   "outputs": [],
   "source": [
    "singles.extend(single_additional)"
   ]
  },
  {
   "cell_type": "code",
   "execution_count": 161,
   "metadata": {},
   "outputs": [],
   "source": [
    "singles = exclude_repeats_from_singles(all_repeat_ids, singles)"
   ]
  },
  {
   "cell_type": "code",
   "execution_count": 163,
   "metadata": {},
   "outputs": [
    {
     "data": {
      "text/plain": [
       "False"
      ]
     },
     "execution_count": 163,
     "metadata": {},
     "output_type": "execute_result"
    }
   ],
   "source": [
    "do_lists_intersect(singles, all_repeat_ids)"
   ]
  },
  {
   "cell_type": "code",
   "execution_count": 155,
   "metadata": {},
   "outputs": [],
   "source": [
    "import pickle\n",
    "\n"
   ]
  },
  {
   "cell_type": "code",
   "execution_count": 147,
   "metadata": {},
   "outputs": [],
   "source": [
    "all_repeat_ids = [x for item in repeats_final for x in item]"
   ]
  },
  {
   "cell_type": "code",
   "execution_count": 159,
   "metadata": {},
   "outputs": [],
   "source": [
    "with open(r'C:\\Users\\Wojtek\\Documents\\Doktorat\\Astral\\data\\repeats.pickle', 'wb') as handle:\n",
    "    pickle.dump(repeats_final, handle, protocol=pickle.HIGHEST_PROTOCOL)"
   ]
  },
  {
   "cell_type": "code",
   "execution_count": 165,
   "metadata": {},
   "outputs": [
    {
     "ename": "TypeError",
     "evalue": "a bytes-like object is required, not 'str'",
     "output_type": "error",
     "traceback": [
      "\u001b[1;31m---------------------------------------------------------------------------\u001b[0m",
      "\u001b[1;31mTypeError\u001b[0m                                 Traceback (most recent call last)",
      "\u001b[1;32m<ipython-input-165-1577046794fc>\u001b[0m in \u001b[0;36m<module>\u001b[1;34m\u001b[0m\n\u001b[1;32m----> 1\u001b[1;33m \u001b[0msingles\u001b[0m \u001b[1;33m=\u001b[0m \u001b[0mpickle\u001b[0m\u001b[1;33m.\u001b[0m\u001b[0mloads\u001b[0m\u001b[1;33m(\u001b[0m\u001b[1;34mr'C:\\Users\\Wojtek\\Documents\\Doktorat\\Astral\\data\\Cont_AA_1_2\\singles.pickle'\u001b[0m\u001b[1;33m)\u001b[0m\u001b[1;33m\u001b[0m\u001b[1;33m\u001b[0m\u001b[0m\n\u001b[0m",
      "\u001b[1;31mTypeError\u001b[0m: a bytes-like object is required, not 'str'"
     ]
    }
   ],
   "source": [
    "singles = pickle.loads(r'C:\\Users\\Wojtek\\Documents\\Doktorat\\Astral\\data\\Cont_AA_1_2\\singles.pickle')"
   ]
  },
  {
   "cell_type": "code",
   "execution_count": 168,
   "metadata": {},
   "outputs": [],
   "source": [
    "with open(r'C:\\Users\\Wojtek\\Documents\\Doktorat\\Astral\\data\\singles.pickle', 'rb') as f:\n",
    "        singles = pickle.load(f)"
   ]
  },
  {
   "cell_type": "code",
   "execution_count": 51,
   "metadata": {},
   "outputs": [],
   "source": [
    "with open(r'C:\\Users\\Wojtek\\Documents\\Doktorat\\Astral\\data\\Cont_AA_2_1\\repeats.pickle', 'rb') as f:\n",
    "    r = pickle.load(f)"
   ]
  },
  {
   "cell_type": "code",
   "execution_count": 52,
   "metadata": {},
   "outputs": [
    {
     "data": {
      "text/plain": [
       "[[42, 47, 46, 55],\n",
       " [42, 55, 46, 47],\n",
       " [47, 46, 55],\n",
       " [172, 204, 205],\n",
       " [178, 245, 150],\n",
       " [204, 172, 205],\n",
       " [221, 365, 494],\n",
       " [418, 653, 590],\n",
       " [480, 511, 516, 472],\n",
       " [480, 516, 472, 380, 511],\n",
       " [480, 516, 511],\n",
       " [507, 668, 395]]"
      ]
     },
     "execution_count": 52,
     "metadata": {},
     "output_type": "execute_result"
    }
   ],
   "source": [
    "r"
   ]
  },
  {
   "cell_type": "code",
   "execution_count": null,
   "metadata": {},
   "outputs": [],
   "source": [
    "def merge_common_shapes"
   ]
  },
  {
   "cell_type": "code",
   "execution_count": 42,
   "metadata": {},
   "outputs": [
    {
     "data": {
      "text/plain": [
       "[[47, 46, 55, 42, 47, 46, 55, 42, 55, 46, 47],\n",
       " [178, 245, 150],\n",
       " [204, 172, 205, 172, 204, 205],\n",
       " [221, 365, 494],\n",
       " [418, 653, 590],\n",
       " [480, 516, 511, 480, 511, 516, 472, 480, 516, 472, 380, 511],\n",
       " [507, 668, 395]]"
      ]
     },
     "execution_count": 42,
     "metadata": {},
     "output_type": "execute_result"
    }
   ],
   "source": [
    "r"
   ]
  },
  {
   "cell_type": "code",
   "execution_count": 49,
   "metadata": {},
   "outputs": [],
   "source": [
    "changed = True\n",
    "\n",
    "while changed:\n",
    "    changed = False\n",
    "    for i in range(len(r)):\n",
    "        repeat = r[i]\n",
    "        for j in range(len(r)):\n",
    "            if i != j:\n",
    "                repeat2 = r[j]\n",
    "                if not set(repeat).isdisjoint(repeat2):\n",
    "                    changed = True\n",
    "                    r[i].extend(r[j])\n",
    "                    del r[j]\n",
    "                    break\n",
    "        if changed:\n",
    "            break\n",
    "    \n",
    "r = [sorted(list(set(repeat))) for repeat in r]\n"
   ]
  },
  {
   "cell_type": "code",
   "execution_count": 50,
   "metadata": {},
   "outputs": [
    {
     "data": {
      "text/plain": [
       "[[42, 46, 47, 55],\n",
       " [172, 204, 205],\n",
       " [150, 178, 245],\n",
       " [221, 365, 494],\n",
       " [418, 590, 653],\n",
       " [380, 472, 480, 511, 516],\n",
       " [395, 507, 668]]"
      ]
     },
     "execution_count": 50,
     "metadata": {},
     "output_type": "execute_result"
    }
   ],
   "source": [
    "r"
   ]
  },
  {
   "cell_type": "code",
   "execution_count": null,
   "metadata": {},
   "outputs": [],
   "source": []
  },
  {
   "cell_type": "code",
   "execution_count": 246,
   "metadata": {},
   "outputs": [],
   "source": [
    "single_events_morphology = pd.DataFrame(columns=['Sphericity', 'Maximum xy size', 'Maximum z size'])"
   ]
  },
  {
   "cell_type": "code",
   "execution_count": 46,
   "metadata": {},
   "outputs": [],
   "source": [
    "event_id = 3"
   ]
  },
  {
   "cell_type": "code",
   "execution_count": 47,
   "metadata": {},
   "outputs": [],
   "source": [
    "from radiomics.shape import RadiomicsShape\n",
    "import SimpleITK as sitk"
   ]
  },
  {
   "cell_type": "code",
   "execution_count": 48,
   "metadata": {},
   "outputs": [],
   "source": [
    "abs_shape = abs_csv.loc[abs_csv['id'] == event_id]\n",
    "min_x, min_y, min_z = abs_shape['x'].min(), abs_shape['y'].min(), abs_shape['z'].min()\n",
    "max_x, max_y, max_z = abs_shape['x'].max(), abs_shape['y'].max(), abs_shape['z'].max()"
   ]
  },
  {
   "cell_type": "code",
   "execution_count": 55,
   "metadata": {},
   "outputs": [],
   "source": [
    "segmentation = waves[min_y:max_y, min_x:max_x, min_z:max_z]\n",
    "#img = timespace[min_y:max_y, min_x:max_x, min_z:max_z]\n",
    "segmentation = segmentation.astype('uint8')\n",
    "segmentation[segmentation == 255] = 1\n",
    "\n",
    "#segmentation = np.swapaxes(segmentation, 1, 2)\n",
    "\n",
    "img = segmentation.copy()\n",
    "img[img==1] = 255\n",
    "sitk_img = sitk.GetImageFromArray(img)\n",
    "sitk_mask = sitk.GetImageFromArray(segmentation)"
   ]
  },
  {
   "cell_type": "code",
   "execution_count": 18,
   "metadata": {},
   "outputs": [],
   "source": [
    "rs = RadiomicsShape(sitk_img, sitk_mask)\n",
    "sphericity = rs.getSphericityFeatureValue()\n",
    "#max2ddiamrow = rs.getMaximum2DDiameterSliceFeatureValue()\n",
    "#max2ddiamcol = rs.getMaximum2DDiameterColumnFeatureValue()\n",
    "#max2d_z_cord = rs.getMaximum2DDiameterRowFeatureValue()\n",
    "#max3ddiameter = rs.getMaximum3DDiameterFeatureValue()"
   ]
  },
  {
   "cell_type": "code",
   "execution_count": 21,
   "metadata": {},
   "outputs": [],
   "source": [
    "def calculate_morphology(shape, segmentation):\n",
    "    max_y = np.sum(segmentation, axis=0).max()\n",
    "    max_x = np.sum(segmentation, axis=1).max()\n",
    "    max_z = np.sum(segmentation, axis=2).max()\n",
    "    \n",
    "    shape[shape==1] = 255\n",
    "    sitk_img = sitk.GetImageFromArray(shape)\n",
    "    sitk_mask = sitk.GetImageFromArray(segmentation)\n",
    "    rs = RadiomicsShape(sitk_img, sitk_mask)\n",
    "    sphericity = rs.getSphericityFeatureValue()\n",
    "    sphericity = round(sphericity, 2)\n",
    "    morph_dict = {\n",
    "        'max_x_size' : max_x,\n",
    "        'max_y_size' : max_y,\n",
    "        'max_z_size' : max_z,\n",
    "        'sphericity' : sphericity\n",
    "    }\n",
    "    \n",
    "    return morph_dict\n",
    "    "
   ]
  },
  {
   "cell_type": "code",
   "execution_count": 37,
   "metadata": {},
   "outputs": [],
   "source": [
    "def get_shape_bbox(abs_csv, waves, shape_id):\n",
    "    abs_shape = abs_csv.loc[abs_csv['id'] == shape_id]\n",
    "    min_x, min_y, min_z = abs_shape['x'].min(), abs_shape['y'].min(), abs_shape['z'].min()\n",
    "    max_x, max_y, max_z = abs_shape['x'].max(), abs_shape['y'].max(), abs_shape['z'].max()\n",
    "    segmentation = waves[min_y:max_y+1, min_x:max_x+1, min_z:max_z+1]\n",
    "    return segmentation.astype('uint8')"
   ]
  },
  {
   "cell_type": "code",
   "execution_count": null,
   "metadata": {},
   "outputs": [],
   "source": []
  },
  {
   "cell_type": "code",
   "execution_count": 191,
   "metadata": {},
   "outputs": [],
   "source": []
  },
  {
   "cell_type": "code",
   "execution_count": 192,
   "metadata": {},
   "outputs": [],
   "source": [
    "single_id = singles[0]"
   ]
  },
  {
   "cell_type": "code",
   "execution_count": 38,
   "metadata": {},
   "outputs": [],
   "source": [
    "from radiomics.shape import RadiomicsShape\n",
    "import SimpleITK as sitk\n",
    "\n",
    "def calculate_morphology_for_singles(singles, abs_csv, waves):\n",
    "    morphology_df = pd.DataFrame(columns=['max_x_size', 'max_y_size', 'max_z_size', 'sphericity'])\n",
    "    for single_id in singles:\n",
    "        print(single_id)\n",
    "        seg = get_shape_bbox(abs_csv, waves, single_id)\n",
    "        morph_dict = calculate_morphology(seg.copy(), seg)\n",
    "        morphology_df = morphology_df.append(morph_dict, ignore_index=True)\n",
    "    return morphology_df"
   ]
  },
  {
   "cell_type": "code",
   "execution_count": 29,
   "metadata": {},
   "outputs": [],
   "source": [
    "seg = get_shape_bbox(abs_csv, waves, 874)"
   ]
  },
  {
   "cell_type": "code",
   "execution_count": 30,
   "metadata": {},
   "outputs": [
    {
     "data": {
      "text/plain": [
       "array([], shape=(24, 15, 0), dtype=uint8)"
      ]
     },
     "execution_count": 30,
     "metadata": {},
     "output_type": "execute_result"
    }
   ],
   "source": [
    "seg"
   ]
  },
  {
   "cell_type": "code",
   "execution_count": 31,
   "metadata": {},
   "outputs": [
    {
     "data": {
      "text/plain": [
       "array([], shape=(24, 15, 0), dtype=uint8)"
      ]
     },
     "execution_count": 31,
     "metadata": {},
     "output_type": "execute_result"
    }
   ],
   "source": [
    "seg"
   ]
  },
  {
   "cell_type": "code",
   "execution_count": null,
   "metadata": {},
   "outputs": [],
   "source": []
  },
  {
   "cell_type": "code",
   "execution_count": 32,
   "metadata": {},
   "outputs": [],
   "source": [
    "shape = get_shape_voxels_by_id(abs_csv, 874)"
   ]
  },
  {
   "cell_type": "code",
   "execution_count": 36,
   "metadata": {},
   "outputs": [
    {
     "data": {
      "text/plain": [
       "3996687    218\n",
       "3996688    218\n",
       "3996689    218\n",
       "3996690    218\n",
       "3996691    218\n",
       "          ... \n",
       "3996943    218\n",
       "3996944    218\n",
       "3996945    218\n",
       "3996946    218\n",
       "3996947    218\n",
       "Name: z, Length: 261, dtype: int32"
      ]
     },
     "execution_count": 36,
     "metadata": {},
     "output_type": "execute_result"
    }
   ],
   "source": [
    "shape['z']"
   ]
  },
  {
   "cell_type": "code",
   "execution_count": null,
   "metadata": {},
   "outputs": [],
   "source": []
  },
  {
   "cell_type": "code",
   "execution_count": null,
   "metadata": {},
   "outputs": [],
   "source": []
  },
  {
   "cell_type": "code",
   "execution_count": 266,
   "metadata": {},
   "outputs": [
    {
     "data": {
      "text/plain": [
       "{'max_x_size': 152, 'max_y_size': 158, 'max_z_size': 80, 'sphericity': 0.25}"
      ]
     },
     "execution_count": 266,
     "metadata": {},
     "output_type": "execute_result"
    }
   ],
   "source": [
    "morph_dict"
   ]
  },
  {
   "cell_type": "code",
   "execution_count": 267,
   "metadata": {},
   "outputs": [],
   "source": []
  },
  {
   "cell_type": "code",
   "execution_count": 275,
   "metadata": {},
   "outputs": [
    {
     "data": {
      "text/html": [
       "<div>\n",
       "<style scoped>\n",
       "    .dataframe tbody tr th:only-of-type {\n",
       "        vertical-align: middle;\n",
       "    }\n",
       "\n",
       "    .dataframe tbody tr th {\n",
       "        vertical-align: top;\n",
       "    }\n",
       "\n",
       "    .dataframe thead th {\n",
       "        text-align: right;\n",
       "    }\n",
       "</style>\n",
       "<table border=\"1\" class=\"dataframe\">\n",
       "  <thead>\n",
       "    <tr style=\"text-align: right;\">\n",
       "      <th></th>\n",
       "      <th>max_x_size</th>\n",
       "      <th>max_y_size</th>\n",
       "      <th>max_z_size</th>\n",
       "      <th>sphericity</th>\n",
       "      <th>avg_maximum_x</th>\n",
       "      <th>avg_maximum_y</th>\n",
       "      <th>avg_maximum_z</th>\n",
       "      <th>avg_sphericity</th>\n",
       "      <th>median_inter_repeat_center_dist</th>\n",
       "      <th>median_inter_repeat_min_z_dist</th>\n",
       "      <th>shape_ids</th>\n",
       "    </tr>\n",
       "  </thead>\n",
       "  <tbody>\n",
       "    <tr>\n",
       "      <th>0</th>\n",
       "      <td>152.0</td>\n",
       "      <td>158.0</td>\n",
       "      <td>80.0</td>\n",
       "      <td>0.25</td>\n",
       "      <td>NaN</td>\n",
       "      <td>NaN</td>\n",
       "      <td>NaN</td>\n",
       "      <td>NaN</td>\n",
       "      <td>NaN</td>\n",
       "      <td>NaN</td>\n",
       "      <td>NaN</td>\n",
       "    </tr>\n",
       "    <tr>\n",
       "      <th>1</th>\n",
       "      <td>NaN</td>\n",
       "      <td>NaN</td>\n",
       "      <td>NaN</td>\n",
       "      <td>NaN</td>\n",
       "      <td>24.0</td>\n",
       "      <td>64.33</td>\n",
       "      <td>23.67</td>\n",
       "      <td>0.42</td>\n",
       "      <td>74.75</td>\n",
       "      <td>44.0</td>\n",
       "      <td>26, 31, 65</td>\n",
       "    </tr>\n",
       "    <tr>\n",
       "      <th>2</th>\n",
       "      <td>152.0</td>\n",
       "      <td>158.0</td>\n",
       "      <td>80.0</td>\n",
       "      <td>0.25</td>\n",
       "      <td>NaN</td>\n",
       "      <td>NaN</td>\n",
       "      <td>NaN</td>\n",
       "      <td>NaN</td>\n",
       "      <td>NaN</td>\n",
       "      <td>NaN</td>\n",
       "      <td>NaN</td>\n",
       "    </tr>\n",
       "  </tbody>\n",
       "</table>\n",
       "</div>"
      ],
      "text/plain": [
       "   max_x_size  max_y_size  max_z_size  sphericity  avg_maximum_x  \\\n",
       "0       152.0       158.0        80.0        0.25            NaN   \n",
       "1         NaN         NaN         NaN         NaN           24.0   \n",
       "2       152.0       158.0        80.0        0.25            NaN   \n",
       "\n",
       "   avg_maximum_y  avg_maximum_z  avg_sphericity  \\\n",
       "0            NaN            NaN             NaN   \n",
       "1          64.33          23.67            0.42   \n",
       "2            NaN            NaN             NaN   \n",
       "\n",
       "   median_inter_repeat_center_dist  median_inter_repeat_min_z_dist   shape_ids  \n",
       "0                              NaN                             NaN         NaN  \n",
       "1                            74.75                            44.0  26, 31, 65  \n",
       "2                              NaN                             NaN         NaN  "
      ]
     },
     "execution_count": 275,
     "metadata": {},
     "output_type": "execute_result"
    }
   ],
   "source": [
    "morphology_df"
   ]
  },
  {
   "cell_type": "code",
   "execution_count": 198,
   "metadata": {},
   "outputs": [
    {
     "data": {
      "text/plain": [
       "[[65, 26, 31],\n",
       " [81, 82, 67],\n",
       " [216, 128, 251, 309],\n",
       " [266, 236, 241, 285, 254],\n",
       " [312, 409, 366]]"
      ]
     },
     "execution_count": 198,
     "metadata": {},
     "output_type": "execute_result"
    }
   ],
   "source": [
    "repeats_final"
   ]
  },
  {
   "cell_type": "code",
   "execution_count": 199,
   "metadata": {},
   "outputs": [],
   "source": [
    "reps = repeats_final[0]"
   ]
  },
  {
   "cell_type": "code",
   "execution_count": 293,
   "metadata": {},
   "outputs": [],
   "source": [
    "def calculate_morphology_for_repeats(repeats, abs_csv, waves):\n",
    "    repeat_df = pd.DataFrame(columns=['shape_ids', 'number_of_repeats', 'avg_sphericity', 'avg_maximum_x', \n",
    "                                      'avg_maximum_y', 'avg_maximum_z', 'median_inter_repeat_min_z_dist', 'median_inter_repeat_center_dist'])\n",
    "    \n",
    "    for repeat_series in repeats:\n",
    "    \n",
    "        z_tuples = []\n",
    "        sphericities = []\n",
    "        max_x_sizes = []\n",
    "        max_y_sizes = []\n",
    "        max_z_sizes = []\n",
    "\n",
    "        for rep_id in repeat_series:\n",
    "            shape = get_shape_voxels_by_id(abs_csv, rep_id)\n",
    "            min_z, max_z = shape['z'].min(), shape['z'].max()\n",
    "            z_tuples.append((min_z, max_z))\n",
    "            seg = get_shape_bbox(abs_csv, waves, rep_id)\n",
    "            m_dict = calculate_morphology(seg.copy(), seg)\n",
    "            sphericities.append(m_dict['sphericity'])\n",
    "            max_x_sizes.append(m_dict['max_x_size'])\n",
    "            max_y_sizes.append(m_dict['max_y_size'])\n",
    "            max_z_sizes.append(m_dict['max_z_size'])\n",
    "\n",
    "\n",
    "        z_tuples = sorted(z_tuples, key=lambda x: x[0])\n",
    "        dists = [abs(z_tuples[i+1][0] - z_tuples[i][1]) for i in range(0, len(z_tuples)-1)]\n",
    "\n",
    "        centers = sorted([np.mean(z_extrema) for z_extrema in z_tuples])\n",
    "        center_dists = [centers[i+1] - centers[i] for i in range(len(centers)-1)]\n",
    "\n",
    "        shape_ids = str(sorted(reps))[1:-1]\n",
    "        \n",
    "        no_repeats = len(repeat_series)\n",
    "        mean_sphericity = round(np.mean(sphericities), 2)\n",
    "        mean_max_x_size = round(np.mean(max_x_sizes), 2)\n",
    "        mean_max_y_size = round(np.mean(max_y_sizes), 2)\n",
    "        mean_max_z_size = round(np.mean(max_z_sizes), 2)\n",
    "        med_dist = np.median(dists)\n",
    "        med_centers = np.median(center_dists)\n",
    "\n",
    "        morph_dict = {\n",
    "            'shape_ids': shape_ids,\n",
    "            'number_of_repeats' : no_repeats,\n",
    "            'avg_sphericity': mean_sphericity,\n",
    "            'avg_maximum_x': mean_max_x_size,\n",
    "            'avg_maximum_y': mean_max_y_size,\n",
    "            'avg_maximum_z': mean_max_z_size,\n",
    "            'median_inter_repeat_min_z_dist': med_dist,\n",
    "            'median_inter_repeat_center_dist': med_centers\n",
    "        }\n",
    "        \n",
    "        repeat_df = repeat_df.append(morph_dict, ignore_index=True)\n",
    "    return repeat_df"
   ]
  },
  {
   "cell_type": "code",
   "execution_count": 286,
   "metadata": {},
   "outputs": [
    {
     "ename": "TypeError",
     "evalue": "calculate_morphology_for_repeats() missing 1 required positional argument: 'waves'",
     "output_type": "error",
     "traceback": [
      "\u001b[1;31m---------------------------------------------------------------------------\u001b[0m",
      "\u001b[1;31mTypeError\u001b[0m                                 Traceback (most recent call last)",
      "\u001b[1;32m<ipython-input-286-5131313d1f14>\u001b[0m in \u001b[0;36m<module>\u001b[1;34m\u001b[0m\n\u001b[0;32m      1\u001b[0m \u001b[0msingle_df\u001b[0m \u001b[1;33m=\u001b[0m \u001b[0mcalculate_morphology_for_singles\u001b[0m\u001b[1;33m(\u001b[0m\u001b[0msingles\u001b[0m\u001b[1;33m,\u001b[0m \u001b[0mabs_csv\u001b[0m\u001b[1;33m,\u001b[0m \u001b[0mwaves\u001b[0m\u001b[1;33m)\u001b[0m\u001b[1;33m\u001b[0m\u001b[1;33m\u001b[0m\u001b[0m\n\u001b[1;32m----> 2\u001b[1;33m \u001b[0mrepeat_df\u001b[0m \u001b[1;33m=\u001b[0m \u001b[0mcalculate_morphology_for_repeats\u001b[0m\u001b[1;33m(\u001b[0m\u001b[0mrepeats_final\u001b[0m\u001b[1;33m,\u001b[0m \u001b[0mwaves\u001b[0m\u001b[1;33m)\u001b[0m\u001b[1;33m\u001b[0m\u001b[1;33m\u001b[0m\u001b[0m\n\u001b[0m",
      "\u001b[1;31mTypeError\u001b[0m: calculate_morphology_for_repeats() missing 1 required positional argument: 'waves'"
     ]
    }
   ],
   "source": [
    "single_df = calculate_morphology_for_singles(singles, abs_csv, waves)\n"
   ]
  },
  {
   "cell_type": "code",
   "execution_count": 294,
   "metadata": {},
   "outputs": [],
   "source": [
    "repeat_df = calculate_morphology_for_repeats(repeats_final, abs_csv, waves)"
   ]
  },
  {
   "cell_type": "code",
   "execution_count": null,
   "metadata": {},
   "outputs": [],
   "source": []
  },
  {
   "cell_type": "code",
   "execution_count": null,
   "metadata": {},
   "outputs": [],
   "source": []
  },
  {
   "cell_type": "code",
   "execution_count": null,
   "metadata": {},
   "outputs": [],
   "source": []
  }
 ],
 "metadata": {
  "kernelspec": {
   "display_name": "Python 3",
   "language": "python",
   "name": "python3"
  },
  "language_info": {
   "codemirror_mode": {
    "name": "ipython",
    "version": 3
   },
   "file_extension": ".py",
   "mimetype": "text/x-python",
   "name": "python",
   "nbconvert_exporter": "python",
   "pygments_lexer": "ipython3",
   "version": "3.7.7"
  }
 },
 "nbformat": 4,
 "nbformat_minor": 4
}
