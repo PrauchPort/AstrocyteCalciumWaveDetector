{
 "cells": [
  {
   "cell_type": "code",
   "execution_count": 1,
   "metadata": {},
   "outputs": [],
   "source": [
    "import os\n",
    "import pandas as pd\n",
    "import numpy as np"
   ]
  },
  {
   "cell_type": "code",
   "execution_count": 2,
   "metadata": {},
   "outputs": [],
   "source": [
    "path = r'C:\\Users\\Wojtek\\Documents\\Doktorat\\Astral\\data\\Cont_AA_2_1'\n",
    "file = r'neighbors.csv'\n",
    "abs_file = r'segmentation_absolute.h5'\n",
    "waves_path = os.path.join(path, 'waves_morph.npy')"
   ]
  },
  {
   "cell_type": "code",
   "execution_count": 3,
   "metadata": {},
   "outputs": [],
   "source": [
    "neighbor_csv = pd.read_csv(os.path.join(path, file))\n",
    "abs_csv = pd.read_hdf(os.path.join(path, abs_file))\n",
    "waves = np.load(waves_path)"
   ]
  },
  {
   "cell_type": "code",
   "execution_count": 4,
   "metadata": {},
   "outputs": [],
   "source": [
    "def intersection_over_union(shape1, shape2):\n",
    "    intersection = intersection2d(shape1, shape2)\n",
    "    union = np.unique(np.vstack([shape1, shape2]), axis=0)\n",
    "    return intersection.shape[0] / union.shape[0]"
   ]
  },
  {
   "cell_type": "code",
   "execution_count": 5,
   "metadata": {},
   "outputs": [],
   "source": [
    "def intersection2d(X, Y):\n",
    "        \"\"\"\n",
    "        Function to find intersection of two 2D arrays.\n",
    "        Returns index of rows in X that are common to Y.\n",
    "        \"\"\"\n",
    "        X = np.tile(X[:,:,None], (1, 1, Y.shape[0]) )\n",
    "        Y = np.swapaxes(Y[:,:,None], 0, 2)\n",
    "        Y = np.tile(Y, (X.shape[0], 1, 1))\n",
    "        eq = np.all(np.equal(X, Y), axis = 1)\n",
    "        eq = np.any(eq, axis = 1)\n",
    "        return np.nonzero(eq)[0]"
   ]
  },
  {
   "cell_type": "code",
   "execution_count": 6,
   "metadata": {},
   "outputs": [],
   "source": [
    "def get_shape_voxels_by_id(abs_csv, shape_id):\n",
    "    return abs_csv.loc[abs_csv['id'] == shape_id]\n",
    "\n",
    "def get_z_projection(shape):\n",
    "    shape = shape[['x', 'y']]\n",
    "    shape = np.unique(shape, axis=0)\n",
    "    return shape\n",
    "\n",
    "def do_overlap(shape1, shape2, threshold):\n",
    "    intersected = intersection2d(shape1, shape2)\n",
    "    iou = intersection_over_union(shape1, shape2)\n",
    "    larger = sorted([shape1, shape2], key=len)[-1]\n",
    "#     print(f'Intersection length: {intersected.shape[0]}')\n",
    "#     print(f'Shape1 shape: {shape1.shape[0]}')\n",
    "#     print(f'Shape2 shape: {shape2.shape[0]}')\n",
    "    return intersected.shape[0] / larger.shape[0] >= threshold\n",
    "#     return iou > threshold"
   ]
  },
  {
   "cell_type": "code",
   "execution_count": 7,
   "metadata": {},
   "outputs": [
    {
     "name": "stderr",
     "output_type": "stream",
     "text": [
      "  0%|                                                                                          | 0/970 [00:04<?, ?it/s]\n"
     ]
    },
    {
     "ename": "KeyboardInterrupt",
     "evalue": "",
     "output_type": "error",
     "traceback": [
      "\u001b[1;31m---------------------------------------------------------------------------\u001b[0m",
      "\u001b[1;31mKeyboardInterrupt\u001b[0m                         Traceback (most recent call last)",
      "\u001b[1;32m<ipython-input-7-d763274c2238>\u001b[0m in \u001b[0;36m<module>\u001b[1;34m\u001b[0m\n\u001b[0;32m     17\u001b[0m         \u001b[0mshape2\u001b[0m \u001b[1;33m=\u001b[0m  \u001b[0mget_shape_voxels_by_id\u001b[0m\u001b[1;33m(\u001b[0m\u001b[0mabs_csv\u001b[0m\u001b[1;33m,\u001b[0m \u001b[0mshape2_id\u001b[0m\u001b[1;33m)\u001b[0m\u001b[1;33m\u001b[0m\u001b[1;33m\u001b[0m\u001b[0m\n\u001b[0;32m     18\u001b[0m \u001b[1;31m#         print(f\"Shape2 id: {shape2_id}\")\u001b[0m\u001b[1;33m\u001b[0m\u001b[1;33m\u001b[0m\u001b[1;33m\u001b[0m\u001b[0m\n\u001b[1;32m---> 19\u001b[1;33m         \u001b[0mshape1_proj\u001b[0m \u001b[1;33m=\u001b[0m \u001b[0mget_z_projection\u001b[0m\u001b[1;33m(\u001b[0m\u001b[0mshape1\u001b[0m\u001b[1;33m)\u001b[0m\u001b[1;33m\u001b[0m\u001b[1;33m\u001b[0m\u001b[0m\n\u001b[0m\u001b[0;32m     20\u001b[0m         \u001b[0mshape2_proj\u001b[0m \u001b[1;33m=\u001b[0m \u001b[0mget_z_projection\u001b[0m\u001b[1;33m(\u001b[0m\u001b[0mshape2\u001b[0m\u001b[1;33m)\u001b[0m\u001b[1;33m\u001b[0m\u001b[1;33m\u001b[0m\u001b[0m\n\u001b[0;32m     21\u001b[0m         \u001b[1;32mif\u001b[0m \u001b[0mdo_overlap\u001b[0m\u001b[1;33m(\u001b[0m\u001b[0mshape1_proj\u001b[0m\u001b[1;33m,\u001b[0m \u001b[0mshape2_proj\u001b[0m\u001b[1;33m,\u001b[0m \u001b[0mthreshold\u001b[0m\u001b[1;33m)\u001b[0m\u001b[1;33m:\u001b[0m\u001b[1;33m\u001b[0m\u001b[1;33m\u001b[0m\u001b[0m\n",
      "\u001b[1;32m<ipython-input-6-430c13920346>\u001b[0m in \u001b[0;36mget_z_projection\u001b[1;34m(shape)\u001b[0m\n\u001b[0;32m      4\u001b[0m \u001b[1;32mdef\u001b[0m \u001b[0mget_z_projection\u001b[0m\u001b[1;33m(\u001b[0m\u001b[0mshape\u001b[0m\u001b[1;33m)\u001b[0m\u001b[1;33m:\u001b[0m\u001b[1;33m\u001b[0m\u001b[1;33m\u001b[0m\u001b[0m\n\u001b[0;32m      5\u001b[0m     \u001b[0mshape\u001b[0m \u001b[1;33m=\u001b[0m \u001b[0mshape\u001b[0m\u001b[1;33m[\u001b[0m\u001b[1;33m[\u001b[0m\u001b[1;34m'x'\u001b[0m\u001b[1;33m,\u001b[0m \u001b[1;34m'y'\u001b[0m\u001b[1;33m]\u001b[0m\u001b[1;33m]\u001b[0m\u001b[1;33m\u001b[0m\u001b[1;33m\u001b[0m\u001b[0m\n\u001b[1;32m----> 6\u001b[1;33m     \u001b[0mshape\u001b[0m \u001b[1;33m=\u001b[0m \u001b[0mnp\u001b[0m\u001b[1;33m.\u001b[0m\u001b[0munique\u001b[0m\u001b[1;33m(\u001b[0m\u001b[0mshape\u001b[0m\u001b[1;33m,\u001b[0m \u001b[0maxis\u001b[0m\u001b[1;33m=\u001b[0m\u001b[1;36m0\u001b[0m\u001b[1;33m)\u001b[0m\u001b[1;33m\u001b[0m\u001b[1;33m\u001b[0m\u001b[0m\n\u001b[0m\u001b[0;32m      7\u001b[0m     \u001b[1;32mreturn\u001b[0m \u001b[0mshape\u001b[0m\u001b[1;33m\u001b[0m\u001b[1;33m\u001b[0m\u001b[0m\n\u001b[0;32m      8\u001b[0m \u001b[1;33m\u001b[0m\u001b[0m\n",
      "\u001b[1;32mc:\\programdata\\anaconda3\\envs\\astro\\lib\\site-packages\\numpy\\lib\\arraysetops.py\u001b[0m in \u001b[0;36munique\u001b[1;34m(ar, return_index, return_inverse, return_counts, axis)\u001b[0m\n\u001b[0;32m    292\u001b[0m \u001b[1;33m\u001b[0m\u001b[0m\n\u001b[0;32m    293\u001b[0m     output = _unique1d(consolidated, return_index,\n\u001b[1;32m--> 294\u001b[1;33m                        return_inverse, return_counts)\n\u001b[0m\u001b[0;32m    295\u001b[0m     \u001b[0moutput\u001b[0m \u001b[1;33m=\u001b[0m \u001b[1;33m(\u001b[0m\u001b[0mreshape_uniq\u001b[0m\u001b[1;33m(\u001b[0m\u001b[0moutput\u001b[0m\u001b[1;33m[\u001b[0m\u001b[1;36m0\u001b[0m\u001b[1;33m]\u001b[0m\u001b[1;33m)\u001b[0m\u001b[1;33m,\u001b[0m\u001b[1;33m)\u001b[0m \u001b[1;33m+\u001b[0m \u001b[0moutput\u001b[0m\u001b[1;33m[\u001b[0m\u001b[1;36m1\u001b[0m\u001b[1;33m:\u001b[0m\u001b[1;33m]\u001b[0m\u001b[1;33m\u001b[0m\u001b[1;33m\u001b[0m\u001b[0m\n\u001b[0;32m    296\u001b[0m     \u001b[1;32mreturn\u001b[0m \u001b[0m_unpack_tuple\u001b[0m\u001b[1;33m(\u001b[0m\u001b[0moutput\u001b[0m\u001b[1;33m)\u001b[0m\u001b[1;33m\u001b[0m\u001b[1;33m\u001b[0m\u001b[0m\n",
      "\u001b[1;32mc:\\programdata\\anaconda3\\envs\\astro\\lib\\site-packages\\numpy\\lib\\arraysetops.py\u001b[0m in \u001b[0;36m_unique1d\u001b[1;34m(ar, return_index, return_inverse, return_counts)\u001b[0m\n\u001b[0;32m    312\u001b[0m         \u001b[0mar\u001b[0m\u001b[1;33m.\u001b[0m\u001b[0msort\u001b[0m\u001b[1;33m(\u001b[0m\u001b[1;33m)\u001b[0m\u001b[1;33m\u001b[0m\u001b[1;33m\u001b[0m\u001b[0m\n\u001b[0;32m    313\u001b[0m         \u001b[0maux\u001b[0m \u001b[1;33m=\u001b[0m \u001b[0mar\u001b[0m\u001b[1;33m\u001b[0m\u001b[1;33m\u001b[0m\u001b[0m\n\u001b[1;32m--> 314\u001b[1;33m     \u001b[0mmask\u001b[0m \u001b[1;33m=\u001b[0m \u001b[0mnp\u001b[0m\u001b[1;33m.\u001b[0m\u001b[0mempty\u001b[0m\u001b[1;33m(\u001b[0m\u001b[0maux\u001b[0m\u001b[1;33m.\u001b[0m\u001b[0mshape\u001b[0m\u001b[1;33m,\u001b[0m \u001b[0mdtype\u001b[0m\u001b[1;33m=\u001b[0m\u001b[0mnp\u001b[0m\u001b[1;33m.\u001b[0m\u001b[0mbool_\u001b[0m\u001b[1;33m)\u001b[0m\u001b[1;33m\u001b[0m\u001b[1;33m\u001b[0m\u001b[0m\n\u001b[0m\u001b[0;32m    315\u001b[0m     \u001b[0mmask\u001b[0m\u001b[1;33m[\u001b[0m\u001b[1;33m:\u001b[0m\u001b[1;36m1\u001b[0m\u001b[1;33m]\u001b[0m \u001b[1;33m=\u001b[0m \u001b[1;32mTrue\u001b[0m\u001b[1;33m\u001b[0m\u001b[1;33m\u001b[0m\u001b[0m\n\u001b[0;32m    316\u001b[0m     \u001b[0mmask\u001b[0m\u001b[1;33m[\u001b[0m\u001b[1;36m1\u001b[0m\u001b[1;33m:\u001b[0m\u001b[1;33m]\u001b[0m \u001b[1;33m=\u001b[0m \u001b[0maux\u001b[0m\u001b[1;33m[\u001b[0m\u001b[1;36m1\u001b[0m\u001b[1;33m:\u001b[0m\u001b[1;33m]\u001b[0m \u001b[1;33m!=\u001b[0m \u001b[0maux\u001b[0m\u001b[1;33m[\u001b[0m\u001b[1;33m:\u001b[0m\u001b[1;33m-\u001b[0m\u001b[1;36m1\u001b[0m\u001b[1;33m]\u001b[0m\u001b[1;33m\u001b[0m\u001b[1;33m\u001b[0m\u001b[0m\n",
      "\u001b[1;31mKeyboardInterrupt\u001b[0m: "
     ]
    }
   ],
   "source": [
    "from tqdm import tqdm\n",
    "from collections import defaultdict\n",
    "\n",
    "threshold = 0.8\n",
    "\n",
    "ids = np.unique(neighbor_csv['shape_id_1'].values).tolist()\n",
    "\n",
    "repeats = defaultdict(list)\n",
    "singles = []\n",
    "\n",
    "for shape1_id in tqdm(ids):\n",
    "    shape1 = get_shape_voxels_by_id(abs_csv, shape1_id)\n",
    "#     print(f\"Shape1 id: {shape1_id}\")\n",
    "    neighbors = neighbor_csv.loc[neighbor_csv['shape_id_1'] == shape1_id]['shape_id_2'].values\n",
    "#     print(f\"Neighbors : {neighbors}\")\n",
    "    for shape2_id in neighbors:\n",
    "        shape2 =  get_shape_voxels_by_id(abs_csv, shape2_id)\n",
    "#         print(f\"Shape2 id: {shape2_id}\")\n",
    "        shape1_proj = get_z_projection(shape1)\n",
    "        shape2_proj = get_z_projection(shape2)\n",
    "        if do_overlap(shape1_proj, shape2_proj, threshold):\n",
    "            repeats[shape1_id].append(shape2_id)\n",
    "    if not repeats[shape1_id]:\n",
    "        singles.append(shape1_id)"
   ]
  },
  {
   "cell_type": "code",
   "execution_count": 8,
   "metadata": {},
   "outputs": [],
   "source": [
    "import pickle\n",
    "\n",
    "with open(os.path.join(path, 'repeats.pickle'), 'rb') as f:\n",
    "    r = pickle.load(f)"
   ]
  },
  {
   "cell_type": "code",
   "execution_count": 9,
   "metadata": {},
   "outputs": [
    {
     "data": {
      "text/plain": [
       "[[42, 46, 47, 55],\n",
       " [172, 204, 205],\n",
       " [150, 178, 245],\n",
       " [221, 365, 494],\n",
       " [418, 590, 653],\n",
       " [380, 472, 480, 511, 516],\n",
       " [395, 507, 668]]"
      ]
     },
     "execution_count": 9,
     "metadata": {},
     "output_type": "execute_result"
    }
   ],
   "source": [
    "r"
   ]
  },
  {
   "cell_type": "code",
   "execution_count": null,
   "metadata": {},
   "outputs": [],
   "source": []
  },
  {
   "cell_type": "code",
   "execution_count": 48,
   "metadata": {},
   "outputs": [],
   "source": [
    "shape1 = get_shape_voxels_by_id(abs_csv, 14)\n",
    "shape1 = get_z_projection(shape1)"
   ]
  },
  {
   "cell_type": "code",
   "execution_count": 49,
   "metadata": {},
   "outputs": [],
   "source": [
    "shape2 = get_shape_voxels_by_id(abs_csv, 17)\n",
    "shape2 = get_z_projection(shape2)"
   ]
  },
  {
   "cell_type": "code",
   "execution_count": 52,
   "metadata": {},
   "outputs": [
    {
     "data": {
      "image/png": "[encoded data removed]",
      "text/plain": [
       "<Figure size 288x288 with 1 Axes>"
      ]
     },
     "metadata": {
      "needs_background": "light"
     },
     "output_type": "display_data"
    }
   ],
   "source": [
    "import matplotlib.pyplot as plt\n",
    "plt.figure(figsize=(4, 4))\n",
    "plt.scatter(shape1[:,0], shape1[:,1], s=40)\n",
    "plt.scatter(shape2[:,0], shape2[:,1], s=40)\n",
    "plt.ylabel('Koordynata Y')\n",
    "plt.xlabel('Koordynata X')\n",
    "plt.title('Fale wapniowe, przykład sąsiedztwa')\n",
    "plt.show()"
   ]
  },
  {
   "cell_type": "code",
   "execution_count": null,
   "metadata": {},
   "outputs": [],
   "source": []
  },
  {
   "cell_type": "code",
   "execution_count": 40,
   "metadata": {},
   "outputs": [],
   "source": [
    "shape1 = get_shape_voxels_by_id(abs_csv, 172)\n",
    "shape1 = get_z_projection(shape1)"
   ]
  },
  {
   "cell_type": "code",
   "execution_count": 41,
   "metadata": {},
   "outputs": [],
   "source": [
    "shape2 = get_shape_voxels_by_id(abs_csv, 204)\n",
    "shape2 = get_z_projection(shape2)"
   ]
  },
  {
   "cell_type": "code",
   "execution_count": 42,
   "metadata": {},
   "outputs": [
    {
     "data": {
      "image/png": "[encoded data removed]",
      "text/plain": [
       "<Figure size 288x288 with 1 Axes>"
      ]
     },
     "metadata": {
      "needs_background": "light"
     },
     "output_type": "display_data"
    }
   ],
   "source": [
    "import matplotlib.pyplot as plt\n",
    "plt.figure(figsize=(4, 4))\n",
    "plt.scatter(shape1[:,0], shape1[:,1], s=40)\n",
    "plt.scatter(shape2[:,0], shape2[:,1], s=40)\n",
    "plt.ylabel('Koordynata Y')\n",
    "plt.xlabel('Koordynata X')\n",
    "plt.title('Fale wapniowe, przykład powtórzeń - Projekcja XY')\n",
    "plt.show()"
   ]
  },
  {
   "cell_type": "code",
   "execution_count": 23,
   "metadata": {},
   "outputs": [],
   "source": []
  },
  {
   "cell_type": "code",
   "execution_count": 24,
   "metadata": {},
   "outputs": [],
   "source": []
  },
  {
   "cell_type": "code",
   "execution_count": 37,
   "metadata": {},
   "outputs": [
    {
     "data": {
      "image/png": "[encoded data removed]",
      "text/plain": [
       "<Figure size 288x288 with 1 Axes>"
      ]
     },
     "metadata": {
      "needs_background": "light"
     },
     "output_type": "display_data"
    }
   ],
   "source": []
  },
  {
   "cell_type": "code",
   "execution_count": 131,
   "metadata": {},
   "outputs": [
    {
     "data": {
      "text/plain": [
       "array([401, 402, 403, ..., 490, 491, 492])"
      ]
     },
     "execution_count": 131,
     "metadata": {},
     "output_type": "execute_result"
    }
   ],
   "source": [
    "shape1[:,1]"
   ]
  },
  {
   "cell_type": "code",
   "execution_count": 117,
   "metadata": {},
   "outputs": [
    {
     "data": {
      "text/plain": [
       "{0: [482, 432, 427, 317, 277]}"
      ]
     },
     "execution_count": 117,
     "metadata": {},
     "output_type": "execute_result"
    }
   ],
   "source": [
    "repeats_uq"
   ]
  },
  {
   "cell_type": "code",
   "execution_count": 88,
   "metadata": {},
   "outputs": [],
   "source": [
    "shape1 = get_shape_voxels_by_id(abs_csv, 1)"
   ]
  },
  {
   "cell_type": "code",
   "execution_count": 89,
   "metadata": {},
   "outputs": [],
   "source": [
    "shape1_proj = get_z_projection(shape1)"
   ]
  },
  {
   "cell_type": "code",
   "execution_count": 90,
   "metadata": {},
   "outputs": [
    {
     "data": {
      "text/plain": [
       "array([[175, 310],\n",
       "       [175, 311],\n",
       "       [175, 312],\n",
       "       ...,\n",
       "       [463, 127],\n",
       "       [463, 128],\n",
       "       [463, 129]])"
      ]
     },
     "execution_count": 90,
     "metadata": {},
     "output_type": "execute_result"
    }
   ],
   "source": [
    "shape1_proj"
   ]
  },
  {
   "cell_type": "code",
   "execution_count": 91,
   "metadata": {},
   "outputs": [
    {
     "data": {
      "text/plain": [
       "(29222, 2)"
      ]
     },
     "execution_count": 91,
     "metadata": {},
     "output_type": "execute_result"
    }
   ],
   "source": [
    "shape1_proj.shape"
   ]
  },
  {
   "cell_type": "code",
   "execution_count": 92,
   "metadata": {},
   "outputs": [
    {
     "data": {
      "text/plain": [
       "(610221, 5)"
      ]
     },
     "execution_count": 92,
     "metadata": {},
     "output_type": "execute_result"
    }
   ],
   "source": [
    "shape1.shape"
   ]
  },
  {
   "cell_type": "code",
   "execution_count": 93,
   "metadata": {},
   "outputs": [],
   "source": [
    "shape2 = get_shape_voxels_by_id(abs_csv, 330)"
   ]
  },
  {
   "cell_type": "code",
   "execution_count": 95,
   "metadata": {},
   "outputs": [],
   "source": [
    "shape2_proj = get_z_projection(shape2)"
   ]
  },
  {
   "cell_type": "code",
   "execution_count": 98,
   "metadata": {},
   "outputs": [],
   "source": [
    "inter = intersection2d(shape1_proj, shape2_proj)"
   ]
  },
  {
   "cell_type": "code",
   "execution_count": 107,
   "metadata": {},
   "outputs": [
    {
     "data": {
      "text/plain": [
       "0.35294117647058826"
      ]
     },
     "execution_count": 107,
     "metadata": {},
     "output_type": "execute_result"
    }
   ],
   "source": [
    "inter.shape[0]/shape2.shape[0]"
   ]
  },
  {
   "cell_type": "code",
   "execution_count": null,
   "metadata": {},
   "outputs": [],
   "source": [
    "[425, 408, 325, 309, 251, 507, 216]"
   ]
  },
  {
   "cell_type": "code",
   "execution_count": 242,
   "metadata": {},
   "outputs": [],
   "source": [
    "id1, id2, id3 = 241, 285, 266"
   ]
  },
  {
   "cell_type": "code",
   "execution_count": 243,
   "metadata": {},
   "outputs": [],
   "source": [
    "shape1 = get_shape_voxels_by_id(abs_csv, id1)\n",
    "shape1_proj = get_z_projection(shape1)\n",
    "\n",
    "shape2 = get_shape_voxels_by_id(abs_csv, id2)\n",
    "shape2_proj = get_z_projection(shape2)\n",
    "\n",
    "shape3 = get_shape_voxels_by_id(abs_csv, id3)\n",
    "shape3_proj = get_z_projection(shape3)"
   ]
  },
  {
   "cell_type": "code",
   "execution_count": 244,
   "metadata": {},
   "outputs": [
    {
     "data": {
      "text/plain": [
       "<matplotlib.collections.PathCollection at 0x207ad6658c8>"
      ]
     },
     "execution_count": 244,
     "metadata": {},
     "output_type": "execute_result"
    },
    {
     "data": {
      "image/png": "[encoded data removed]",
      "text/plain": [
       "<Figure size 432x288 with 1 Axes>"
      ]
     },
     "metadata": {
      "needs_background": "light"
     },
     "output_type": "display_data"
    }
   ],
   "source": [
    "plt.scatter(shape1_proj[:,0], shape1_proj[:,1])\n",
    "plt.scatter(shape2_proj[:,0], shape2_proj[:,1])\n",
    "plt.scatter(shape3_proj[:,0], shape3_proj[:,1])"
   ]
  },
  {
   "cell_type": "code",
   "execution_count": 95,
   "metadata": {},
   "outputs": [],
   "source": [
    "repeats_uq = {key: value for key, value in repeats.items() if value}"
   ]
  },
  {
   "cell_type": "code",
   "execution_count": 96,
   "metadata": {},
   "outputs": [],
   "source": [
    "single_additional = [key for key, value in repeats_uq.items() if len(value) < 2]\n",
    "repeats_uq = {key: value for key, value in repeats_uq.items() if len(value) >= 2}"
   ]
  },
  {
   "cell_type": "code",
   "execution_count": 104,
   "metadata": {},
   "outputs": [
    {
     "data": {
      "text/plain": [
       "{26: [65, 31],\n",
       " 82: [67, 81],\n",
       " 216: [128, 309],\n",
       " 236: [266, 241],\n",
       " 241: [285, 254, 266, 236],\n",
       " 254: [285, 241],\n",
       " 266: [236, 241],\n",
       " 285: [254, 241],\n",
       " 309: [216, 251],\n",
       " 366: [409, 312]}"
      ]
     },
     "execution_count": 104,
     "metadata": {},
     "output_type": "execute_result"
    }
   ],
   "source": [
    "repeats_uq"
   ]
  },
  {
   "cell_type": "code",
   "execution_count": 109,
   "metadata": {},
   "outputs": [],
   "source": [
    "repeats_l = [[key, *value] for key, value in repeats_uq.items()]"
   ]
  },
  {
   "cell_type": "code",
   "execution_count": 19,
   "metadata": {},
   "outputs": [],
   "source": [
    "import itertools\n",
    "\n",
    "\n",
    "def do_lists_intersect(list_a, list_b):\n",
    "    return bool(set(list_a) & set(list_b))\n",
    "\n",
    "def remove_duplicate_lists_from_list(list_of_lists):\n",
    "    list_of_lists.sort()\n",
    "    return list(list_of_lists for list_of_lists,_ in itertools.groupby(list_of_lists))\n",
    "\n",
    "def merge_repeats(repeats_list):\n",
    "    final_repeats = []\n",
    "    for i in range(len(repeats_list)):\n",
    "        new_repeats = repeats_list[i]\n",
    "        for j in range(i+1, len(repeats_list)):\n",
    "            if i != j:\n",
    "                if do_lists_intersect(repeats_list[i], repeats_list[j]):\n",
    "                    new_repeats.extend(repeats_list[j])\n",
    "        new_repeats = list(set(new_repeats))\n",
    "        final_repeats.append(new_repeats)\n",
    "    \n",
    "    final_repeats = remove_duplicate_lists_from_list(final_repeats)    \n",
    "    return final_repeats"
   ]
  },
  {
   "cell_type": "code",
   "execution_count": 137,
   "metadata": {},
   "outputs": [],
   "source": [
    "repeats_l = [[key, *value] for key, value in repeats_uq.items()]"
   ]
  },
  {
   "cell_type": "code",
   "execution_count": 157,
   "metadata": {},
   "outputs": [
    {
     "data": {
      "text/plain": [
       "[[65, 26, 31],\n",
       " [81, 82, 67],\n",
       " [216, 128, 251, 309],\n",
       " [266, 236, 241, 285, 254],\n",
       " [312, 409, 366]]"
      ]
     },
     "execution_count": 157,
     "metadata": {},
     "output_type": "execute_result"
    }
   ],
   "source": [
    "repeats_final"
   ]
  },
  {
   "cell_type": "code",
   "execution_count": 133,
   "metadata": {},
   "outputs": [],
   "source": [
    "repeats_final = merge_repeats(repeats_l.copy())"
   ]
  },
  {
   "cell_type": "code",
   "execution_count": 20,
   "metadata": {},
   "outputs": [],
   "source": [
    "def exclude_repeats_from_singles(all_repeat_ids, singles):\n",
    "    for repeat in all_repeat_ids:\n",
    "        if repeat in singles: \n",
    "            singles.remove(repeat)\n",
    "    return singles"
   ]
  },
  {
   "cell_type": "code",
   "execution_count": 160,
   "metadata": {},
   "outputs": [],
   "source": [
    "singles.extend(single_additional)"
   ]
  },
  {
   "cell_type": "code",
   "execution_count": 161,
   "metadata": {},
   "outputs": [],
   "source": [
    "singles = exclude_repeats_from_singles(all_repeat_ids, singles)"
   ]
  },
  {
   "cell_type": "code",
   "execution_count": 163,
   "metadata": {},
   "outputs": [
    {
     "data": {
      "text/plain": [
       "False"
      ]
     },
     "execution_count": 163,
     "metadata": {},
     "output_type": "execute_result"
    }
   ],
   "source": [
    "do_lists_intersect(singles, all_repeat_ids)"
   ]
  },
  {
   "cell_type": "code",
   "execution_count": 155,
   "metadata": {},
   "outputs": [],
   "source": [
    "import pickle\n",
    "\n"
   ]
  },
  {
   "cell_type": "code",
   "execution_count": 147,
   "metadata": {},
   "outputs": [],
   "source": [
    "all_repeat_ids = [x for item in repeats_final for x in item]"
   ]
  },
  {
   "cell_type": "code",
   "execution_count": 159,
   "metadata": {},
   "outputs": [],
   "source": [
    "with open(r'C:\\Users\\Wojtek\\Documents\\Doktorat\\Astral\\data\\repeats.pickle', 'wb') as handle:\n",
    "    pickle.dump(repeats_final, handle, protocol=pickle.HIGHEST_PROTOCOL)"
   ]
  },
  {
   "cell_type": "code",
   "execution_count": 165,
   "metadata": {},
   "outputs": [
    {
     "ename": "TypeError",
     "evalue": "a bytes-like object is required, not 'str'",
     "output_type": "error",
     "traceback": [
      "\u001b[1;31m---------------------------------------------------------------------------\u001b[0m",
      "\u001b[1;31mTypeError\u001b[0m                                 Traceback (most recent call last)",
      "\u001b[1;32m<ipython-input-165-1577046794fc>\u001b[0m in \u001b[0;36m<module>\u001b[1;34m\u001b[0m\n\u001b[1;32m----> 1\u001b[1;33m \u001b[0msingles\u001b[0m \u001b[1;33m=\u001b[0m \u001b[0mpickle\u001b[0m\u001b[1;33m.\u001b[0m\u001b[0mloads\u001b[0m\u001b[1;33m(\u001b[0m\u001b[1;34mr'C:\\Users\\Wojtek\\Documents\\Doktorat\\Astral\\data\\Cont_AA_1_2\\singles.pickle'\u001b[0m\u001b[1;33m)\u001b[0m\u001b[1;33m\u001b[0m\u001b[1;33m\u001b[0m\u001b[0m\n\u001b[0m",
      "\u001b[1;31mTypeError\u001b[0m: a bytes-like object is required, not 'str'"
     ]
    }
   ],
   "source": [
    "singles = pickle.loads(r'C:\\Users\\Wojtek\\Documents\\Doktorat\\Astral\\data\\Cont_AA_1_2\\singles.pickle')"
   ]
  },
  {
   "cell_type": "code",
   "execution_count": 168,
   "metadata": {},
   "outputs": [],
   "source": [
    "with open(r'C:\\Users\\Wojtek\\Documents\\Doktorat\\Astral\\data\\singles.pickle', 'rb') as f:\n",
    "        singles = pickle.load(f)"
   ]
  },
  {
   "cell_type": "code",
   "execution_count": 51,
   "metadata": {},
   "outputs": [],
   "source": [
    "with open(r'C:\\Users\\Wojtek\\Documents\\Doktorat\\Astral\\data\\Cont_AA_2_1\\repeats.pickle', 'rb') as f:\n",
    "    r = pickle.load(f)"
   ]
  },
  {
   "cell_type": "code",
   "execution_count": 52,
   "metadata": {},
   "outputs": [
    {
     "data": {
      "text/plain": [
       "[[42, 47, 46, 55],\n",
       " [42, 55, 46, 47],\n",
       " [47, 46, 55],\n",
       " [172, 204, 205],\n",
       " [178, 245, 150],\n",
       " [204, 172, 205],\n",
       " [221, 365, 494],\n",
       " [418, 653, 590],\n",
       " [480, 511, 516, 472],\n",
       " [480, 516, 472, 380, 511],\n",
       " [480, 516, 511],\n",
       " [507, 668, 395]]"
      ]
     },
     "execution_count": 52,
     "metadata": {},
     "output_type": "execute_result"
    }
   ],
   "source": [
    "r"
   ]
  },
  {
   "cell_type": "code",
   "execution_count": null,
   "metadata": {},
   "outputs": [],
   "source": [
    "def merge_common_shapes"
   ]
  },
  {
   "cell_type": "code",
   "execution_count": 42,
   "metadata": {},
   "outputs": [
    {
     "data": {
      "text/plain": [
       "[[47, 46, 55, 42, 47, 46, 55, 42, 55, 46, 47],\n",
       " [178, 245, 150],\n",
       " [204, 172, 205, 172, 204, 205],\n",
       " [221, 365, 494],\n",
       " [418, 653, 590],\n",
       " [480, 516, 511, 480, 511, 516, 472, 480, 516, 472, 380, 511],\n",
       " [507, 668, 395]]"
      ]
     },
     "execution_count": 42,
     "metadata": {},
     "output_type": "execute_result"
    }
   ],
   "source": [
    "r"
   ]
  },
  {
   "cell_type": "code",
   "execution_count": 49,
   "metadata": {},
   "outputs": [],
   "source": [
    "changed = True\n",
    "\n",
    "while changed:\n",
    "    changed = False\n",
    "    for i in range(len(r)):\n",
    "        repeat = r[i]\n",
    "        for j in range(len(r)):\n",
    "            if i != j:\n",
    "                repeat2 = r[j]\n",
    "                if not set(repeat).isdisjoint(repeat2):\n",
    "                    changed = True\n",
    "                    r[i].extend(r[j])\n",
    "                    del r[j]\n",
    "                    break\n",
    "        if changed:\n",
    "            break\n",
    "    \n",
    "r = [sorted(list(set(repeat))) for repeat in r]\n"
   ]
  },
  {
   "cell_type": "code",
   "execution_count": 50,
   "metadata": {},
   "outputs": [
    {
     "data": {
      "text/plain": [
       "[[42, 46, 47, 55],\n",
       " [172, 204, 205],\n",
       " [150, 178, 245],\n",
       " [221, 365, 494],\n",
       " [418, 590, 653],\n",
       " [380, 472, 480, 511, 516],\n",
       " [395, 507, 668]]"
      ]
     },
     "execution_count": 50,
     "metadata": {},
     "output_type": "execute_result"
    }
   ],
   "source": [
    "r"
   ]
  },
  {
   "cell_type": "code",
   "execution_count": null,
   "metadata": {},
   "outputs": [],
   "source": []
  },
  {
   "cell_type": "code",
   "execution_count": 246,
   "metadata": {},
   "outputs": [],
   "source": [
    "single_events_morphology = pd.DataFrame(columns=['Sphericity', 'Maximum xy size', 'Maximum z size'])"
   ]
  },
  {
   "cell_type": "code",
   "execution_count": 46,
   "metadata": {},
   "outputs": [],
   "source": [
    "event_id = 3"
   ]
  },
  {
   "cell_type": "code",
   "execution_count": 47,
   "metadata": {},
   "outputs": [],
   "source": [
    "from radiomics.shape import RadiomicsShape\n",
    "import SimpleITK as sitk"
   ]
  },
  {
   "cell_type": "code",
   "execution_count": 48,
   "metadata": {},
   "outputs": [],
   "source": [
    "abs_shape = abs_csv.loc[abs_csv['id'] == event_id]\n",
    "min_x, min_y, min_z = abs_shape['x'].min(), abs_shape['y'].min(), abs_shape['z'].min()\n",
    "max_x, max_y, max_z = abs_shape['x'].max(), abs_shape['y'].max(), abs_shape['z'].max()"
   ]
  },
  {
   "cell_type": "code",
   "execution_count": 55,
   "metadata": {},
   "outputs": [],
   "source": [
    "segmentation = waves[min_y:max_y, min_x:max_x, min_z:max_z]\n",
    "#img = timespace[min_y:max_y, min_x:max_x, min_z:max_z]\n",
    "segmentation = segmentation.astype('uint8')\n",
    "segmentation[segmentation == 255] = 1\n",
    "\n",
    "#segmentation = np.swapaxes(segmentation, 1, 2)\n",
    "\n",
    "img = segmentation.copy()\n",
    "img[img==1] = 255\n",
    "sitk_img = sitk.GetImageFromArray(img)\n",
    "sitk_mask = sitk.GetImageFromArray(segmentation)"
   ]
  },
  {
   "cell_type": "code",
   "execution_count": 18,
   "metadata": {},
   "outputs": [],
   "source": [
    "rs = RadiomicsShape(sitk_img, sitk_mask)\n",
    "sphericity = rs.getSphericityFeatureValue()\n",
    "#max2ddiamrow = rs.getMaximum2DDiameterSliceFeatureValue()\n",
    "#max2ddiamcol = rs.getMaximum2DDiameterColumnFeatureValue()\n",
    "#max2d_z_cord = rs.getMaximum2DDiameterRowFeatureValue()\n",
    "#max3ddiameter = rs.getMaximum3DDiameterFeatureValue()"
   ]
  },
  {
   "cell_type": "code",
   "execution_count": 21,
   "metadata": {},
   "outputs": [],
   "source": [
    "def calculate_morphology(shape, segmentation):\n",
    "    max_y = np.sum(segmentation, axis=0).max()\n",
    "    max_x = np.sum(segmentation, axis=1).max()\n",
    "    max_z = np.sum(segmentation, axis=2).max()\n",
    "    \n",
    "    shape[shape==1] = 255\n",
    "    sitk_img = sitk.GetImageFromArray(shape)\n",
    "    sitk_mask = sitk.GetImageFromArray(segmentation)\n",
    "    rs = RadiomicsShape(sitk_img, sitk_mask)\n",
    "    sphericity = rs.getSphericityFeatureValue()\n",
    "    sphericity = round(sphericity, 2)\n",
    "    morph_dict = {\n",
    "        'max_x_size' : max_x,\n",
    "        'max_y_size' : max_y,\n",
    "        'max_z_size' : max_z,\n",
    "        'sphericity' : sphericity\n",
    "    }\n",
    "    \n",
    "    return morph_dict\n",
    "    "
   ]
  },
  {
   "cell_type": "code",
   "execution_count": 37,
   "metadata": {},
   "outputs": [],
   "source": [
    "def get_shape_bbox(abs_csv, waves, shape_id):\n",
    "    abs_shape = abs_csv.loc[abs_csv['id'] == shape_id]\n",
    "    min_x, min_y, min_z = abs_shape['x'].min(), abs_shape['y'].min(), abs_shape['z'].min()\n",
    "    max_x, max_y, max_z = abs_shape['x'].max(), abs_shape['y'].max(), abs_shape['z'].max()\n",
    "    segmentation = waves[min_y:max_y+1, min_x:max_x+1, min_z:max_z+1]\n",
    "    return segmentation.astype('uint8')"
   ]
  },
  {
   "cell_type": "code",
   "execution_count": null,
   "metadata": {},
   "outputs": [],
   "source": []
  },
  {
   "cell_type": "code",
   "execution_count": 191,
   "metadata": {},
   "outputs": [],
   "source": []
  },
  {
   "cell_type": "code",
   "execution_count": 192,
   "metadata": {},
   "outputs": [],
   "source": [
    "single_id = singles[0]"
   ]
  },
  {
   "cell_type": "code",
   "execution_count": 38,
   "metadata": {},
   "outputs": [],
   "source": [
    "from radiomics.shape import RadiomicsShape\n",
    "import SimpleITK as sitk\n",
    "\n",
    "def calculate_morphology_for_singles(singles, abs_csv, waves):\n",
    "    morphology_df = pd.DataFrame(columns=['max_x_size', 'max_y_size', 'max_z_size', 'sphericity'])\n",
    "    for single_id in singles:\n",
    "        print(single_id)\n",
    "        seg = get_shape_bbox(abs_csv, waves, single_id)\n",
    "        morph_dict = calculate_morphology(seg.copy(), seg)\n",
    "        morphology_df = morphology_df.append(morph_dict, ignore_index=True)\n",
    "    return morphology_df"
   ]
  },
  {
   "cell_type": "code",
   "execution_count": 29,
   "metadata": {},
   "outputs": [],
   "source": [
    "seg = get_shape_bbox(abs_csv, waves, 874)"
   ]
  },
  {
   "cell_type": "code",
   "execution_count": 30,
   "metadata": {},
   "outputs": [
    {
     "data": {
      "text/plain": [
       "array([], shape=(24, 15, 0), dtype=uint8)"
      ]
     },
     "execution_count": 30,
     "metadata": {},
     "output_type": "execute_result"
    }
   ],
   "source": [
    "seg"
   ]
  },
  {
   "cell_type": "code",
   "execution_count": 31,
   "metadata": {},
   "outputs": [
    {
     "data": {
      "text/plain": [
       "array([], shape=(24, 15, 0), dtype=uint8)"
      ]
     },
     "execution_count": 31,
     "metadata": {},
     "output_type": "execute_result"
    }
   ],
   "source": [
    "seg"
   ]
  },
  {
   "cell_type": "code",
   "execution_count": null,
   "metadata": {},
   "outputs": [],
   "source": []
  },
  {
   "cell_type": "code",
   "execution_count": 32,
   "metadata": {},
   "outputs": [],
   "source": [
    "shape = get_shape_voxels_by_id(abs_csv, 874)"
   ]
  },
  {
   "cell_type": "code",
   "execution_count": 36,
   "metadata": {},
   "outputs": [
    {
     "data": {
      "text/plain": [
       "3996687    218\n",
       "3996688    218\n",
       "3996689    218\n",
       "3996690    218\n",
       "3996691    218\n",
       "          ... \n",
       "3996943    218\n",
       "3996944    218\n",
       "3996945    218\n",
       "3996946    218\n",
       "3996947    218\n",
       "Name: z, Length: 261, dtype: int32"
      ]
     },
     "execution_count": 36,
     "metadata": {},
     "output_type": "execute_result"
    }
   ],
   "source": [
    "shape['z']"
   ]
  },
  {
   "cell_type": "code",
   "execution_count": null,
   "metadata": {},
   "outputs": [],
   "source": []
  },
  {
   "cell_type": "code",
   "execution_count": null,
   "metadata": {},
   "outputs": [],
   "source": []
  },
  {
   "cell_type": "code",
   "execution_count": 266,
   "metadata": {},
   "outputs": [
    {
     "data": {
      "text/plain": [
       "{'max_x_size': 152, 'max_y_size': 158, 'max_z_size': 80, 'sphericity': 0.25}"
      ]
     },
     "execution_count": 266,
     "metadata": {},
     "output_type": "execute_result"
    }
   ],
   "source": [
    "morph_dict"
   ]
  },
  {
   "cell_type": "code",
   "execution_count": 267,
   "metadata": {},
   "outputs": [],
   "source": []
  },
  {
   "cell_type": "code",
   "execution_count": 275,
   "metadata": {},
   "outputs": [
    {
     "data": {
      "text/html": [
       "<div>\n",
       "<style scoped>\n",
       "    .dataframe tbody tr th:only-of-type {\n",
       "        vertical-align: middle;\n",
       "    }\n",
       "\n",
       "    .dataframe tbody tr th {\n",
       "        vertical-align: top;\n",
       "    }\n",
       "\n",
       "    .dataframe thead th {\n",
       "        text-align: right;\n",
       "    }\n",
       "</style>\n",
       "<table border=\"1\" class=\"dataframe\">\n",
       "  <thead>\n",
       "    <tr style=\"text-align: right;\">\n",
       "      <th></th>\n",
       "      <th>max_x_size</th>\n",
       "      <th>max_y_size</th>\n",
       "      <th>max_z_size</th>\n",
       "      <th>sphericity</th>\n",
       "      <th>avg_maximum_x</th>\n",
       "      <th>avg_maximum_y</th>\n",
       "      <th>avg_maximum_z</th>\n",
       "      <th>avg_sphericity</th>\n",
       "      <th>median_inter_repeat_center_dist</th>\n",
       "      <th>median_inter_repeat_min_z_dist</th>\n",
       "      <th>shape_ids</th>\n",
       "    </tr>\n",
       "  </thead>\n",
       "  <tbody>\n",
       "    <tr>\n",
       "      <th>0</th>\n",
       "      <td>152.0</td>\n",
       "      <td>158.0</td>\n",
       "      <td>80.0</td>\n",
       "      <td>0.25</td>\n",
       "      <td>NaN</td>\n",
       "      <td>NaN</td>\n",
       "      <td>NaN</td>\n",
       "      <td>NaN</td>\n",
       "      <td>NaN</td>\n",
       "      <td>NaN</td>\n",
       "      <td>NaN</td>\n",
       "    </tr>\n",
       "    <tr>\n",
       "      <th>1</th>\n",
       "      <td>NaN</td>\n",
       "      <td>NaN</td>\n",
       "      <td>NaN</td>\n",
       "      <td>NaN</td>\n",
       "      <td>24.0</td>\n",
       "      <td>64.33</td>\n",
       "      <td>23.67</td>\n",
       "      <td>0.42</td>\n",
       "      <td>74.75</td>\n",
       "      <td>44.0</td>\n",
       "      <td>26, 31, 65</td>\n",
       "    </tr>\n",
       "    <tr>\n",
       "      <th>2</th>\n",
       "      <td>152.0</td>\n",
       "      <td>158.0</td>\n",
       "      <td>80.0</td>\n",
       "      <td>0.25</td>\n",
       "      <td>NaN</td>\n",
       "      <td>NaN</td>\n",
       "      <td>NaN</td>\n",
       "      <td>NaN</td>\n",
       "      <td>NaN</td>\n",
       "      <td>NaN</td>\n",
       "      <td>NaN</td>\n",
       "    </tr>\n",
       "  </tbody>\n",
       "</table>\n",
       "</div>"
      ],
      "text/plain": [
       "   max_x_size  max_y_size  max_z_size  sphericity  avg_maximum_x  \\\n",
       "0       152.0       158.0        80.0        0.25            NaN   \n",
       "1         NaN         NaN         NaN         NaN           24.0   \n",
       "2       152.0       158.0        80.0        0.25            NaN   \n",
       "\n",
       "   avg_maximum_y  avg_maximum_z  avg_sphericity  \\\n",
       "0            NaN            NaN             NaN   \n",
       "1          64.33          23.67            0.42   \n",
       "2            NaN            NaN             NaN   \n",
       "\n",
       "   median_inter_repeat_center_dist  median_inter_repeat_min_z_dist   shape_ids  \n",
       "0                              NaN                             NaN         NaN  \n",
       "1                            74.75                            44.0  26, 31, 65  \n",
       "2                              NaN                             NaN         NaN  "
      ]
     },
     "execution_count": 275,
     "metadata": {},
     "output_type": "execute_result"
    }
   ],
   "source": [
    "morphology_df"
   ]
  },
  {
   "cell_type": "code",
   "execution_count": 198,
   "metadata": {},
   "outputs": [
    {
     "data": {
      "text/plain": [
       "[[65, 26, 31],\n",
       " [81, 82, 67],\n",
       " [216, 128, 251, 309],\n",
       " [266, 236, 241, 285, 254],\n",
       " [312, 409, 366]]"
      ]
     },
     "execution_count": 198,
     "metadata": {},
     "output_type": "execute_result"
    }
   ],
   "source": [
    "repeats_final"
   ]
  },
  {
   "cell_type": "code",
   "execution_count": 199,
   "metadata": {},
   "outputs": [],
   "source": [
    "reps = repeats_final[0]"
   ]
  },
  {
   "cell_type": "code",
   "execution_count": 293,
   "metadata": {},
   "outputs": [],
   "source": [
    "def calculate_morphology_for_repeats(repeats, abs_csv, waves):\n",
    "    repeat_df = pd.DataFrame(columns=['shape_ids', 'number_of_repeats', 'avg_sphericity', 'avg_maximum_x', \n",
    "                                      'avg_maximum_y', 'avg_maximum_z', 'median_inter_repeat_min_z_dist', 'median_inter_repeat_center_dist'])\n",
    "    \n",
    "    for repeat_series in repeats:\n",
    "    \n",
    "        z_tuples = []\n",
    "        sphericities = []\n",
    "        max_x_sizes = []\n",
    "        max_y_sizes = []\n",
    "        max_z_sizes = []\n",
    "\n",
    "        for rep_id in repeat_series:\n",
    "            shape = get_shape_voxels_by_id(abs_csv, rep_id)\n",
    "            min_z, max_z = shape['z'].min(), shape['z'].max()\n",
    "            z_tuples.append((min_z, max_z))\n",
    "            seg = get_shape_bbox(abs_csv, waves, rep_id)\n",
    "            m_dict = calculate_morphology(seg.copy(), seg)\n",
    "            sphericities.append(m_dict['sphericity'])\n",
    "            max_x_sizes.append(m_dict['max_x_size'])\n",
    "            max_y_sizes.append(m_dict['max_y_size'])\n",
    "            max_z_sizes.append(m_dict['max_z_size'])\n",
    "\n",
    "\n",
    "        z_tuples = sorted(z_tuples, key=lambda x: x[0])\n",
    "        dists = [abs(z_tuples[i+1][0] - z_tuples[i][1]) for i in range(0, len(z_tuples)-1)]\n",
    "\n",
    "        centers = sorted([np.mean(z_extrema) for z_extrema in z_tuples])\n",
    "        center_dists = [centers[i+1] - centers[i] for i in range(len(centers)-1)]\n",
    "\n",
    "        shape_ids = str(sorted(reps))[1:-1]\n",
    "        \n",
    "        no_repeats = len(repeat_series)\n",
    "        mean_sphericity = round(np.mean(sphericities), 2)\n",
    "        mean_max_x_size = round(np.mean(max_x_sizes), 2)\n",
    "        mean_max_y_size = round(np.mean(max_y_sizes), 2)\n",
    "        mean_max_z_size = round(np.mean(max_z_sizes), 2)\n",
    "        med_dist = np.median(dists)\n",
    "        med_centers = np.median(center_dists)\n",
    "\n",
    "        morph_dict = {\n",
    "            'shape_ids': shape_ids,\n",
    "            'number_of_repeats' : no_repeats,\n",
    "            'avg_sphericity': mean_sphericity,\n",
    "            'avg_maximum_x': mean_max_x_size,\n",
    "            'avg_maximum_y': mean_max_y_size,\n",
    "            'avg_maximum_z': mean_max_z_size,\n",
    "            'median_inter_repeat_min_z_dist': med_dist,\n",
    "            'median_inter_repeat_center_dist': med_centers\n",
    "        }\n",
    "        \n",
    "        repeat_df = repeat_df.append(morph_dict, ignore_index=True)\n",
    "    return repeat_df"
   ]
  },
  {
   "cell_type": "code",
   "execution_count": 286,
   "metadata": {},
   "outputs": [
    {
     "ename": "TypeError",
     "evalue": "calculate_morphology_for_repeats() missing 1 required positional argument: 'waves'",
     "output_type": "error",
     "traceback": [
      "\u001b[1;31m---------------------------------------------------------------------------\u001b[0m",
      "\u001b[1;31mTypeError\u001b[0m                                 Traceback (most recent call last)",
      "\u001b[1;32m<ipython-input-286-5131313d1f14>\u001b[0m in \u001b[0;36m<module>\u001b[1;34m\u001b[0m\n\u001b[0;32m      1\u001b[0m \u001b[0msingle_df\u001b[0m \u001b[1;33m=\u001b[0m \u001b[0mcalculate_morphology_for_singles\u001b[0m\u001b[1;33m(\u001b[0m\u001b[0msingles\u001b[0m\u001b[1;33m,\u001b[0m \u001b[0mabs_csv\u001b[0m\u001b[1;33m,\u001b[0m \u001b[0mwaves\u001b[0m\u001b[1;33m)\u001b[0m\u001b[1;33m\u001b[0m\u001b[1;33m\u001b[0m\u001b[0m\n\u001b[1;32m----> 2\u001b[1;33m \u001b[0mrepeat_df\u001b[0m \u001b[1;33m=\u001b[0m \u001b[0mcalculate_morphology_for_repeats\u001b[0m\u001b[1;33m(\u001b[0m\u001b[0mrepeats_final\u001b[0m\u001b[1;33m,\u001b[0m \u001b[0mwaves\u001b[0m\u001b[1;33m)\u001b[0m\u001b[1;33m\u001b[0m\u001b[1;33m\u001b[0m\u001b[0m\n\u001b[0m",
      "\u001b[1;31mTypeError\u001b[0m: calculate_morphology_for_repeats() missing 1 required positional argument: 'waves'"
     ]
    }
   ],
   "source": [
    "single_df = calculate_morphology_for_singles(singles, abs_csv, waves)\n"
   ]
  },
  {
   "cell_type": "code",
   "execution_count": 294,
   "metadata": {},
   "outputs": [],
   "source": [
    "repeat_df = calculate_morphology_for_repeats(repeats_final, abs_csv, waves)"
   ]
  },
  {
   "cell_type": "code",
   "execution_count": null,
   "metadata": {},
   "outputs": [],
   "source": []
  },
  {
   "cell_type": "code",
   "execution_count": null,
   "metadata": {},
   "outputs": [],
   "source": []
  },
  {
   "cell_type": "code",
   "execution_count": null,
   "metadata": {},
   "outputs": [],
   "source": []
  }
 ],
 "metadata": {
  "kernelspec": {
   "display_name": "Python 3",
   "language": "python",
   "name": "python3"
  },
  "language_info": {
   "codemirror_mode": {
    "name": "ipython",
    "version": 3
   },
   "file_extension": ".py",
   "mimetype": "text/x-python",
   "name": "python",
   "nbconvert_exporter": "python",
   "pygments_lexer": "ipython3",
   "version": "3.7.7"
  }
 },
 "nbformat": 4,
 "nbformat_minor": 4
}
