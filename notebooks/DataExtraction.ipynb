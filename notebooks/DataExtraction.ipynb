{
 "cells": [
  {
   "cell_type": "code",
   "execution_count": 2,
   "metadata": {},
   "outputs": [],
   "source": [
    "import os\n",
    "os.chdir('../')"
   ]
  },
  {
   "cell_type": "code",
   "execution_count": 3,
   "metadata": {},
   "outputs": [],
   "source": [
    "import numpy as np\n",
    "import matplotlib.pyplot as plt\n",
    "import cv2 as cv\n",
    "from tqdm import tqdm\n",
    "import os\n",
    "import cv2"
   ]
  },
  {
   "cell_type": "code",
   "execution_count": null,
   "metadata": {},
   "outputs": [],
   "source": []
  },
  {
   "cell_type": "code",
   "execution_count": 4,
   "metadata": {},
   "outputs": [],
   "source": [
    "rootdir = r'C:\\Users\\Wojtek\\Documents\\Doktorat\\Astral\\data\\Cont_AN_2_2'\n",
    "file = 'waves.npy'"
   ]
  },
  {
   "cell_type": "code",
   "execution_count": 5,
   "metadata": {},
   "outputs": [],
   "source": [
    "waves = np.load(os.path.join(rootdir, file)).astype('uint8')"
   ]
  },
  {
   "cell_type": "code",
   "execution_count": 11,
   "metadata": {},
   "outputs": [],
   "source": [
    "mean_pixels = np.mean(waves, axis=2, dtype=np.float32)\n",
    "std_pixels = np.std(waves, axis=2, dtype=np.float32)"
   ]
  },
  {
   "cell_type": "code",
   "execution_count": 12,
   "metadata": {},
   "outputs": [],
   "source": [
    "st_dev = 1.2"
   ]
  },
  {
   "cell_type": "code",
   "execution_count": 13,
   "metadata": {},
   "outputs": [
    {
     "name": "stderr",
     "output_type": "stream",
     "text": [
      "100%|████████████████████████████████████████████████████████████████████████████████| 608/608 [00:09<00:00, 61.20it/s]\n"
     ]
    }
   ],
   "source": [
    "waves1 = waves.copy()\n",
    "threshold1 = np.zeros(waves.shape[:-1])\n",
    "\n",
    "for i in tqdm(range(waves.shape[0])):\n",
    "    for j in range(waves.shape[1]):\n",
    "        slic = waves1[i, j, :]\n",
    "        threshold1[i, j] = int(mean_pixels[i, j] + st_dev * std_pixels[i, j])\n",
    "        slic[slic > threshold1[i,j]] = 255\n",
    "        slic[slic <= threshold1[i,j]] = 0"
   ]
  },
  {
   "cell_type": "code",
   "execution_count": 14,
   "metadata": {},
   "outputs": [],
   "source": [
    "waves2 = waves.copy()\n",
    "\n"
   ]
  },
  {
   "cell_type": "code",
   "execution_count": 15,
   "metadata": {},
   "outputs": [],
   "source": [
    "threshold = (mean_pixels + st_dev * std_pixels).astype('uint8')\n",
    "threshold = np.expand_dims(threshold, axis=-1)\n",
    "\n",
    "waves2[waves2 > threshold] = 255\n",
    "waves2[waves2 <= threshold] = 0"
   ]
  },
  {
   "cell_type": "code",
   "execution_count": 16,
   "metadata": {},
   "outputs": [
    {
     "data": {
      "text/plain": [
       "True"
      ]
     },
     "execution_count": 16,
     "metadata": {},
     "output_type": "execute_result"
    }
   ],
   "source": [
    "np.all(waves1 == waves2)"
   ]
  },
  {
   "cell_type": "code",
   "execution_count": 17,
   "metadata": {},
   "outputs": [],
   "source": [
    "waves1 = waves2.copy()"
   ]
  },
  {
   "cell_type": "code",
   "execution_count": 18,
   "metadata": {},
   "outputs": [
    {
     "name": "stderr",
     "output_type": "stream",
     "text": [
      "100%|██████████████████████████████████████████████████████████████████████████████| 1200/1200 [00:13<00:00, 91.54it/s]\n"
     ]
    }
   ],
   "source": [
    "se1 = cv2.getStructuringElement(cv2.MORPH_RECT, (4, 4))\n",
    "se2 = cv2.getStructuringElement(cv2.MORPH_RECT, (4, 4))\n",
    "\n",
    "for i in tqdm(range(waves1.shape[2])):\n",
    "    slic = waves1[:, :, i]\n",
    "    mask = cv2.morphologyEx(slic, cv2.MORPH_OPEN, se1)\n",
    "    mask = cv2.morphologyEx(mask, cv2.MORPH_CLOSE, se2)\n",
    "    waves1[:, :, i] = mask\n",
    "\n",
    "waves1 = waves1.astype('bool')"
   ]
  },
  {
   "cell_type": "code",
   "execution_count": 19,
   "metadata": {},
   "outputs": [],
   "source": [
    "waves3 = waves2.copy()"
   ]
  },
  {
   "cell_type": "code",
   "execution_count": 20,
   "metadata": {},
   "outputs": [],
   "source": [
    "from joblib import Parallel, delayed\n",
    "\n",
    "def perform_opening_closing(slic, se1, se2):\n",
    "    \n",
    "\n",
    "    mask = cv2.morphologyEx(slic, cv2.MORPH_OPEN, se1)\n",
    "    mask = cv2.morphologyEx(mask, cv2.MORPH_CLOSE, se2)\n",
    "    return mask"
   ]
  },
  {
   "cell_type": "code",
   "execution_count": 105,
   "metadata": {},
   "outputs": [],
   "source": [
    "filename = 'Cont_AN_2_4.tif'\n",
    "path = r'C:\\Users\\Wojtek\\Documents\\Doktorat\\Astral\\data'"
   ]
  },
  {
   "cell_type": "code",
   "execution_count": 120,
   "metadata": {},
   "outputs": [],
   "source": [
    "from PIL import Image\n",
    "img = Image.open(os.path.join(path, filename))"
   ]
  },
  {
   "cell_type": "code",
   "execution_count": 109,
   "metadata": {},
   "outputs": [],
   "source": [
    "img.seek(0)"
   ]
  },
  {
   "cell_type": "code",
   "execution_count": 111,
   "metadata": {},
   "outputs": [],
   "source": [
    "no_frames = img.n_frames"
   ]
  },
  {
   "cell_type": "code",
   "execution_count": 177,
   "metadata": {},
   "outputs": [],
   "source": [
    "timespace = np.zeros(shape=img.size[::-1]+(no_frames,))"
   ]
  },
  {
   "cell_type": "code",
   "execution_count": 178,
   "metadata": {},
   "outputs": [
    {
     "data": {
      "text/plain": [
       "(608, 960, 1200)"
      ]
     },
     "execution_count": 178,
     "metadata": {},
     "output_type": "execute_result"
    }
   ],
   "source": [
    "timespace.shape"
   ]
  },
  {
   "cell_type": "code",
   "execution_count": 182,
   "metadata": {},
   "outputs": [
    {
     "name": "stderr",
     "output_type": "stream",
     "text": [
      "100%|█████████████████████████████████████████████████████████████████████████████| 1200/1200 [00:11<00:00, 105.77it/s]\n"
     ]
    }
   ],
   "source": [
    "for i in tqdm(range(no_frames)):\n",
    "    img.seek(i)\n",
    "    slic = np.array(img)\n",
    "    timespace[:,:,i] = slic\n",
    "#timespace = np.swapaxes(timespace, 0, 1)"
   ]
  },
  {
   "cell_type": "code",
   "execution_count": 11,
   "metadata": {},
   "outputs": [],
   "source": [
    "debug_path = r'C:\\Users\\Wojtek\\Documents\\Doktorat\\Astral\\data\\Cont_AN_2_2'\n",
    "waves = np.load(os.path.join(debug_path, \"waves_morph.npy\"))\n",
    "from skimage import measure\n",
    "volume_threshold = 45"
   ]
  },
  {
   "cell_type": "code",
   "execution_count": 21,
   "metadata": {},
   "outputs": [],
   "source": [
    "import numba\n",
    "\n",
    "#@numba.jit(parallel=True)\n",
    "def _indices_label(array, label, offset):\n",
    "    indices = np.argwhere(array == label)\n",
    "    indices = [np.concatenate([elem[:-1], [elem[-1] + offset]]) for elem in indices]\n",
    "    return indices"
   ]
  },
  {
   "cell_type": "code",
   "execution_count": 13,
   "metadata": {},
   "outputs": [],
   "source": [
    "def get_closest_threshold(myList, myNumber): \n",
    "    return min(myList, key=lambda x: abs(x - myNumber))\n",
    "\n",
    "\n",
    "\n",
    "def get_thresholds(waves, interval=50, axis=2):\n",
    "    slices = [slic for slic in range(waves.shape[axis]) if not np.any(waves[:, :, slic])]\n",
    "    length = waves.shape[2]\n",
    "    to_slice = [i*interval for i in range(int(length/50))]\n",
    "    out = list(map(lambda x: func(slices, x), to_slice))\n",
    "    out = [*out, length]\n",
    "    out = sorted(list(set(out)))\n",
    "    return out"
   ]
  },
  {
   "cell_type": "code",
   "execution_count": 14,
   "metadata": {},
   "outputs": [],
   "source": [
    "from numba import prange, njit\n",
    "import numba\n",
    "\n",
    "\n",
    "@njit(parallel=True)\n",
    "def get_cords(labelled, labels):\n",
    "    a = [0 for item in range(len(labels))]\n",
    "    for i in prange(len(labels)):\n",
    "        inds = np.argwhere(labelled == labels[i])\n",
    "        a.append(inds)\n",
    "    return a"
   ]
  },
  {
   "cell_type": "code",
   "execution_count": 17,
   "metadata": {},
   "outputs": [],
   "source": [
    "def get_pixels():\n",
    "    slices = [slic for slic in range(waves.shape[2]) if not np.any(waves[:, :, slic])]\n",
    "    length = waves.shape[2]\n",
    "    to_slice = [i*50 for i in range(int(length/50))]\n",
    "    def func(myList, myNumber): return min(myList, key=lambda x: abs(x - myNumber))\n",
    "    out = list(map(lambda x: func(slices, x), to_slice))\n",
    "    out = [*out, length]\n",
    "    out = sorted(list(set(out)))\n",
    "\n",
    "    total = []\n",
    "\n",
    "    for index in tqdm(range(len(out) - 1)):\n",
    "        current = waves[:, :, out[index]:out[index + 1]]\n",
    "        labelled = measure.label(current, connectivity=3).astype('uint16')\n",
    "        uniq, counts = np.unique(labelled, return_counts=True)\n",
    "        labels = uniq[1:]\n",
    "        counts = counts[1:]\n",
    "        label_counts = list(zip(labels, counts))\n",
    "        count_filtered = list(filter(lambda x: x[1] > volume_threshold, label_counts))\n",
    "        if not count_filtered:\n",
    "            continue\n",
    "            \n",
    "        labels, counts = zip(*count_filtered)\n",
    "        \n",
    "        object_cords = get_cords(labelled, labels)\n",
    "        \n",
    "#         object_cords = Parallel(n_jobs=3, verbose=10)(delayed(_indices_label)\n",
    "#                                                       (labelled, label, out[index]) for label in labels)\n",
    "        total.extend(object_cords)\n"
   ]
  },
  {
   "cell_type": "code",
   "execution_count": 18,
   "metadata": {},
   "outputs": [
    {
     "name": "stderr",
     "output_type": "stream",
     "text": [
      "  6%|█████▏                                                                             | 1/16 [00:00<00:14,  1.03it/s]\n"
     ]
    },
    {
     "ename": "TypingError",
     "evalue": "Failed in nopython mode pipeline (step: nopython frontend)\n\u001b[1m\u001b[1mCannot unify list(array(int64, 2d, A)) and list(int64) for '$phi16.0.5', defined at <ipython-input-14-b841b1574563> (7)\n\u001b[1m\nFile \"<ipython-input-14-b841b1574563>\", line 7:\u001b[0m\n\u001b[1mdef get_cords(labelled, labels):\n\u001b[1m    a = [0 for item in range(len(labels))]\n\u001b[0m    \u001b[1m^\u001b[0m\u001b[0m\n\u001b[0m\n\u001b[0m\u001b[1mDuring: typing of assignment at <ipython-input-14-b841b1574563> (7)\u001b[0m\n\u001b[1m\nFile \"<ipython-input-14-b841b1574563>\", line 7:\u001b[0m\n\u001b[1mdef get_cords(labelled, labels):\n\u001b[1m    a = [0 for item in range(len(labels))]\n\u001b[0m    \u001b[1m^\u001b[0m\u001b[0m\n",
     "output_type": "error",
     "traceback": [
      "\u001b[1;31m---------------------------------------------------------------------------\u001b[0m",
      "\u001b[1;31mTypingError\u001b[0m                               Traceback (most recent call last)",
      "\u001b[1;32m<ipython-input-18-f3b58f7c0471>\u001b[0m in \u001b[0;36m<module>\u001b[1;34m\u001b[0m\n\u001b[1;32m----> 1\u001b[1;33m \u001b[0mtotal\u001b[0m \u001b[1;33m=\u001b[0m \u001b[0mget_pixels\u001b[0m\u001b[1;33m(\u001b[0m\u001b[1;33m)\u001b[0m\u001b[1;33m\u001b[0m\u001b[1;33m\u001b[0m\u001b[0m\n\u001b[0m",
      "\u001b[1;32m<ipython-input-17-8c0007db7a46>\u001b[0m in \u001b[0;36mget_pixels\u001b[1;34m()\u001b[0m\n\u001b[0;32m     23\u001b[0m         \u001b[0mlabels\u001b[0m\u001b[1;33m,\u001b[0m \u001b[0mcounts\u001b[0m \u001b[1;33m=\u001b[0m \u001b[0mzip\u001b[0m\u001b[1;33m(\u001b[0m\u001b[1;33m*\u001b[0m\u001b[0mcount_filtered\u001b[0m\u001b[1;33m)\u001b[0m\u001b[1;33m\u001b[0m\u001b[1;33m\u001b[0m\u001b[0m\n\u001b[0;32m     24\u001b[0m \u001b[1;33m\u001b[0m\u001b[0m\n\u001b[1;32m---> 25\u001b[1;33m         \u001b[0mobject_cords\u001b[0m \u001b[1;33m=\u001b[0m \u001b[0mget_cords\u001b[0m\u001b[1;33m(\u001b[0m\u001b[0mlabelled\u001b[0m\u001b[1;33m,\u001b[0m \u001b[0mlabels\u001b[0m\u001b[1;33m)\u001b[0m\u001b[1;33m\u001b[0m\u001b[1;33m\u001b[0m\u001b[0m\n\u001b[0m\u001b[0;32m     26\u001b[0m \u001b[1;33m\u001b[0m\u001b[0m\n\u001b[0;32m     27\u001b[0m \u001b[1;31m#         object_cords = Parallel(n_jobs=3, verbose=10)(delayed(_indices_label)\u001b[0m\u001b[1;33m\u001b[0m\u001b[1;33m\u001b[0m\u001b[1;33m\u001b[0m\u001b[0m\n",
      "\u001b[1;32mc:\\programdata\\anaconda3\\envs\\astro\\lib\\site-packages\\numba\\core\\dispatcher.py\u001b[0m in \u001b[0;36m_compile_for_args\u001b[1;34m(self, *args, **kws)\u001b[0m\n\u001b[0;32m    413\u001b[0m                 \u001b[0me\u001b[0m\u001b[1;33m.\u001b[0m\u001b[0mpatch_message\u001b[0m\u001b[1;33m(\u001b[0m\u001b[0mmsg\u001b[0m\u001b[1;33m)\u001b[0m\u001b[1;33m\u001b[0m\u001b[1;33m\u001b[0m\u001b[0m\n\u001b[0;32m    414\u001b[0m \u001b[1;33m\u001b[0m\u001b[0m\n\u001b[1;32m--> 415\u001b[1;33m             \u001b[0merror_rewrite\u001b[0m\u001b[1;33m(\u001b[0m\u001b[0me\u001b[0m\u001b[1;33m,\u001b[0m \u001b[1;34m'typing'\u001b[0m\u001b[1;33m)\u001b[0m\u001b[1;33m\u001b[0m\u001b[1;33m\u001b[0m\u001b[0m\n\u001b[0m\u001b[0;32m    416\u001b[0m         \u001b[1;32mexcept\u001b[0m \u001b[0merrors\u001b[0m\u001b[1;33m.\u001b[0m\u001b[0mUnsupportedError\u001b[0m \u001b[1;32mas\u001b[0m \u001b[0me\u001b[0m\u001b[1;33m:\u001b[0m\u001b[1;33m\u001b[0m\u001b[1;33m\u001b[0m\u001b[0m\n\u001b[0;32m    417\u001b[0m             \u001b[1;31m# Something unsupported is present in the user code, add help info\u001b[0m\u001b[1;33m\u001b[0m\u001b[1;33m\u001b[0m\u001b[1;33m\u001b[0m\u001b[0m\n",
      "\u001b[1;32mc:\\programdata\\anaconda3\\envs\\astro\\lib\\site-packages\\numba\\core\\dispatcher.py\u001b[0m in \u001b[0;36merror_rewrite\u001b[1;34m(e, issue_type)\u001b[0m\n\u001b[0;32m    356\u001b[0m                 \u001b[1;32mraise\u001b[0m \u001b[0me\u001b[0m\u001b[1;33m\u001b[0m\u001b[1;33m\u001b[0m\u001b[0m\n\u001b[0;32m    357\u001b[0m             \u001b[1;32melse\u001b[0m\u001b[1;33m:\u001b[0m\u001b[1;33m\u001b[0m\u001b[1;33m\u001b[0m\u001b[0m\n\u001b[1;32m--> 358\u001b[1;33m                 \u001b[0mreraise\u001b[0m\u001b[1;33m(\u001b[0m\u001b[0mtype\u001b[0m\u001b[1;33m(\u001b[0m\u001b[0me\u001b[0m\u001b[1;33m)\u001b[0m\u001b[1;33m,\u001b[0m \u001b[0me\u001b[0m\u001b[1;33m,\u001b[0m \u001b[1;32mNone\u001b[0m\u001b[1;33m)\u001b[0m\u001b[1;33m\u001b[0m\u001b[1;33m\u001b[0m\u001b[0m\n\u001b[0m\u001b[0;32m    359\u001b[0m \u001b[1;33m\u001b[0m\u001b[0m\n\u001b[0;32m    360\u001b[0m         \u001b[0margtypes\u001b[0m \u001b[1;33m=\u001b[0m \u001b[1;33m[\u001b[0m\u001b[1;33m]\u001b[0m\u001b[1;33m\u001b[0m\u001b[1;33m\u001b[0m\u001b[0m\n",
      "\u001b[1;32mc:\\programdata\\anaconda3\\envs\\astro\\lib\\site-packages\\numba\\core\\utils.py\u001b[0m in \u001b[0;36mreraise\u001b[1;34m(tp, value, tb)\u001b[0m\n\u001b[0;32m     78\u001b[0m         \u001b[0mvalue\u001b[0m \u001b[1;33m=\u001b[0m \u001b[0mtp\u001b[0m\u001b[1;33m(\u001b[0m\u001b[1;33m)\u001b[0m\u001b[1;33m\u001b[0m\u001b[1;33m\u001b[0m\u001b[0m\n\u001b[0;32m     79\u001b[0m     \u001b[1;32mif\u001b[0m \u001b[0mvalue\u001b[0m\u001b[1;33m.\u001b[0m\u001b[0m__traceback__\u001b[0m \u001b[1;32mis\u001b[0m \u001b[1;32mnot\u001b[0m \u001b[0mtb\u001b[0m\u001b[1;33m:\u001b[0m\u001b[1;33m\u001b[0m\u001b[1;33m\u001b[0m\u001b[0m\n\u001b[1;32m---> 80\u001b[1;33m         \u001b[1;32mraise\u001b[0m \u001b[0mvalue\u001b[0m\u001b[1;33m.\u001b[0m\u001b[0mwith_traceback\u001b[0m\u001b[1;33m(\u001b[0m\u001b[0mtb\u001b[0m\u001b[1;33m)\u001b[0m\u001b[1;33m\u001b[0m\u001b[1;33m\u001b[0m\u001b[0m\n\u001b[0m\u001b[0;32m     81\u001b[0m     \u001b[1;32mraise\u001b[0m \u001b[0mvalue\u001b[0m\u001b[1;33m\u001b[0m\u001b[1;33m\u001b[0m\u001b[0m\n\u001b[0;32m     82\u001b[0m \u001b[1;33m\u001b[0m\u001b[0m\n",
      "\u001b[1;31mTypingError\u001b[0m: Failed in nopython mode pipeline (step: nopython frontend)\n\u001b[1m\u001b[1mCannot unify list(array(int64, 2d, A)) and list(int64) for '$phi16.0.5', defined at <ipython-input-14-b841b1574563> (7)\n\u001b[1m\nFile \"<ipython-input-14-b841b1574563>\", line 7:\u001b[0m\n\u001b[1mdef get_cords(labelled, labels):\n\u001b[1m    a = [0 for item in range(len(labels))]\n\u001b[0m    \u001b[1m^\u001b[0m\u001b[0m\n\u001b[0m\n\u001b[0m\u001b[1mDuring: typing of assignment at <ipython-input-14-b841b1574563> (7)\u001b[0m\n\u001b[1m\nFile \"<ipython-input-14-b841b1574563>\", line 7:\u001b[0m\n\u001b[1mdef get_cords(labelled, labels):\n\u001b[1m    a = [0 for item in range(len(labels))]\n\u001b[0m    \u001b[1m^\u001b[0m\u001b[0m\n"
     ]
    }
   ],
   "source": [
    "total = get_pixels()"
   ]
  },
  {
   "cell_type": "code",
   "execution_count": null,
   "metadata": {},
   "outputs": [],
   "source": []
  },
  {
   "cell_type": "code",
   "execution_count": 22,
   "metadata": {},
   "outputs": [
    {
     "name": "stderr",
     "output_type": "stream",
     "text": [
      "  0%|                                                                                           | 0/16 [00:00<?, ?it/s][Parallel(n_jobs=5)]: Using backend LokyBackend with 5 concurrent workers.\n",
      "[Parallel(n_jobs=5)]: Done   2 out of   8 | elapsed:    0.2s remaining:    0.8s\n",
      "[Parallel(n_jobs=5)]: Done   3 out of   8 | elapsed:    0.2s remaining:    0.4s\n",
      "[Parallel(n_jobs=5)]: Done   4 out of   8 | elapsed:    0.2s remaining:    0.2s\n",
      "[Parallel(n_jobs=5)]: Done   5 out of   8 | elapsed:    0.2s remaining:    0.1s\n",
      "[Parallel(n_jobs=5)]: Done   6 out of   8 | elapsed:    0.3s remaining:    0.0s\n",
      "[Parallel(n_jobs=5)]: Done   8 out of   8 | elapsed:    0.5s remaining:    0.0s\n",
      "[Parallel(n_jobs=5)]: Done   8 out of   8 | elapsed:    0.5s finished\n",
      " 12%|██████████▍                                                                        | 2/16 [00:01<00:07,  1.81it/s][Parallel(n_jobs=5)]: Using backend LokyBackend with 5 concurrent workers.\n",
      "[Parallel(n_jobs=5)]: Done   3 tasks      | elapsed:    0.2s\n",
      "[Parallel(n_jobs=5)]: Done   8 tasks      | elapsed:    0.4s\n",
      "[Parallel(n_jobs=5)]: Done  15 tasks      | elapsed:    0.8s\n",
      "[Parallel(n_jobs=5)]: Done  22 tasks      | elapsed:    1.1s\n",
      "[Parallel(n_jobs=5)]: Done  31 tasks      | elapsed:    1.5s\n",
      "[Parallel(n_jobs=5)]: Done  36 out of  40 | elapsed:    1.7s remaining:    0.1s\n",
      "[Parallel(n_jobs=5)]: Done  40 out of  40 | elapsed:    1.9s finished\n",
      " 19%|███████████████▌                                                                   | 3/16 [00:04<00:17,  1.38s/it][Parallel(n_jobs=5)]: Using backend LokyBackend with 5 concurrent workers.\n",
      "[Parallel(n_jobs=5)]: Batch computation too fast (0.0790s.) Setting batch_size=2.\n",
      "[Parallel(n_jobs=5)]: Done   2 out of   9 | elapsed:    0.0s remaining:    0.2s\n",
      "[Parallel(n_jobs=5)]: Done   3 out of   9 | elapsed:    0.0s remaining:    0.1s\n",
      "[Parallel(n_jobs=5)]: Done   4 out of   9 | elapsed:    0.0s remaining:    0.0s\n",
      "[Parallel(n_jobs=5)]: Done   5 out of   9 | elapsed:    0.0s remaining:    0.0s\n",
      "[Parallel(n_jobs=5)]: Done   6 out of   9 | elapsed:    0.0s remaining:    0.0s\n",
      "[Parallel(n_jobs=5)]: Done   7 out of   9 | elapsed:    0.0s remaining:    0.0s\n",
      "[Parallel(n_jobs=5)]: Done   9 out of   9 | elapsed:    0.1s remaining:    0.0s\n",
      "[Parallel(n_jobs=5)]: Done   9 out of   9 | elapsed:    0.1s finished\n",
      " 25%|████████████████████▊                                                              | 4/16 [00:05<00:13,  1.15s/it][Parallel(n_jobs=5)]: Using backend LokyBackend with 5 concurrent workers.\n",
      "[Parallel(n_jobs=5)]: Batch computation too fast (0.1980s.) Setting batch_size=2.\n",
      "[Parallel(n_jobs=5)]: Done   3 tasks      | elapsed:    0.1s\n",
      "[Parallel(n_jobs=5)]: Done   8 tasks      | elapsed:    0.3s\n",
      "[Parallel(n_jobs=5)]: Done  20 tasks      | elapsed:    0.8s\n",
      "[Parallel(n_jobs=5)]: Done  28 out of  37 | elapsed:    1.0s remaining:    0.3s\n",
      "[Parallel(n_jobs=5)]: Done  32 out of  37 | elapsed:    1.1s remaining:    0.1s\n",
      "[Parallel(n_jobs=5)]: Done  37 out of  37 | elapsed:    1.2s finished\n",
      " 31%|█████████████████████████▉                                                         | 5/16 [00:07<00:16,  1.48s/it][Parallel(n_jobs=5)]: Using backend LokyBackend with 5 concurrent workers.\n",
      "[Parallel(n_jobs=5)]: Batch computation too fast (0.1640s.) Setting batch_size=2.\n",
      "[Parallel(n_jobs=5)]: Done   3 tasks      | elapsed:    0.1s\n",
      "[Parallel(n_jobs=5)]: Done   8 tasks      | elapsed:    0.3s\n",
      "[Parallel(n_jobs=5)]: Done  24 out of  27 | elapsed:    0.7s remaining:    0.0s\n",
      "[Parallel(n_jobs=5)]: Done  27 out of  27 | elapsed:    0.8s remaining:    0.0s\n",
      "[Parallel(n_jobs=5)]: Done  27 out of  27 | elapsed:    0.8s finished\n",
      " 38%|███████████████████████████████▏                                                   | 6/16 [00:09<00:15,  1.60s/it][Parallel(n_jobs=5)]: Using backend LokyBackend with 5 concurrent workers.\n",
      "[Parallel(n_jobs=5)]: Batch computation too fast (0.1310s.) Setting batch_size=2.\n",
      "[Parallel(n_jobs=5)]: Done   3 tasks      | elapsed:    0.1s\n",
      "[Parallel(n_jobs=5)]: Done   8 out of  15 | elapsed:    0.2s remaining:    0.1s\n",
      "[Parallel(n_jobs=5)]: Done  10 out of  15 | elapsed:    0.2s remaining:    0.0s\n",
      "[Parallel(n_jobs=5)]: Done  12 out of  15 | elapsed:    0.3s remaining:    0.0s\n",
      "[Parallel(n_jobs=5)]: Done  15 out of  15 | elapsed:    0.3s finished\n",
      " 44%|████████████████████████████████████▎                                              | 7/16 [00:10<00:13,  1.45s/it][Parallel(n_jobs=5)]: Using backend LokyBackend with 5 concurrent workers.\n",
      "[Parallel(n_jobs=5)]: Batch computation too fast (0.1205s.) Setting batch_size=2.\n",
      "[Parallel(n_jobs=5)]: Done   3 tasks      | elapsed:    0.0s\n",
      "[Parallel(n_jobs=5)]: Done   8 out of  15 | elapsed:    0.1s remaining:    0.1s\n",
      "[Parallel(n_jobs=5)]: Done  10 out of  15 | elapsed:    0.2s remaining:    0.0s\n",
      "[Parallel(n_jobs=5)]: Done  12 out of  15 | elapsed:    0.2s remaining:    0.0s\n",
      "[Parallel(n_jobs=5)]: Done  15 out of  15 | elapsed:    0.7s finished\n",
      " 50%|█████████████████████████████████████████▌                                         | 8/16 [00:11<00:11,  1.42s/it][Parallel(n_jobs=5)]: Using backend LokyBackend with 5 concurrent workers.\n",
      "[Parallel(n_jobs=5)]: Done   1 tasks      | elapsed:    0.0s\n",
      "[Parallel(n_jobs=5)]: Batch computation too fast (0.0630s.) Setting batch_size=2.\n",
      "[Parallel(n_jobs=5)]: Done   2 out of   7 | elapsed:    0.0s remaining:    0.1s\n",
      "[Parallel(n_jobs=5)]: Done   3 out of   7 | elapsed:    0.0s remaining:    0.0s\n",
      "[Parallel(n_jobs=5)]: Done   4 out of   7 | elapsed:    0.0s remaining:    0.0s\n",
      "[Parallel(n_jobs=5)]: Done   5 out of   7 | elapsed:    0.0s remaining:    0.0s\n",
      "[Parallel(n_jobs=5)]: Done   7 out of   7 | elapsed:    0.0s remaining:    0.0s\n",
      "[Parallel(n_jobs=5)]: Done   7 out of   7 | elapsed:    0.0s finished\n",
      " 56%|██████████████████████████████████████████████▋                                    | 9/16 [00:12<00:07,  1.13s/it][Parallel(n_jobs=5)]: Using backend LokyBackend with 5 concurrent workers.\n",
      "[Parallel(n_jobs=5)]: Done   3 tasks      | elapsed:    0.2s\n",
      "[Parallel(n_jobs=5)]: Done   8 tasks      | elapsed:    0.4s\n",
      "[Parallel(n_jobs=5)]: Done  15 tasks      | elapsed:    0.9s\n",
      "[Parallel(n_jobs=5)]: Done  22 tasks      | elapsed:    1.2s\n",
      "[Parallel(n_jobs=5)]: Done  34 out of  39 | elapsed:    1.9s remaining:    0.2s\n",
      "[Parallel(n_jobs=5)]: Done  39 out of  39 | elapsed:    2.1s finished\n",
      " 62%|███████████████████████████████████████████████████▎                              | 10/16 [00:15<00:11,  1.91s/it][Parallel(n_jobs=5)]: Using backend LokyBackend with 5 concurrent workers.\n",
      "[Parallel(n_jobs=5)]: Batch computation too fast (0.1160s.) Setting batch_size=2.\n",
      "[Parallel(n_jobs=5)]: Done   4 out of  11 | elapsed:    0.0s remaining:    0.2s\n",
      "[Parallel(n_jobs=5)]: Done   6 out of  11 | elapsed:    0.1s remaining:    0.1s\n",
      "[Parallel(n_jobs=5)]: Done   8 out of  11 | elapsed:    0.1s remaining:    0.0s\n",
      "[Parallel(n_jobs=5)]: Done  11 out of  11 | elapsed:    0.2s finished\n",
      " 69%|████████████████████████████████████████████████████████▍                         | 11/16 [00:16<00:08,  1.61s/it][Parallel(n_jobs=5)]: Using backend LokyBackend with 5 concurrent workers.\n",
      "[Parallel(n_jobs=5)]: Batch computation too fast (0.1525s.) Setting batch_size=2.\n",
      "[Parallel(n_jobs=5)]: Done   3 tasks      | elapsed:    0.1s\n",
      "[Parallel(n_jobs=5)]: Done   9 out of  16 | elapsed:    0.2s remaining:    0.1s\n",
      "[Parallel(n_jobs=5)]: Done  11 out of  16 | elapsed:    0.3s remaining:    0.1s\n",
      "[Parallel(n_jobs=5)]: Done  13 out of  16 | elapsed:    0.4s remaining:    0.0s\n",
      "[Parallel(n_jobs=5)]: Done  16 out of  16 | elapsed:    0.7s finished\n",
      " 75%|█████████████████████████████████████████████████████████████▌                    | 12/16 [00:18<00:06,  1.59s/it][Parallel(n_jobs=5)]: Using backend LokyBackend with 5 concurrent workers.\n",
      "[Parallel(n_jobs=5)]: Done   3 tasks      | elapsed:    0.6s\n",
      "[Parallel(n_jobs=5)]: Done   8 tasks      | elapsed:    1.1s\n",
      "[Parallel(n_jobs=5)]: Done  15 tasks      | elapsed:    2.2s\n",
      "[Parallel(n_jobs=5)]: Done  22 tasks      | elapsed:    2.8s\n",
      "[Parallel(n_jobs=5)]: Done  31 tasks      | elapsed:    4.0s\n",
      "[Parallel(n_jobs=5)]: Done  40 tasks      | elapsed:    5.3s\n",
      "[Parallel(n_jobs=5)]: Done  51 tasks      | elapsed:    6.4s\n",
      "[Parallel(n_jobs=5)]: Done  62 tasks      | elapsed:    7.8s\n",
      "[Parallel(n_jobs=5)]: Done  75 tasks      | elapsed:    9.4s\n",
      "[Parallel(n_jobs=5)]: Done  88 tasks      | elapsed:   10.8s\n",
      "[Parallel(n_jobs=5)]: Done 103 tasks      | elapsed:   12.2s\n",
      "[Parallel(n_jobs=5)]: Done 118 tasks      | elapsed:   14.0s\n",
      "[Parallel(n_jobs=5)]: Done 135 tasks      | elapsed:   15.8s\n",
      "[Parallel(n_jobs=5)]: Done 150 out of 150 | elapsed:   17.2s finished\n",
      " 88%|███████████████████████████████████████████████████████████████████████▊          | 14/16 [00:38<00:08,  4.18s/it][Parallel(n_jobs=5)]: Using backend LokyBackend with 5 concurrent workers.\n",
      "[Parallel(n_jobs=5)]: Done   3 tasks      | elapsed:    0.5s\n",
      "[Parallel(n_jobs=5)]: Done   8 tasks      | elapsed:    1.1s\n",
      "[Parallel(n_jobs=5)]: Done  15 tasks      | elapsed:    2.0s\n",
      "[Parallel(n_jobs=5)]: Done  22 tasks      | elapsed:    2.6s\n",
      "[Parallel(n_jobs=5)]: Done  31 tasks      | elapsed:    3.7s\n",
      "[Parallel(n_jobs=5)]: Done  40 tasks      | elapsed:    5.1s\n",
      "[Parallel(n_jobs=5)]: Done  51 tasks      | elapsed:    6.7s\n",
      "[Parallel(n_jobs=5)]: Done  62 tasks      | elapsed:    7.6s\n",
      "[Parallel(n_jobs=5)]: Done  75 tasks      | elapsed:    8.8s\n",
      "[Parallel(n_jobs=5)]: Done  88 tasks      | elapsed:   10.2s\n",
      "[Parallel(n_jobs=5)]: Done 103 tasks      | elapsed:   11.9s\n",
      "[Parallel(n_jobs=5)]: Done 118 tasks      | elapsed:   13.8s\n",
      "[Parallel(n_jobs=5)]: Done 135 tasks      | elapsed:   15.7s\n",
      "[Parallel(n_jobs=5)]: Done 152 tasks      | elapsed:   17.4s\n",
      "[Parallel(n_jobs=5)]: Done 171 tasks      | elapsed:   19.4s\n",
      "[Parallel(n_jobs=5)]: Done 190 tasks      | elapsed:   21.0s\n",
      "[Parallel(n_jobs=5)]: Done 201 out of 201 | elapsed:   22.2s finished\n",
      "100%|██████████████████████████████████████████████████████████████████████████████████| 16/16 [01:03<00:00,  4.00s/it]\n"
     ]
    }
   ],
   "source": [
    "from joblib import Parallel, delayed\n",
    "\n",
    "slices = [slic for slic in range(waves.shape[2]) if not np.any(waves[:, :, slic])]\n",
    "length = waves.shape[2]\n",
    "\n",
    "to_slice = [i*50 for i in range(int(length/50))]\n",
    "def func(myList, myNumber): return min(myList, key=lambda x: abs(x - myNumber))\n",
    "out = list(map(lambda x: func(slices, x), to_slice))\n",
    "out = [*out, length]\n",
    "out = sorted(list(set(out)))\n",
    "\n",
    "total = []\n",
    "\n",
    "for index in tqdm(range(len(out) - 1)):\n",
    "    current = waves[:, :, out[index]:out[index + 1]]\n",
    "    labelled = measure.label(current, connectivity=3).astype('uint16')\n",
    "    last_slice = index\n",
    "    uniq, counts = np.unique(labelled, return_counts=True)\n",
    "    labels = uniq[1:]\n",
    "    counts = counts[1:]\n",
    "    label_counts = list(zip(labels, counts))\n",
    "    count_filtered = list(filter(lambda x: x[1] > volume_threshold, label_counts))\n",
    "    if not count_filtered:\n",
    "        continue\n",
    "    labels, counts = zip(*count_filtered)\n",
    "    object_cords = Parallel(n_jobs=5, verbose=10)(delayed(_indices_label)\n",
    "                                                  (labelled, label, out[index]) for label in labels)\n",
    "    total.extend(object_cords)\n"
   ]
  },
  {
   "cell_type": "code",
   "execution_count": null,
   "metadata": {},
   "outputs": [],
   "source": []
  },
  {
   "cell_type": "code",
   "execution_count": null,
   "metadata": {},
   "outputs": [],
   "source": []
  },
  {
   "cell_type": "code",
   "execution_count": null,
   "metadata": {},
   "outputs": [],
   "source": []
  },
  {
   "cell_type": "code",
   "execution_count": 183,
   "metadata": {},
   "outputs": [],
   "source": [
    "timespace = timespace.astype('uint8')"
   ]
  },
  {
   "cell_type": "code",
   "execution_count": 184,
   "metadata": {},
   "outputs": [],
   "source": [
    "timespace_orig = np.load(os.path.join(rootdir, 'timespace.npy'))"
   ]
  },
  {
   "cell_type": "code",
   "execution_count": 186,
   "metadata": {},
   "outputs": [
    {
     "data": {
      "text/plain": [
       "True"
      ]
     },
     "execution_count": 186,
     "metadata": {},
     "output_type": "execute_result"
    }
   ],
   "source": [
    "np.all(timespace == timespace_orig)"
   ]
  },
  {
   "cell_type": "code",
   "execution_count": 168,
   "metadata": {},
   "outputs": [
    {
     "data": {
      "text/plain": [
       "(960, 608, 1200)"
      ]
     },
     "execution_count": 168,
     "metadata": {},
     "output_type": "execute_result"
    }
   ],
   "source": [
    "timespace.shape"
   ]
  },
  {
   "cell_type": "code",
   "execution_count": 181,
   "metadata": {},
   "outputs": [
    {
     "data": {
      "text/plain": [
       "(608, 960, 1200)"
      ]
     },
     "execution_count": 181,
     "metadata": {},
     "output_type": "execute_result"
    }
   ],
   "source": [
    "timespace_orig.shape"
   ]
  },
  {
   "cell_type": "code",
   "execution_count": 158,
   "metadata": {},
   "outputs": [
    {
     "data": {
      "text/plain": [
       "array(None, dtype=object)"
      ]
     },
     "execution_count": 158,
     "metadata": {},
     "output_type": "execute_result"
    }
   ],
   "source": [
    "np.array(img.seek(0))"
   ]
  },
  {
   "cell_type": "code",
   "execution_count": 166,
   "metadata": {},
   "outputs": [
    {
     "data": {
      "text/plain": [
       "array([[[43, 40, 40, ..., 37, 31, 23],\n",
       "        [31, 37, 42, ..., 32, 32, 25],\n",
       "        [32, 37, 36, ..., 27, 33, 23],\n",
       "        ...,\n",
       "        [22, 26, 27, ..., 15, 10, 22],\n",
       "        [29, 27, 28, ..., 22, 18, 23],\n",
       "        [31, 32, 40, ..., 18, 17, 13]],\n",
       "\n",
       "       [[45, 37, 29, ..., 32, 30, 25],\n",
       "        [34, 36, 35, ..., 19, 26, 28],\n",
       "        [30, 29, 40, ..., 32, 23, 35],\n",
       "        ...,\n",
       "        [32, 28, 26, ..., 22, 20, 29],\n",
       "        [31, 33, 37, ..., 31, 24, 29],\n",
       "        [30, 36, 26, ..., 25, 26, 20]],\n",
       "\n",
       "       [[32, 26, 30, ..., 32, 25, 24],\n",
       "        [43, 35, 34, ..., 40, 24, 29],\n",
       "        [43, 30, 31, ..., 24, 26, 23],\n",
       "        ...,\n",
       "        [39, 30, 34, ..., 23, 19, 18],\n",
       "        [34, 30, 31, ..., 11, 23, 30],\n",
       "        [37, 31, 44, ..., 24, 25, 31]],\n",
       "\n",
       "       ...,\n",
       "\n",
       "       [[30, 28, 27, ..., 35, 27, 25],\n",
       "        [39, 29, 32, ..., 33, 30, 34],\n",
       "        [29, 31, 29, ..., 36, 30, 35],\n",
       "        ...,\n",
       "        [47, 56, 56, ..., 58, 62, 52],\n",
       "        [64, 70, 72, ..., 63, 72, 75],\n",
       "        [59, 62, 69, ..., 78, 68, 80]],\n",
       "\n",
       "       [[11, 27, 27, ..., 35, 32, 27],\n",
       "        [27, 31, 16, ..., 18, 33, 27],\n",
       "        [32, 34, 22, ..., 31, 22, 31],\n",
       "        ...,\n",
       "        [54, 56, 62, ..., 65, 55, 68],\n",
       "        [65, 63, 52, ..., 58, 69, 71],\n",
       "        [58, 59, 57, ..., 74, 68, 66]],\n",
       "\n",
       "       [[28, 28, 30, ..., 28, 28, 36],\n",
       "        [29, 30, 24, ..., 31, 26, 42],\n",
       "        [21, 28, 26, ..., 28, 25, 33],\n",
       "        ...,\n",
       "        [61, 50, 53, ..., 76, 70, 62],\n",
       "        [52, 61, 54, ..., 68, 71, 75],\n",
       "        [71, 61, 67, ..., 68, 71, 68]]], dtype=uint8)"
      ]
     },
     "execution_count": 166,
     "metadata": {},
     "output_type": "execute_result"
    }
   ],
   "source": [
    "timespace"
   ]
  },
  {
   "cell_type": "code",
   "execution_count": 165,
   "metadata": {},
   "outputs": [
    {
     "data": {
      "text/plain": [
       "array([[[43, 40, 40, ..., 37, 31, 23],\n",
       "        [45, 37, 29, ..., 32, 30, 25],\n",
       "        [32, 26, 30, ..., 32, 25, 24],\n",
       "        ...,\n",
       "        [30, 28, 27, ..., 35, 27, 25],\n",
       "        [11, 27, 27, ..., 35, 32, 27],\n",
       "        [28, 28, 30, ..., 28, 28, 36]],\n",
       "\n",
       "       [[31, 37, 42, ..., 32, 32, 25],\n",
       "        [34, 36, 35, ..., 19, 26, 28],\n",
       "        [43, 35, 34, ..., 40, 24, 29],\n",
       "        ...,\n",
       "        [39, 29, 32, ..., 33, 30, 34],\n",
       "        [27, 31, 16, ..., 18, 33, 27],\n",
       "        [29, 30, 24, ..., 31, 26, 42]],\n",
       "\n",
       "       [[32, 37, 36, ..., 27, 33, 23],\n",
       "        [30, 29, 40, ..., 32, 23, 35],\n",
       "        [43, 30, 31, ..., 24, 26, 23],\n",
       "        ...,\n",
       "        [29, 31, 29, ..., 36, 30, 35],\n",
       "        [32, 34, 22, ..., 31, 22, 31],\n",
       "        [21, 28, 26, ..., 28, 25, 33]],\n",
       "\n",
       "       ...,\n",
       "\n",
       "       [[22, 26, 27, ..., 15, 10, 22],\n",
       "        [32, 28, 26, ..., 22, 20, 29],\n",
       "        [39, 30, 34, ..., 23, 19, 18],\n",
       "        ...,\n",
       "        [47, 56, 56, ..., 58, 62, 52],\n",
       "        [54, 56, 62, ..., 65, 55, 68],\n",
       "        [61, 50, 53, ..., 76, 70, 62]],\n",
       "\n",
       "       [[29, 27, 28, ..., 22, 18, 23],\n",
       "        [31, 33, 37, ..., 31, 24, 29],\n",
       "        [34, 30, 31, ..., 11, 23, 30],\n",
       "        ...,\n",
       "        [64, 70, 72, ..., 63, 72, 75],\n",
       "        [65, 63, 52, ..., 58, 69, 71],\n",
       "        [52, 61, 54, ..., 68, 71, 75]],\n",
       "\n",
       "       [[31, 32, 40, ..., 18, 17, 13],\n",
       "        [30, 36, 26, ..., 25, 26, 20],\n",
       "        [37, 31, 44, ..., 24, 25, 31],\n",
       "        ...,\n",
       "        [59, 62, 69, ..., 78, 68, 80],\n",
       "        [58, 59, 57, ..., 74, 68, 66],\n",
       "        [71, 61, 67, ..., 68, 71, 68]]], dtype=uint8)"
      ]
     },
     "execution_count": 165,
     "metadata": {},
     "output_type": "execute_result"
    }
   ],
   "source": [
    "timespace_orig"
   ]
  },
  {
   "cell_type": "code",
   "execution_count": 146,
   "metadata": {},
   "outputs": [],
   "source": [
    "slic = img.seek(2)"
   ]
  },
  {
   "cell_type": "code",
   "execution_count": 147,
   "metadata": {},
   "outputs": [],
   "source": [
    "slic"
   ]
  },
  {
   "cell_type": "code",
   "execution_count": 141,
   "metadata": {},
   "outputs": [
    {
     "data": {
      "text/plain": [
       "(608, 960, 1200)"
      ]
     },
     "execution_count": 141,
     "metadata": {},
     "output_type": "execute_result"
    }
   ],
   "source": [
    "timespace.shape"
   ]
  },
  {
   "cell_type": "code",
   "execution_count": 142,
   "metadata": {},
   "outputs": [
    {
     "data": {
      "text/plain": [
       "(608, 960, 1200)"
      ]
     },
     "execution_count": 142,
     "metadata": {},
     "output_type": "execute_result"
    }
   ],
   "source": [
    "timespace_orig.shape"
   ]
  },
  {
   "cell_type": "code",
   "execution_count": 143,
   "metadata": {},
   "outputs": [
    {
     "data": {
      "text/plain": [
       "array([[[0, 0, 0, ..., 0, 0, 0],\n",
       "        [0, 0, 0, ..., 0, 0, 0],\n",
       "        [0, 0, 0, ..., 0, 0, 0],\n",
       "        ...,\n",
       "        [0, 0, 0, ..., 0, 0, 0],\n",
       "        [0, 0, 0, ..., 0, 0, 0],\n",
       "        [0, 0, 0, ..., 0, 0, 0]],\n",
       "\n",
       "       [[0, 0, 0, ..., 0, 0, 0],\n",
       "        [0, 0, 0, ..., 0, 0, 0],\n",
       "        [0, 0, 0, ..., 0, 0, 0],\n",
       "        ...,\n",
       "        [0, 0, 0, ..., 0, 0, 0],\n",
       "        [0, 0, 0, ..., 0, 0, 0],\n",
       "        [0, 0, 0, ..., 0, 0, 0]],\n",
       "\n",
       "       [[0, 0, 0, ..., 0, 0, 0],\n",
       "        [0, 0, 0, ..., 0, 0, 0],\n",
       "        [0, 0, 0, ..., 0, 0, 0],\n",
       "        ...,\n",
       "        [0, 0, 0, ..., 0, 0, 0],\n",
       "        [0, 0, 0, ..., 0, 0, 0],\n",
       "        [0, 0, 0, ..., 0, 0, 0]],\n",
       "\n",
       "       ...,\n",
       "\n",
       "       [[0, 0, 0, ..., 0, 0, 0],\n",
       "        [0, 0, 0, ..., 0, 0, 0],\n",
       "        [0, 0, 0, ..., 0, 0, 0],\n",
       "        ...,\n",
       "        [0, 0, 0, ..., 0, 0, 0],\n",
       "        [0, 0, 0, ..., 0, 0, 0],\n",
       "        [0, 0, 0, ..., 0, 0, 0]],\n",
       "\n",
       "       [[0, 0, 0, ..., 0, 0, 0],\n",
       "        [0, 0, 0, ..., 0, 0, 0],\n",
       "        [0, 0, 0, ..., 0, 0, 0],\n",
       "        ...,\n",
       "        [0, 0, 0, ..., 0, 0, 0],\n",
       "        [0, 0, 0, ..., 0, 0, 0],\n",
       "        [0, 0, 0, ..., 0, 0, 0]],\n",
       "\n",
       "       [[0, 0, 0, ..., 0, 0, 0],\n",
       "        [0, 0, 0, ..., 0, 0, 0],\n",
       "        [0, 0, 0, ..., 0, 0, 0],\n",
       "        ...,\n",
       "        [0, 0, 0, ..., 0, 0, 0],\n",
       "        [0, 0, 0, ..., 0, 0, 0],\n",
       "        [0, 0, 0, ..., 0, 0, 0]]], dtype=uint8)"
      ]
     },
     "execution_count": 143,
     "metadata": {},
     "output_type": "execute_result"
    }
   ],
   "source": [
    "timespace"
   ]
  },
  {
   "cell_type": "code",
   "execution_count": null,
   "metadata": {},
   "outputs": [],
   "source": []
  },
  {
   "cell_type": "code",
   "execution_count": null,
   "metadata": {},
   "outputs": [],
   "source": []
  },
  {
   "cell_type": "code",
   "execution_count": 76,
   "metadata": {},
   "outputs": [
    {
     "ename": "error",
     "evalue": "OpenCV(4.2.0) C:\\projects\\opencv-python\\opencv\\modules\\core\\src\\matrix.cpp:757: error: (-215:Assertion failed) dims <= 2 && step[0] > 0 in function 'cv::Mat::locateROI'\n",
     "output_type": "error",
     "traceback": [
      "\u001b[1;31m---------------------------------------------------------------------------\u001b[0m",
      "\u001b[1;31merror\u001b[0m                                     Traceback (most recent call last)",
      "\u001b[1;32m<ipython-input-76-7b70a22a53f0>\u001b[0m in \u001b[0;36m<module>\u001b[1;34m\u001b[0m\n\u001b[0;32m      3\u001b[0m \u001b[1;33m\u001b[0m\u001b[0m\n\u001b[0;32m      4\u001b[0m \u001b[1;33m\u001b[0m\u001b[0m\n\u001b[1;32m----> 5\u001b[1;33m \u001b[0mmask\u001b[0m \u001b[1;33m=\u001b[0m \u001b[0mcv2\u001b[0m\u001b[1;33m.\u001b[0m\u001b[0mmorphologyEx\u001b[0m\u001b[1;33m(\u001b[0m\u001b[0mwaves3\u001b[0m\u001b[1;33m,\u001b[0m \u001b[0mcv2\u001b[0m\u001b[1;33m.\u001b[0m\u001b[0mMORPH_OPEN\u001b[0m\u001b[1;33m,\u001b[0m \u001b[0mse1\u001b[0m\u001b[1;33m)\u001b[0m\u001b[1;33m\u001b[0m\u001b[1;33m\u001b[0m\u001b[0m\n\u001b[0m\u001b[0;32m      6\u001b[0m \u001b[0mmask\u001b[0m \u001b[1;33m=\u001b[0m \u001b[0mcv2\u001b[0m\u001b[1;33m.\u001b[0m\u001b[0mmorphologyEx\u001b[0m\u001b[1;33m(\u001b[0m\u001b[0mmask\u001b[0m\u001b[1;33m,\u001b[0m \u001b[0mcv2\u001b[0m\u001b[1;33m.\u001b[0m\u001b[0mMORPH_CLOSE\u001b[0m\u001b[1;33m,\u001b[0m \u001b[0mse2\u001b[0m\u001b[1;33m)\u001b[0m\u001b[1;33m\u001b[0m\u001b[1;33m\u001b[0m\u001b[0m\n\u001b[0;32m      7\u001b[0m \u001b[1;31m#waves3[:, :, i] = mask\u001b[0m\u001b[1;33m\u001b[0m\u001b[1;33m\u001b[0m\u001b[1;33m\u001b[0m\u001b[0m\n",
      "\u001b[1;31merror\u001b[0m: OpenCV(4.2.0) C:\\projects\\opencv-python\\opencv\\modules\\core\\src\\matrix.cpp:757: error: (-215:Assertion failed) dims <= 2 && step[0] > 0 in function 'cv::Mat::locateROI'\n"
     ]
    }
   ],
   "source": [
    "se1 = cv2.getStructuringElement(cv2.MORPH_RECT, (4, 4))\n",
    "se2 = cv2.getStructuringElement(cv2.MORPH_RECT, (4, 4))\n",
    "\n",
    "\n",
    "mask = cv2.morphologyEx(waves3, cv2.MORPH_OPEN, se1)\n",
    "mask = cv2.morphologyEx(mask, cv2.MORPH_CLOSE, se2)\n",
    "#waves3[:, :, i] = mask\n",
    "\n",
    "#waves3 = waves3.astype('bool')"
   ]
  },
  {
   "cell_type": "code",
   "execution_count": null,
   "metadata": {},
   "outputs": [],
   "source": []
  },
  {
   "cell_type": "code",
   "execution_count": null,
   "metadata": {},
   "outputs": [],
   "source": []
  },
  {
   "cell_type": "code",
   "execution_count": null,
   "metadata": {},
   "outputs": [],
   "source": []
  },
  {
   "cell_type": "code",
   "execution_count": 50,
   "metadata": {},
   "outputs": [],
   "source": []
  },
  {
   "cell_type": "code",
   "execution_count": 2,
   "metadata": {},
   "outputs": [],
   "source": [
    "path = \"D:\\Doktorat\\Essen\\debug_data\\waves_norm.npy\""
   ]
  },
  {
   "cell_type": "code",
   "execution_count": 3,
   "metadata": {},
   "outputs": [],
   "source": [
    "a = [2, 3, 6, 7]"
   ]
  },
  {
   "cell_type": "code",
   "execution_count": 63,
   "metadata": {},
   "outputs": [],
   "source": [
    "waves_norm = np.load(path)"
   ]
  },
  {
   "cell_type": "code",
   "execution_count": 64,
   "metadata": {},
   "outputs": [],
   "source": [
    "which = 200"
   ]
  },
  {
   "cell_type": "code",
   "execution_count": 65,
   "metadata": {},
   "outputs": [
    {
     "data": {
      "text/plain": [
       "<matplotlib.image.AxesImage at 0x1bdd1aa39c8>"
      ]
     },
     "execution_count": 65,
     "metadata": {},
     "output_type": "execute_result"
    },
    {
     "data": {
      "image/png": "[encoded data removed]",
      "text/plain": [
       "<Figure size 432x288 with 1 Axes>"
      ]
     },
     "metadata": {
      "needs_background": "light"
     },
     "output_type": "display_data"
    }
   ],
   "source": [
    "plt.imshow(waves_norm[:,which,:])"
   ]
  },
  {
   "cell_type": "code",
   "execution_count": 100,
   "metadata": {},
   "outputs": [],
   "source": [
    "example = waves_norm[:,which,:].copy()"
   ]
  },
  {
   "cell_type": "code",
   "execution_count": 101,
   "metadata": {},
   "outputs": [],
   "source": [
    "example = cv.Canny(example,30,100,apertureSize = 3)"
   ]
  },
  {
   "cell_type": "code",
   "execution_count": 109,
   "metadata": {},
   "outputs": [
    {
     "data": {
      "text/plain": [
       "<matplotlib.image.AxesImage at 0x1bdd2fc1a88>"
      ]
     },
     "execution_count": 109,
     "metadata": {},
     "output_type": "execute_result"
    },
    {
     "data": {
      "image/png": "[encoded data removed]",
      "text/plain": [
       "<Figure size 432x288 with 1 Axes>"
      ]
     },
     "metadata": {
      "needs_background": "light"
     },
     "output_type": "display_data"
    }
   ],
   "source": [
    "plt.imshow(example)"
   ]
  },
  {
   "cell_type": "code",
   "execution_count": 107,
   "metadata": {},
   "outputs": [],
   "source": [
    "\n",
    "minLineLength=100\n",
    "lines = cv.HoughLinesP(image=example,rho=0.1,theta=np.pi/180, threshold=200,lines=np.array([]), minLineLength=minLineLength,maxLineGap=80)\n"
   ]
  },
  {
   "cell_type": "code",
   "execution_count": 108,
   "metadata": {},
   "outputs": [
    {
     "ename": "AttributeError",
     "evalue": "'NoneType' object has no attribute 'shape'",
     "output_type": "error",
     "traceback": [
      "\u001b[1;31m---------------------------------------------------------------------------\u001b[0m",
      "\u001b[1;31mAttributeError\u001b[0m                            Traceback (most recent call last)",
      "\u001b[1;32m<ipython-input-108-b187fedc86b4>\u001b[0m in \u001b[0;36m<module>\u001b[1;34m\u001b[0m\n\u001b[1;32m----> 1\u001b[1;33m \u001b[0ma\u001b[0m\u001b[1;33m,\u001b[0m\u001b[0mb\u001b[0m\u001b[1;33m,\u001b[0m\u001b[0mc\u001b[0m \u001b[1;33m=\u001b[0m \u001b[0mlines\u001b[0m\u001b[1;33m.\u001b[0m\u001b[0mshape\u001b[0m\u001b[1;33m\u001b[0m\u001b[1;33m\u001b[0m\u001b[0m\n\u001b[0m\u001b[0;32m      2\u001b[0m \u001b[1;32mfor\u001b[0m \u001b[0mi\u001b[0m \u001b[1;32min\u001b[0m \u001b[0mrange\u001b[0m\u001b[1;33m(\u001b[0m\u001b[0ma\u001b[0m\u001b[1;33m)\u001b[0m\u001b[1;33m:\u001b[0m\u001b[1;33m\u001b[0m\u001b[1;33m\u001b[0m\u001b[0m\n\u001b[0;32m      3\u001b[0m     \u001b[0mcv\u001b[0m\u001b[1;33m.\u001b[0m\u001b[0mline\u001b[0m\u001b[1;33m(\u001b[0m\u001b[0mexample\u001b[0m\u001b[1;33m,\u001b[0m \u001b[1;33m(\u001b[0m\u001b[0mlines\u001b[0m\u001b[1;33m[\u001b[0m\u001b[0mi\u001b[0m\u001b[1;33m]\u001b[0m\u001b[1;33m[\u001b[0m\u001b[1;36m0\u001b[0m\u001b[1;33m]\u001b[0m\u001b[1;33m[\u001b[0m\u001b[1;36m0\u001b[0m\u001b[1;33m]\u001b[0m\u001b[1;33m,\u001b[0m \u001b[0mlines\u001b[0m\u001b[1;33m[\u001b[0m\u001b[0mi\u001b[0m\u001b[1;33m]\u001b[0m\u001b[1;33m[\u001b[0m\u001b[1;36m0\u001b[0m\u001b[1;33m]\u001b[0m\u001b[1;33m[\u001b[0m\u001b[1;36m1\u001b[0m\u001b[1;33m]\u001b[0m\u001b[1;33m)\u001b[0m\u001b[1;33m,\u001b[0m \u001b[1;33m(\u001b[0m\u001b[0mlines\u001b[0m\u001b[1;33m[\u001b[0m\u001b[0mi\u001b[0m\u001b[1;33m]\u001b[0m\u001b[1;33m[\u001b[0m\u001b[1;36m0\u001b[0m\u001b[1;33m]\u001b[0m\u001b[1;33m[\u001b[0m\u001b[1;36m2\u001b[0m\u001b[1;33m]\u001b[0m\u001b[1;33m,\u001b[0m \u001b[0mlines\u001b[0m\u001b[1;33m[\u001b[0m\u001b[0mi\u001b[0m\u001b[1;33m]\u001b[0m\u001b[1;33m[\u001b[0m\u001b[1;36m0\u001b[0m\u001b[1;33m]\u001b[0m\u001b[1;33m[\u001b[0m\u001b[1;36m3\u001b[0m\u001b[1;33m]\u001b[0m\u001b[1;33m)\u001b[0m\u001b[1;33m,\u001b[0m \u001b[1;33m(\u001b[0m\u001b[1;36m255\u001b[0m\u001b[1;33m,\u001b[0m \u001b[1;36m255\u001b[0m\u001b[1;33m,\u001b[0m \u001b[1;36m255\u001b[0m\u001b[1;33m)\u001b[0m\u001b[1;33m,\u001b[0m \u001b[1;36m3\u001b[0m\u001b[1;33m,\u001b[0m \u001b[0mcv\u001b[0m\u001b[1;33m.\u001b[0m\u001b[0mLINE_AA\u001b[0m\u001b[1;33m)\u001b[0m\u001b[1;33m\u001b[0m\u001b[1;33m\u001b[0m\u001b[0m\n\u001b[0;32m      4\u001b[0m     \u001b[0mcv\u001b[0m\u001b[1;33m.\u001b[0m\u001b[0mimwrite\u001b[0m\u001b[1;33m(\u001b[0m\u001b[1;34m'houghlines5.jpg'\u001b[0m\u001b[1;33m,\u001b[0m\u001b[0mexample\u001b[0m\u001b[1;33m)\u001b[0m\u001b[1;33m\u001b[0m\u001b[1;33m\u001b[0m\u001b[0m\n",
      "\u001b[1;31mAttributeError\u001b[0m: 'NoneType' object has no attribute 'shape'"
     ]
    }
   ],
   "source": [
    "a,b,c = lines.shape\n",
    "for i in range(a):\n",
    "    cv.line(example, (lines[i][0][0], lines[i][0][1]), (lines[i][0][2], lines[i][0][3]), (255, 255, 255), 3, cv.LINE_AA)\n",
    "    cv.imwrite('houghlines5.jpg',example)"
   ]
  },
  {
   "cell_type": "code",
   "execution_count": 105,
   "metadata": {},
   "outputs": [
    {
     "data": {
      "text/plain": [
       "<matplotlib.image.AxesImage at 0x1bdd2f60248>"
      ]
     },
     "execution_count": 105,
     "metadata": {},
     "output_type": "execute_result"
    },
    {
     "data": {
      "image/png": "[encoded data removed]",
      "text/plain": [
       "<Figure size 432x288 with 1 Axes>"
      ]
     },
     "metadata": {
      "needs_background": "light"
     },
     "output_type": "display_data"
    }
   ],
   "source": [
    "plt.imshow(example)"
   ]
  },
  {
   "cell_type": "code",
   "execution_count": null,
   "metadata": {},
   "outputs": [],
   "source": []
  },
  {
   "cell_type": "code",
   "execution_count": null,
   "metadata": {},
   "outputs": [],
   "source": []
  },
  {
   "cell_type": "code",
   "execution_count": null,
   "metadata": {},
   "outputs": [],
   "source": []
  },
  {
   "cell_type": "code",
   "execution_count": null,
   "metadata": {},
   "outputs": [],
   "source": []
  },
  {
   "cell_type": "code",
   "execution_count": null,
   "metadata": {},
   "outputs": [],
   "source": []
  }
 ],
 "metadata": {
  "kernelspec": {
   "display_name": "Python 3",
   "language": "python",
   "name": "python3"
  },
  "language_info": {
   "codemirror_mode": {
    "name": "ipython",
    "version": 3
   },
   "file_extension": ".py",
   "mimetype": "text/x-python",
   "name": "python",
   "nbconvert_exporter": "python",
   "pygments_lexer": "ipython3",
   "version": "3.7.7"
  }
 },
 "nbformat": 4,
 "nbformat_minor": 4
}
