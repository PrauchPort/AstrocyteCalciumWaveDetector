{
 "cells": [
  {
   "cell_type": "code",
   "execution_count": 1,
   "metadata": {},
   "outputs": [],
   "source": [
    "import os\n",
    "os.chdir('../')"
   ]
  },
  {
   "cell_type": "code",
   "execution_count": 2,
   "metadata": {},
   "outputs": [],
   "source": [
    "import numpy as np\n",
    "import os\n",
    "import skimage\n",
    "from skimage import measure\n",
    "from joblib import Parallel, delayed\n",
    "from astrowaves.gather import CalciumWaveDetector\n",
    "from tqdm import tqdm"
   ]
  },
  {
   "cell_type": "code",
   "execution_count": 37,
   "metadata": {},
   "outputs": [],
   "source": [
    "path = r'C:\\Users\\Wojtek\\Documents\\Doktorat\\Astral\\data\\output_data'"
   ]
  },
  {
   "cell_type": "code",
   "execution_count": 38,
   "metadata": {},
   "outputs": [],
   "source": [
    "waves = np.load(os.path.join(path, 'waves_morph.npy'))"
   ]
  },
  {
   "cell_type": "code",
   "execution_count": 39,
   "metadata": {},
   "outputs": [],
   "source": [
    "slices = [slic for slic in range(waves.shape[2]) if not np.any(waves[:,:,slic])]"
   ]
  },
  {
   "cell_type": "code",
   "execution_count": 40,
   "metadata": {},
   "outputs": [],
   "source": [
    "length = waves.shape[2]"
   ]
  },
  {
   "cell_type": "code",
   "execution_count": 41,
   "metadata": {},
   "outputs": [],
   "source": [
    "to_slice = [int(length/4), int(length/2), int(3*length/4)]"
   ]
  },
  {
   "cell_type": "code",
   "execution_count": 42,
   "metadata": {},
   "outputs": [
    {
     "data": {
      "text/plain": [
       "[300, 600, 900]"
      ]
     },
     "execution_count": 42,
     "metadata": {},
     "output_type": "execute_result"
    }
   ],
   "source": [
    "to_slice"
   ]
  },
  {
   "cell_type": "code",
   "execution_count": 43,
   "metadata": {},
   "outputs": [],
   "source": [
    "func = lambda myList, myNumber: min(myList, key=lambda x:abs(x-myNumber))"
   ]
  },
  {
   "cell_type": "code",
   "execution_count": 44,
   "metadata": {},
   "outputs": [],
   "source": [
    "out = list(map(lambda x: func(slices, x), to_slice))"
   ]
  },
  {
   "cell_type": "code",
   "execution_count": 45,
   "metadata": {},
   "outputs": [],
   "source": [
    "out = [0, *out, length]"
   ]
  },
  {
   "cell_type": "code",
   "execution_count": 46,
   "metadata": {},
   "outputs": [
    {
     "data": {
      "text/plain": [
       "[0, 349, 582, 835, 1200]"
      ]
     },
     "execution_count": 46,
     "metadata": {},
     "output_type": "execute_result"
    }
   ],
   "source": [
    "out"
   ]
  },
  {
   "cell_type": "code",
   "execution_count": 82,
   "metadata": {},
   "outputs": [],
   "source": [
    "def indices_label(array, label, offset):\n",
    "    indices = np.argwhere(array == label)\n",
    "    indices = [np.concatenate([elem[:-1],[elem[-1] + offset]]) for elem in indices]\n",
    "    return indices"
   ]
  },
  {
   "cell_type": "code",
   "execution_count": 83,
   "metadata": {},
   "outputs": [
    {
     "name": "stderr",
     "output_type": "stream",
     "text": [
      "  0%|                                                                                            | 0/4 [00:00<?, ?it/s][Parallel(n_jobs=3)]: Using backend LokyBackend with 3 concurrent workers.\n",
      "[Parallel(n_jobs=3)]: Done   2 tasks      | elapsed:    0.9s\n",
      "[Parallel(n_jobs=3)]: Done   7 tasks      | elapsed:    2.4s\n",
      "[Parallel(n_jobs=3)]: Done  12 tasks      | elapsed:    3.2s\n",
      "[Parallel(n_jobs=3)]: Done  19 tasks      | elapsed:    5.6s\n",
      "[Parallel(n_jobs=3)]: Done  26 tasks      | elapsed:    7.1s\n",
      "[Parallel(n_jobs=3)]: Done  35 tasks      | elapsed:    9.4s\n",
      "[Parallel(n_jobs=3)]: Done  44 tasks      | elapsed:   11.9s\n",
      "[Parallel(n_jobs=3)]: Done  55 tasks      | elapsed:   14.8s\n",
      "[Parallel(n_jobs=3)]: Done  66 tasks      | elapsed:   18.0s\n",
      "[Parallel(n_jobs=3)]: Done  79 tasks      | elapsed:   21.1s\n",
      "[Parallel(n_jobs=3)]: Done  92 tasks      | elapsed:   24.4s\n",
      "[Parallel(n_jobs=3)]: Done 107 tasks      | elapsed:   28.9s\n",
      "[Parallel(n_jobs=3)]: Done 122 tasks      | elapsed:   32.9s\n",
      "[Parallel(n_jobs=3)]: Done 139 tasks      | elapsed:   37.0s\n",
      "[Parallel(n_jobs=3)]: Done 156 tasks      | elapsed:   42.1s\n",
      "[Parallel(n_jobs=3)]: Done 175 tasks      | elapsed:   47.2s\n",
      "[Parallel(n_jobs=3)]: Done 194 tasks      | elapsed:   52.4s\n",
      "[Parallel(n_jobs=3)]: Done 215 tasks      | elapsed:   57.9s\n",
      "[Parallel(n_jobs=3)]: Done 236 tasks      | elapsed:  1.1min\n",
      "[Parallel(n_jobs=3)]: Done 259 tasks      | elapsed:  1.2min\n",
      "[Parallel(n_jobs=3)]: Done 282 tasks      | elapsed:  1.2min\n",
      "[Parallel(n_jobs=3)]: Done 307 tasks      | elapsed:  1.4min\n",
      "[Parallel(n_jobs=3)]: Done 332 tasks      | elapsed:  1.5min\n",
      "[Parallel(n_jobs=3)]: Done 359 tasks      | elapsed:  1.6min\n",
      "[Parallel(n_jobs=3)]: Done 386 tasks      | elapsed:  1.7min\n",
      "[Parallel(n_jobs=3)]: Done 415 tasks      | elapsed:  1.8min\n",
      "[Parallel(n_jobs=3)]: Done 444 tasks      | elapsed:  1.9min\n",
      "[Parallel(n_jobs=3)]: Done 475 tasks      | elapsed:  2.1min\n",
      "[Parallel(n_jobs=3)]: Done 506 tasks      | elapsed:  2.2min\n",
      "[Parallel(n_jobs=3)]: Done 539 tasks      | elapsed:  2.3min\n",
      "[Parallel(n_jobs=3)]: Done 572 tasks      | elapsed:  2.5min\n",
      "[Parallel(n_jobs=3)]: Done 596 out of 596 | elapsed:  2.6min finished\n",
      " 25%|████████████████████▊                                                              | 1/4 [02:40<08:00, 160.21s/it][Parallel(n_jobs=3)]: Using backend LokyBackend with 3 concurrent workers.\n",
      "[Parallel(n_jobs=3)]: Done   2 tasks      | elapsed:    0.6s\n",
      "[Parallel(n_jobs=3)]: Done   7 tasks      | elapsed:    1.6s\n",
      "[Parallel(n_jobs=3)]: Done  12 tasks      | elapsed:    2.6s\n",
      "[Parallel(n_jobs=3)]: Done  19 tasks      | elapsed:    4.3s\n",
      "[Parallel(n_jobs=3)]: Done  26 tasks      | elapsed:    5.4s\n",
      "[Parallel(n_jobs=3)]: Done  36 out of  36 | elapsed:    7.1s finished\n",
      " 50%|█████████████████████████████████████████▌                                         | 2/4 [02:50<03:50, 115.25s/it][Parallel(n_jobs=3)]: Using backend LokyBackend with 3 concurrent workers.\n",
      "[Parallel(n_jobs=3)]: Done   2 tasks      | elapsed:    0.6s\n",
      "[Parallel(n_jobs=3)]: Done   7 tasks      | elapsed:    1.6s\n",
      "[Parallel(n_jobs=3)]: Done  12 tasks      | elapsed:    2.5s\n",
      "[Parallel(n_jobs=3)]: Done  19 tasks      | elapsed:    3.9s\n",
      "[Parallel(n_jobs=3)]: Done  26 tasks      | elapsed:    5.8s\n",
      "[Parallel(n_jobs=3)]: Done  35 tasks      | elapsed:    7.9s\n",
      "[Parallel(n_jobs=3)]: Done  44 tasks      | elapsed:    9.6s\n",
      "[Parallel(n_jobs=3)]: Done  55 tasks      | elapsed:   11.7s\n",
      "[Parallel(n_jobs=3)]: Done  66 tasks      | elapsed:   14.0s\n",
      "[Parallel(n_jobs=3)]: Done  79 tasks      | elapsed:   16.1s\n",
      "[Parallel(n_jobs=3)]: Done  95 out of  95 | elapsed:   19.1s finished\n",
      " 75%|███████████████████████████████████████████████████████████████                     | 3/4 [03:13<01:27, 87.48s/it][Parallel(n_jobs=3)]: Using backend LokyBackend with 3 concurrent workers.\n",
      "[Parallel(n_jobs=3)]: Done   2 tasks      | elapsed:    1.0s\n",
      "[Parallel(n_jobs=3)]: Done   7 tasks      | elapsed:    3.3s\n",
      "[Parallel(n_jobs=3)]: Done  12 tasks      | elapsed:    4.8s\n",
      "[Parallel(n_jobs=3)]: Done  19 tasks      | elapsed:    7.0s\n",
      "[Parallel(n_jobs=3)]: Done  26 tasks      | elapsed:    8.6s\n",
      "[Parallel(n_jobs=3)]: Done  35 tasks      | elapsed:   11.0s\n",
      "[Parallel(n_jobs=3)]: Done  44 tasks      | elapsed:   13.5s\n",
      "[Parallel(n_jobs=3)]: Done  55 tasks      | elapsed:   16.6s\n",
      "[Parallel(n_jobs=3)]: Done  66 tasks      | elapsed:   19.6s\n",
      "[Parallel(n_jobs=3)]: Done  79 tasks      | elapsed:   23.5s\n",
      "[Parallel(n_jobs=3)]: Done  92 tasks      | elapsed:   26.9s\n",
      "[Parallel(n_jobs=3)]: Done 107 tasks      | elapsed:   30.9s\n",
      "[Parallel(n_jobs=3)]: Done 122 tasks      | elapsed:   37.4s\n",
      "[Parallel(n_jobs=3)]: Done 139 tasks      | elapsed:   42.3s\n",
      "[Parallel(n_jobs=3)]: Done 156 tasks      | elapsed:   50.9s\n",
      "[Parallel(n_jobs=3)]: Done 175 tasks      | elapsed:   57.5s\n",
      "[Parallel(n_jobs=3)]: Done 194 tasks      | elapsed:  1.0min\n",
      "[Parallel(n_jobs=3)]: Done 215 tasks      | elapsed:  1.1min\n",
      "[Parallel(n_jobs=3)]: Done 236 tasks      | elapsed:  1.2min\n",
      "[Parallel(n_jobs=3)]: Done 259 tasks      | elapsed:  1.3min\n",
      "[Parallel(n_jobs=3)]: Done 282 tasks      | elapsed:  1.4min\n",
      "[Parallel(n_jobs=3)]: Done 307 tasks      | elapsed:  1.6min\n",
      "[Parallel(n_jobs=3)]: Done 314 out of 314 | elapsed:  1.6min finished\n",
      "100%|████████████████████████████████████████████████████████████████████████████████████| 4/4 [04:53<00:00, 73.39s/it]\n"
     ]
    }
   ],
   "source": [
    "last_slice = 0\n",
    "maximum = 0\n",
    "\n",
    "total = []\n",
    "\n",
    "for index in tqdm(range(len(out)-1)):\n",
    "    current = waves[:,:,out[index]:out[index+1]]\n",
    "    labelled = measure.label(current, connectivity=3).astype('uint16')\n",
    "    last_slice = index\n",
    "    uniq, counts = np.unique(labelled, return_counts=True)\n",
    "    labels = uniq[1:]\n",
    "    counts = counts[1:]\n",
    "    label_counts = list(zip(labels, counts))\n",
    "    count_filtered = list(filter(lambda x: x[1] > 30, label_counts))\n",
    "    labels, counts = zip(*count_filtered)\n",
    "    object_cords = Parallel(n_jobs=3, verbose=10)(delayed(indices_label)\n",
    "                                                  (labelled, label, out[index]) for label in labels)\n",
    "    total.extend(object_cords)"
   ]
  },
  {
   "cell_type": "code",
   "execution_count": null,
   "metadata": {},
   "outputs": [],
   "source": [
    "total"
   ]
  },
  {
   "cell_type": "code",
   "execution_count": null,
   "metadata": {},
   "outputs": [],
   "source": []
  },
  {
   "cell_type": "code",
   "execution_count": null,
   "metadata": {},
   "outputs": [],
   "source": []
  },
  {
   "cell_type": "code",
   "execution_count": null,
   "metadata": {},
   "outputs": [],
   "source": []
  },
  {
   "cell_type": "code",
   "execution_count": null,
   "metadata": {},
   "outputs": [],
   "source": []
  },
  {
   "cell_type": "code",
   "execution_count": null,
   "metadata": {},
   "outputs": [],
   "source": []
  },
  {
   "cell_type": "code",
   "execution_count": null,
   "metadata": {},
   "outputs": [],
   "source": []
  },
  {
   "cell_type": "code",
   "execution_count": null,
   "metadata": {},
   "outputs": [],
   "source": []
  },
  {
   "cell_type": "code",
   "execution_count": null,
   "metadata": {},
   "outputs": [],
   "source": []
  },
  {
   "cell_type": "code",
   "execution_count": null,
   "metadata": {},
   "outputs": [],
   "source": []
  },
  {
   "cell_type": "code",
   "execution_count": null,
   "metadata": {},
   "outputs": [],
   "source": []
  },
  {
   "cell_type": "code",
   "execution_count": null,
   "metadata": {},
   "outputs": [],
   "source": []
  },
  {
   "cell_type": "code",
   "execution_count": null,
   "metadata": {},
   "outputs": [],
   "source": []
  },
  {
   "cell_type": "code",
   "execution_count": null,
   "metadata": {},
   "outputs": [],
   "source": [
    "uniq, counts = np.unique(waves_labelled, return_counts=True)\n",
    "labels = uniq[1:]\n",
    "counts = counts[1:]\n",
    "label_counts = list(zip(labels, counts))\n",
    "count_filtered = list(filter(lambda x: x[1] > 30, label_counts))\n",
    "labels, counts = zip(*count_filtered)\n",
    "object_cords = Parallel(n_jobs=3, verbose=10)(delayed(self._indices_label)\n",
    "                                              (waves_labelled, label) for label in labels)"
   ]
  },
  {
   "cell_type": "code",
   "execution_count": null,
   "metadata": {},
   "outputs": [],
   "source": []
  },
  {
   "cell_type": "code",
   "execution_count": null,
   "metadata": {},
   "outputs": [],
   "source": []
  }
 ],
 "metadata": {
  "kernelspec": {
   "display_name": "Python 3",
   "language": "python",
   "name": "python3"
  },
  "language_info": {
   "codemirror_mode": {
    "name": "ipython",
    "version": 3
   },
   "file_extension": ".py",
   "mimetype": "text/x-python",
   "name": "python",
   "nbconvert_exporter": "python",
   "pygments_lexer": "ipython3",
   "version": "3.7.7"
  }
 },
 "nbformat": 4,
 "nbformat_minor": 4
}
